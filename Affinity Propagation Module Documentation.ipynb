{
 "cells": [
  {
   "cell_type": "markdown",
   "metadata": {},
   "source": [
    "# Affinity Propagation Clustering on Pypark"
   ]
  },
  {
   "cell_type": "code",
   "execution_count": 64,
   "metadata": {
    "collapsed": false
   },
   "outputs": [
    {
     "data": {
      "text/html": [
       "<div id=\"my_id_menu_nb\">run previous cell, wait for 2 seconds</div>\n",
       "<script>\n",
       "function repeat_indent_string(n){\n",
       "    var a = \"\" ;\n",
       "    for ( ; n > 0 ; --n) {\n",
       "        a += \"    \";\n",
       "    }\n",
       "    return a;\n",
       "}\n",
       "var update_menu_string = function(begin, lfirst, llast, sformat, send, keep_item) {\n",
       "    var anchors = document.getElementsByClassName(\"section\");\n",
       "    if (anchors.length == 0) {\n",
       "        anchors = document.getElementsByClassName(\"text_cell_render rendered_html\");\n",
       "    }\n",
       "    var i,t;\n",
       "    var text_menu = begin;\n",
       "    var text_memo = \"<pre>\\nlength:\" + anchors.length + \"\\n\";\n",
       "    var ind = \"\";\n",
       "    var memo_level = 1;\n",
       "    var href;\n",
       "    var tags = [];\n",
       "    var main_item = 0;\n",
       "    for (i = 0; i <= llast; i++) {\n",
       "        tags.push(\"h\" + i);\n",
       "    }\n",
       "\n",
       "    for (i = 0; i < anchors.length; i++) {\n",
       "        text_memo += \"**\" + anchors[i].id + \"--\\n\";\n",
       "\n",
       "        var child = null;\n",
       "        for(t = 0; t < tags.length; t++) {\n",
       "            var r = anchors[i].getElementsByTagName(tags[t]);\n",
       "            if (r.length > 0) {\n",
       "child = r[0];\n",
       "break;\n",
       "            }\n",
       "        }\n",
       "        if (child == null){\n",
       "            text_memo += \"null\\n\";\n",
       "            continue;\n",
       "        }\n",
       "        if (anchors[i].hasAttribute(\"id\")) {\n",
       "            // when converted in RST\n",
       "            href = anchors[i].id;\n",
       "            text_memo += \"#1-\" + href;\n",
       "            // passer à child suivant (le chercher)\n",
       "        }\n",
       "        else if (child.hasAttribute(\"id\")) {\n",
       "            // in a notebook\n",
       "            href = child.id;\n",
       "            text_memo += \"#2-\" + href;\n",
       "        }\n",
       "        else {\n",
       "            text_memo += \"#3-\" + \"*\" + \"\\n\";\n",
       "            continue;\n",
       "        }\n",
       "        var title = child.textContent;\n",
       "        var level = parseInt(child.tagName.substring(1,2));\n",
       "\n",
       "        text_memo += \"--\" + level + \"?\" + lfirst + \"--\" + title + \"\\n\";\n",
       "\n",
       "        if ((level < lfirst) || (level > llast)) {\n",
       "            continue ;\n",
       "        }\n",
       "        if (title.endsWith('¶')) {\n",
       "            title = title.substring(0,title.length-1).replace(\"<\", \"&lt;\").replace(\">\", \"&gt;\").replace(\"&\", \"&amp;\")\n",
       "        }\n",
       "\n",
       "        if (title.length == 0) {\n",
       "            continue;\n",
       "        }\n",
       "\n",
       "        while (level < memo_level) {\n",
       "            text_menu += \"</ul>\\n\";\n",
       "            memo_level -= 1;\n",
       "        }\n",
       "        if (level == lfirst) {\n",
       "            main_item += 1;\n",
       "        }\n",
       "        if (keep_item != -1 && main_item != keep_item + 1) {\n",
       "            // alert(main_item + \" - \" + level + \" - \" + keep_item);\n",
       "            continue;\n",
       "        }\n",
       "        while (level > memo_level) {\n",
       "            text_menu += \"<ul>\\n\";\n",
       "            memo_level += 1;\n",
       "        }\n",
       "        text_menu += repeat_indent_string(level-2) + sformat.replace(\"__HREF__\", href).replace(\"__TITLE__\", title);\n",
       "    }\n",
       "    while (1 < memo_level) {\n",
       "        text_menu += \"</ul>\\n\";\n",
       "        memo_level -= 1;\n",
       "    }\n",
       "    text_menu += send;\n",
       "    //text_menu += \"\\n\" + text_memo;\n",
       "    return text_menu;\n",
       "};\n",
       "var update_menu = function() {\n",
       "    var sbegin = \"\";\n",
       "    var sformat = '<li><a href=\"#__HREF__\">__TITLE__</a></li>';\n",
       "    var send = \"\";\n",
       "    var keep_item = -1;\n",
       "    var text_menu = update_menu_string(sbegin, 2, 4, sformat, send, keep_item);\n",
       "    var menu = document.getElementById(\"my_id_menu_nb\");\n",
       "    menu.innerHTML=text_menu;\n",
       "};\n",
       "window.setTimeout(update_menu,2000);\n",
       "            </script>"
      ],
      "text/plain": [
       "<IPython.core.display.HTML object>"
      ]
     },
     "execution_count": 64,
     "metadata": {},
     "output_type": "execute_result"
    }
   ],
   "source": [
    "from jyquickhelper import add_notebook_menu\n",
    "add_notebook_menu()"
   ]
  },
  {
   "cell_type": "markdown",
   "metadata": {},
   "source": [
    "# Code"
   ]
  },
  {
   "cell_type": "code",
   "execution_count": 1,
   "metadata": {
    "collapsed": true
   },
   "outputs": [],
   "source": [
    "import numpy as np"
   ]
  },
  {
   "cell_type": "code",
   "execution_count": 2,
   "metadata": {
    "collapsed": true
   },
   "outputs": [],
   "source": [
    "from itertools import combinations_with_replacement"
   ]
  },
  {
   "cell_type": "code",
   "execution_count": 3,
   "metadata": {
    "collapsed": false
   },
   "outputs": [],
   "source": [
    "def euclidean_similarity(vector1,vector2):\n",
    "    \"\"\"Compute the Euclidean similarity (i.e : - Euclidean distance) between 2 vectors\n",
    "    ----------------\n",
    "    Parameter types:\n",
    "    vector1: iterable\n",
    "    vector2: iterable \"\"\"\n",
    "    sim = [(a - b)**2 for a, b in zip(vector1, vector2)]\n",
    "    sim = -sum(sim)\n",
    "    return(sim)\n",
    "\n",
    "def parseLine(line, sep) :\n",
    "    \"\"\" Parse the RDD\n",
    "    ----------------\n",
    "    Parameter types:\n",
    "    line: string\n",
    "    sep: string (ex: ',' or ';')\"\"\"\n",
    "    parsed_line = line.split(sep)\n",
    "    parsed_line =  [float(_) for _ in parsed_line]\n",
    "    return(parsed_line)\n",
    "\n",
    "def similarity_matrix_per_iterator(iterator, similarity_function):\n",
    "    \"\"\" Compute the similarity matrix\n",
    "    ----------------\n",
    "    Parameter types:\n",
    "    iterator: iterator from mapPartitions\n",
    "    similarity_function: function (ex: euclidean_similarity)\"\"\"\n",
    "    #Store partition in a list and reindex it\n",
    "    partition = list(iterator)\n",
    "    nb_elements = len(partition)\n",
    "    ind = range(nb_elements)\n",
    "    #Compute similarities\n",
    "    similarity_matrix = np.empty([nb_elements, nb_elements]) #More efficient than np.zeros to initialize\n",
    "    for item1,item2 in combinations_with_replacement(zip(ind, partition),2) :\n",
    "        sim = similarity_function(item1[1][1:],item2[1][1:]) #compute similarity\n",
    "        similarity_matrix[item1[0], item2[0]] = sim\n",
    "        if item1[0] != item2[0]:\n",
    "            similarity_matrix[item2[0], item1[0]] = sim\n",
    "    return(nb_elements, ind, partition, similarity_matrix)\n",
    "\n",
    "def add_preferences_to_similarity_matrix(similarity_matrix, preference_type =\"median\"):\n",
    "    \"\"\" Update the preference value in the similarity matrix, i.e : updates the value of s(k,k)\n",
    "    Several methods are available depending on the number of clusters expected by the user :\n",
    "    -'median' : default method. Takes the median of the similarities as the preference value. \n",
    "    This method leads to a medium to large number of clusters\n",
    "    -'minimum' : Takes the minimum of the similarities as the preference value. This method leads to a small number of clusters.\n",
    "    -'random' : Takes a random number in the preference range mentioned in the article as the preference value. \n",
    "    ----------------\n",
    "    Parameter types:\n",
    "    similarity_matrix: symetric numpy array\n",
    "    preference_type: string (only \"median\" is available for the moment)\"\"\"\n",
    "    if preference_type == \"median\":\n",
    "        preference_value = np.median(similarity_matrix)\n",
    "    np.fill_diagonal(similarity_matrix, preference_value)\n",
    "\n",
    "def update_responsibility_and_availability(similarity_matrix, responsibility_matrix, availability_matrix, ind, lambda_damping):\n",
    "    \"\"\" Update the responsibility matrix and the availability matrix \n",
    "    ----------------\n",
    "    Parameter types:\n",
    "    similarity_matrix: symetric numpy array\n",
    "    responsibility_matrix: numpy array\n",
    "    availability_matrix: numpy array\n",
    "    ind: list or numpy vector (list of the \"new\" index, i.e : index on the partition and not globally in the dataset)\n",
    "    lambda_damping: float between 0 and 1\"\"\"\n",
    "    #1. Update Responsibility\n",
    "    temp_sum_availability_similarity = np.add(availability_matrix, similarity_matrix) #compute a(i,k) + s(i,k) for all i,k\n",
    "    argmax_resp = np.argmax(temp_sum_availability_similarity, axis = 1 ) #compute argmax { a(i,k') + s(i,k') } on ALL k' when i is fixed\n",
    "    max_resp =  temp_sum_availability_similarity[ind,argmax_resp][:,None] #NB : [:,None] converts the row of max values into a column\n",
    "    #Compute the new r(i,k) when k is not equal to argmax { a(i,k') + s(i,k') }\n",
    "    temp_responsibility_matrix = np.subtract(similarity_matrix,max_resp) \n",
    "    #Compute the new r(i,k) when k is equal to  argmax { a(i,k') + s(i,k') } :\n",
    "    temp_sum_availability_similarity[ind,argmax_resp] = -np.inf #Set the (i,k)th element to -inf when k is an argmax for row i\n",
    "    max_resp2 = np.max(temp_sum_availability_similarity, axis = 1) #compute new max for row i (the real max value of the row being set to -inf here)\n",
    "    temp_responsibility_matrix[ind,argmax_resp] = similarity_matrix[ind,argmax_resp] - max_resp2\n",
    "    #Damping\n",
    "    responsibility_matrix = (1 - lambda_damping) * temp_responsibility_matrix + lambda_damping*responsibility_matrix\n",
    "    #Remove temporary variables\n",
    "    del temp_sum_availability_similarity\n",
    "    del temp_responsibility_matrix\n",
    "    \n",
    "    #2. Update Availability for i != k\n",
    "    temp_matrix = np.maximum(0, responsibility_matrix)\n",
    "    temp_matrix = np.sum(temp_matrix, axis = 0) - temp_matrix #Compute el(i,k) = sum(max(0,r(i',k)) - max(0, r(i,k))\n",
    "    temp_matrix_diag = temp_matrix.diagonal() #Store the updated a(k,k) values\n",
    "    temp_matrix = np.minimum(0, responsibility_matrix.diagonal()) + temp_matrix\n",
    "    temp_matrix = np.minimum(0, temp_matrix)\n",
    "\n",
    "    #3. Update Availability for i ==k\n",
    "    np.fill_diagonal(temp_matrix, temp_matrix_diag) #set the diagonal values to the updated a(k,k) values computed above\n",
    "    \n",
    "    #Damping\n",
    "    availability_matrix = (1 - lambda_damping) * temp_matrix + lambda_damping*availability_matrix\n",
    "    return(responsibility_matrix, availability_matrix)\n",
    "\n",
    "def center_decision(responsibility_matrix, availability_matrix):\n",
    "    \"\"\" Find the center chosen by each individual \n",
    "    (using the \"new\" index, i.e: the index on the partition and not the global index of the dataset)\n",
    "    ----------------\n",
    "    Parameter types:\n",
    "    responsibility_matrix: numpy array\n",
    "    availability_matrix: numpy array\"\"\"\n",
    "    temp_matrix = responsibility_matrix + availability_matrix\n",
    "    decision = np.argmax(temp_matrix, axis = 1)\n",
    "    return(decision)\n",
    "\n",
    "def affinity_propagation_clustering_per_partition(iterator, similarity_function = euclidean_similarity , preference_type =\"median\", \n",
    "                                                  lambda_damping = 0.5, max_iter = 200, max_unchange_count = 3):\n",
    "    \"\"\"\n",
    "    Terminal conditions : max_iter or unchanged decisions for some number of iterations\n",
    "    We need to add the terminal condition (2) of the article\"\"\"\n",
    "    #1. Compute similarity matrix\n",
    "    nb_elements, ind, partition, similarity_matrix = similarity_matrix_per_iterator(iterator, similarity_function)\n",
    "    #similarity_matrix = convert_sim_to_numpy(nb_elements, similarity_matrix)\n",
    "    #2. Compute preferences\n",
    "    add_preferences_to_similarity_matrix(similarity_matrix, preference_type)\n",
    "    #3. Initialize\n",
    "    responsibility_matrix = np.zeros([nb_elements, nb_elements]) \n",
    "    availability_matrix = np.zeros([nb_elements, nb_elements])\n",
    "    decision = ind\n",
    "    unchange_count = 0\n",
    "    #4. Update responsibility and availability until one of the terminal conditions is met\n",
    "    for it in xrange(max_iter) :\n",
    "        responsibility_matrix, availability_matrix = update_responsibility_and_availability(similarity_matrix, responsibility_matrix, \n",
    "                                                                                            availability_matrix, ind, lambda_damping)\n",
    "        temp_decision = center_decision(responsibility_matrix, availability_matrix)\n",
    "        if np.array_equal(temp_decision, decision) : \n",
    "            unchange_count = unchange_count + 1\n",
    "            if unchange_count >=  max_unchange_count :\n",
    "                decision = temp_decision\n",
    "                break\n",
    "        else: \n",
    "            decision = temp_decision\n",
    "    #5. Aggregate points with the same centers and add the center coordinates (using the initial index)\n",
    "    decision = sorted(zip(decision, ind), key = lambda x : x[0])\n",
    "    from itertools import groupby\n",
    "    output = list()\n",
    "    for key, group in groupby(decision, lambda x: x[0]):\n",
    "        output.append((partition[key][0], [partition[j][0] for i,j in group], partition[key][1:], similarity_matrix[0,0]))\n",
    "    return(output)"
   ]
  },
  {
   "cell_type": "code",
   "execution_count": 4,
   "metadata": {
    "collapsed": true
   },
   "outputs": [],
   "source": [
    "def getRoots3(aNeigh):\n",
    "    \"\"\" Connected Components Research in a Graph\n",
    "    ----------------\n",
    "    Parameter types:\n",
    "    aNeigh: graph repesented by a dictionnary with key = node and value = list of connected nodes \"\"\"\n",
    "    def findRoot(aNode,aRoot):\n",
    "        while aNode != aRoot[aNode][0]:\n",
    "            aNode = aRoot[aNode][0]\n",
    "        return (aNode,aRoot[aNode][1])\n",
    "    myRoot = {} \n",
    "    for myNode in aNeigh.keys():\n",
    "        myRoot[myNode] = (myNode,0)  \n",
    "    for myI in aNeigh: \n",
    "        for myJ in aNeigh[myI]: \n",
    "            (myRoot_myI,myDepthMyI) = findRoot(myI,myRoot) \n",
    "            (myRoot_myJ,myDepthMyJ) = findRoot(myJ,myRoot) \n",
    "            if myRoot_myI != myRoot_myJ: \n",
    "                myMin = myRoot_myI\n",
    "                myMax = myRoot_myJ \n",
    "                if  myDepthMyI > myDepthMyJ: \n",
    "                    myMin = myRoot_myJ\n",
    "                    myMax = myRoot_myI\n",
    "                myRoot[myMax] = (myMax,max(myRoot[myMin][1]+1,myRoot[myMax][1]))\n",
    "                myRoot[myMin] = (myRoot[myMax][0],-1) \n",
    "    myToRet = {}\n",
    "    for myI in aNeigh: \n",
    "        myToRet[myI] = findRoot(myI,myRoot)[0]\n",
    "    return myToRet  "
   ]
  },
  {
   "cell_type": "code",
   "execution_count": 55,
   "metadata": {
    "collapsed": false
   },
   "outputs": [],
   "source": [
    "def affinity_propagation_clustering(name_file, sep = ',', cluster_aggregation_parameter = 0.5, similarity_function = euclidean_similarity,\n",
    "                                   preference_type =\"median\", lambda_damping = 0.5, max_iter = 200, max_unchange_count = 3):\n",
    "    \"\"\" Create an RDD from a text file and return the Affinity Propagation Clustering result \n",
    "    ----------------\n",
    "    Parameter types:\n",
    "    name_file: string (path to text file) \"\"\"\n",
    "    rdd = sc.textFile(name_file)\n",
    "    rdd = rdd.map(lambda line : parseLine(line, sep))\n",
    "    #1. Affinity Propagation Clustering on each partition\n",
    "    rdd2 = rdd.mapPartitions(lambda iterator : affinity_propagation_clustering_per_partition(iterator, \n",
    "                                                                                             similarity_function = euclidean_similarity , \n",
    "                                                                                             preference_type = preference_type, \n",
    "                                                                                             lambda_damping = lambda_damping, \n",
    "                                                                                             max_iter = max_iter, \n",
    "                                                                                             max_unchange_count = max_unchange_count), \n",
    "                         preservesPartitioning=True)\n",
    "    #2. Compute similarities between all centers\n",
    "    rdd_dist = rdd2.cartesian(rdd2).map(lambda u : ((u[0][0], u[1][0]),euclidean_similarity(u[0][2], u[1][2]),\n",
    "                                     cluster_aggregation_parameter*((u[0][3] + u[1][3])/2)))\n",
    "    #3. Filter centers which are close to each other (the threshold depends on the preference values and the cluster_aggregation_parameter)\n",
    "    edges = rdd_dist.filter(lambda u : u[1] > u[2]).map(lambda u: u[0])\n",
    "    #4. Format the selected centers as the nodes of a graph where there is an edge is their similarity was higher than the threshold\n",
    "    edges = edges.map(lambda nameTuple: (nameTuple[0], [ nameTuple[1] ])) \\\n",
    "    .reduceByKey(lambda a, b: a + b)  # combine lists: ([1,2,3] + [4,5]) becomes [1,2,3,4,5]\n",
    "    #5. Collect results on the master CPU and find the connected components on the graph (centers that need to be aggregated in one center)\n",
    "    connected_components = getRoots3(dict(edges.collect()))\n",
    "    #6. Broadcast the results from the master to the workers\n",
    "    connected_components_broadcast = sc.broadcast(connected_components)\n",
    "    #7. Assign the new centers to the Affinity Propagation Clustering on each partition results\n",
    "    rdd3 = rdd2.map(lambda (center, points, coordinates, preference) : (connected_components_broadcast.value[center], points))\n",
    "    #8. Aggregate the lists of points that belong to the same cluster (same center = same key)\n",
    "    result_clustering = rdd3.reduceByKey(lambda a, b: a + b)\n",
    "    return(result_clustering)"
   ]
  },
  {
   "cell_type": "markdown",
   "metadata": {},
   "source": [
    "# Présentation de l'algorithme distribué Affinity Propagation sur les données Iris"
   ]
  },
  {
   "cell_type": "markdown",
   "metadata": {},
   "source": [
    "Comme les auteurs de l'article, nous utilisons le petit jeu de données Iris dans un premier temps pour tester l'algorithme."
   ]
  },
  {
   "cell_type": "markdown",
   "metadata": {},
   "source": [
    "Avant d'utiliser ces données, il faut d'abord les indexer puisque PySpark ne stocke pas de position sous le format RDD. Il faut également supprimer les labels (le type d'iris). Enfin, les données sont ordonnées par type de fleur : il faut donc effectuer un shuffle en amont."
   ]
  },
  {
   "cell_type": "code",
   "execution_count": 8,
   "metadata": {
    "collapsed": true
   },
   "outputs": [],
   "source": [
    "import random"
   ]
  },
  {
   "cell_type": "code",
   "execution_count": 9,
   "metadata": {
    "collapsed": true
   },
   "outputs": [],
   "source": [
    "def index_dataset(in_filename, out_filename, sep = ','):   \n",
    "    with open(out_filename, 'w') as output_file:\n",
    "        with open(in_filename, 'r') as input_file :\n",
    "            lines = list(input_file)\n",
    "            random.seed( 3 )\n",
    "            random.shuffle(lines)\n",
    "            for i,line in enumerate(lines) :\n",
    "                without_label = line.split(',')[:-1]\n",
    "                output_line = str(i) +',' + ','.join(without_label) + '\\n'\n",
    "                output_file.write(output_line)\n",
    "        "
   ]
  },
  {
   "cell_type": "code",
   "execution_count": 10,
   "metadata": {
    "collapsed": false
   },
   "outputs": [],
   "source": [
    "index_dataset(\"iris_data.txt\", \"iris_data_indexed.txt\", sep = ',')"
   ]
  },
  {
   "cell_type": "markdown",
   "metadata": {},
   "source": [
    "Nous stockons maintenant les données dans un RDD. A ce stade, elles sont donc découpées et réparties entre un certain nombre de CPU."
   ]
  },
  {
   "cell_type": "code",
   "execution_count": 6,
   "metadata": {
    "collapsed": true
   },
   "outputs": [],
   "source": [
    "rdd = sc.textFile(\"iris_data_indexed.txt\")"
   ]
  },
  {
   "cell_type": "markdown",
   "metadata": {},
   "source": [
    "Regardons en combien de partitions (nombre de CPU) les données sont réparties :"
   ]
  },
  {
   "cell_type": "code",
   "execution_count": 5,
   "metadata": {
    "collapsed": false
   },
   "outputs": [
    {
     "data": {
      "text/plain": [
       "2"
      ]
     },
     "execution_count": 5,
     "metadata": {},
     "output_type": "execute_result"
    }
   ],
   "source": [
    "rdd.getNumPartitions()"
   ]
  },
  {
   "cell_type": "markdown",
   "metadata": {},
   "source": [
    "Regardons enfin à quoi ressemble le RDD obtenu :"
   ]
  },
  {
   "cell_type": "code",
   "execution_count": 6,
   "metadata": {
    "collapsed": false
   },
   "outputs": [
    {
     "data": {
      "text/plain": [
       "[u'0,6.7,2.5,5.8,1.8', u'1,4.9,2.4,3.3,1.0']"
      ]
     },
     "execution_count": 6,
     "metadata": {},
     "output_type": "execute_result"
    }
   ],
   "source": [
    "res = rdd.collect()\n",
    "res[:2]"
   ]
  },
  {
   "cell_type": "markdown",
   "metadata": {},
   "source": [
    "Nous remarquons que Spark stocke par défaut les données provenant d'un fichier texte sous frome de string. Ainsi, nous devrons préalablement parser chaque ligne du jeu de données : c'est ce que fait la fonction parseLine."
   ]
  },
  {
   "cell_type": "markdown",
   "metadata": {},
   "source": [
    "Dans la suite de ce notebook, nous présenterons plus en détail chacune des fonctions définies plus haut afin notamment de bien comprendre le format des données résultant de chaque étape. Nous les regrouperons ensuite dans un module afin de pouvoir les utiliser plus facilement sur d'autres jeux de données."
   ]
  },
  {
   "cell_type": "markdown",
   "metadata": {},
   "source": [
    "## 1. Affinity Propagation Clustering sur chaque partition"
   ]
  },
  {
   "cell_type": "markdown",
   "metadata": {},
   "source": [
    "### parseLine"
   ]
  },
  {
   "cell_type": "code",
   "execution_count": 7,
   "metadata": {
    "collapsed": false
   },
   "outputs": [
    {
     "data": {
      "text/plain": [
       "[5.0, 6.0]"
      ]
     },
     "execution_count": 7,
     "metadata": {},
     "output_type": "execute_result"
    }
   ],
   "source": [
    "parseLine(\"5,6\", sep = ',')"
   ]
  },
  {
   "cell_type": "code",
   "execution_count": 7,
   "metadata": {
    "collapsed": true
   },
   "outputs": [],
   "source": [
    "rdd = rdd.map(lambda line : parseLine(line, ','))"
   ]
  },
  {
   "cell_type": "markdown",
   "metadata": {},
   "source": [
    "Observons le résultat de la fonction parseLine mappée sur chaque élément du RDD :"
   ]
  },
  {
   "cell_type": "code",
   "execution_count": 9,
   "metadata": {
    "collapsed": false
   },
   "outputs": [
    {
     "data": {
      "text/plain": [
       "[[0.0, 6.7, 2.5, 5.8, 1.8],\n",
       " [1.0, 4.9, 2.4, 3.3, 1.0],\n",
       " [2.0, 7.1, 3.0, 5.9, 2.1]]"
      ]
     },
     "execution_count": 9,
     "metadata": {},
     "output_type": "execute_result"
    }
   ],
   "source": [
    "rdd.collect()[:3]"
   ]
  },
  {
   "cell_type": "markdown",
   "metadata": {},
   "source": [
    "### similarity_matrix_per_iterator"
   ]
  },
  {
   "cell_type": "markdown",
   "metadata": {},
   "source": [
    "Cette foncion permet de calculer la matrice de similarité entre les individus répartis dans chaque CPU séparément, **l'idée de l'article étant de réaliser indépendamment plusieurs Affinity Propagation Clustering sur chaque CPU avant de les agréger** par la suite. Ici, concrètement, un même individu est donc présent sur un seul des CPU et donc sur une seule des matrices de similarité.\n",
    "\n",
    "Cette fonction renvoie également des objets dont nous aurons besoin par la suite : le nombre d'individus sur le CPU (nécessaire pour initialiser des matrices numpy), la liste des nouveaux index des individus du CPU (i.e une liste de 0 au nombre d'individus présents sur le CPU) et les coordonnées de chaque individus présents sur le CPU (les données initiales du RDD)."
   ]
  },
  {
   "cell_type": "markdown",
   "metadata": {},
   "source": [
    "**Pourquoi avoir choisi de renvoyer autant d'objets ?**\n",
    "Il faut d'abord noter que cette fonction a vocation à être utilisée à l'intérieur d'une fonction plus globale \"affinity_propagation_clustering_per_partition\" qui sera appliquée directement à chaque partititon et qui renverra le résultat de l'Affinity Propagation Clustering réalisé sur cette partition. Elle n'a donc pas vocation à être utilisée directement dans une opération map, mais en local sur chaque CPU séparément. Ces différents objets seront donc stockés en mémoire dans chaque CPU tout au long de l'Affinity Propagation Clustering local.\n",
    "\n",
    "Un **inconvénient** de cette démarche est qu'on n'utilise pas la \"bonne propriété\" de Spark qui est le **\"lineage\"** : en imbriquant plusieurs opérations de type map, Spark conserve un pointeur vers le RDD parent sur lequel on applique le map. Concrètement, une sorte d'historique des transformations est conservé de façon à en particulier recalculer les données en cas de problème. Comme ici nous n'allons utiliser qu'une seule opération mapPartitions pour l'ensemble de l'Affinity Propagation Clustering de chaque CPU, en cas d'échec nous ne bénéficions que très peu de ceci.\n",
    "\n",
    "L'**autre inconvénient majeur**, qui est entièrement lié, est qu'on n'utilise pas l'optimisation de la mémoire automatiquement effectuée par Spark entre les différentes étapes du lineage. Comme les opérations map ne sont évaluées qu'au moment où elles sont utilisées (**\"lazy evaluation\"**), Spark est capable d'optimiser l'usage de la mémoire des différents CPU au moment de l'action d'évaluation. Ici, au contraire, nous forçons le stockage en mémoire d'un certain nombre d'informations sur les différents CPU qui ne seront d'ailleurs pas utilisées entièrement: typiquement, seules les coordonnées des centres qui ressortiront du clustering dans l'objet partition nous intéressent. \n",
    "\n",
    "**Alors pourquoi avoir fait ce choix ?**\n",
    "La difficulté majeure que nous avons rencontrée est que nous utilisons deux index pour qualifier les individus observés : un **index \"global\"** qui est l'index présent dans le jeu de données initial et qui est unique dans tout le jeu de données, et un **index \"local\"** qui correspond à la position dans la matrice de similarité locale (puis dans les matrices de disponibilité et de responsabilité). En effet, chaque CPU traite ses propres individus et construit sa propre matrice de similarité. Il fallait donc conserver un lien entre ces deux index afin de pouvoir renvoyer des résultats utilisant l'index global (le \"vrai\" index). C'est donc la solution **la plus facile** que nous avons trouvé. Nous évitions ainsi des opérations coûteuses de type join. Cette solution n'est donc effectivement **probablement pas optimale**.\n",
    "\n",
    "\n"
   ]
  },
  {
   "cell_type": "code",
   "execution_count": 10,
   "metadata": {
    "collapsed": false
   },
   "outputs": [
    {
     "data": {
      "text/plain": [
       "[[77,\n",
       "  [0,\n",
       "   1,\n",
       "   2,\n",
       "   3,\n",
       "   4,\n",
       "   5,\n",
       "   6,\n",
       "   7,\n",
       "   8,\n",
       "   9,\n",
       "   10,\n",
       "   11,\n",
       "   12,\n",
       "   13,\n",
       "   14,\n",
       "   15,\n",
       "   16,\n",
       "   17,\n",
       "   18,\n",
       "   19,\n",
       "   20,\n",
       "   21,\n",
       "   22,\n",
       "   23,\n",
       "   24,\n",
       "   25,\n",
       "   26,\n",
       "   27,\n",
       "   28,\n",
       "   29,\n",
       "   30,\n",
       "   31,\n",
       "   32,\n",
       "   33,\n",
       "   34,\n",
       "   35,\n",
       "   36,\n",
       "   37,\n",
       "   38,\n",
       "   39,\n",
       "   40,\n",
       "   41,\n",
       "   42,\n",
       "   43,\n",
       "   44,\n",
       "   45,\n",
       "   46,\n",
       "   47,\n",
       "   48,\n",
       "   49,\n",
       "   50,\n",
       "   51,\n",
       "   52,\n",
       "   53,\n",
       "   54,\n",
       "   55,\n",
       "   56,\n",
       "   57,\n",
       "   58,\n",
       "   59,\n",
       "   60,\n",
       "   61,\n",
       "   62,\n",
       "   63,\n",
       "   64,\n",
       "   65,\n",
       "   66,\n",
       "   67,\n",
       "   68,\n",
       "   69,\n",
       "   70,\n",
       "   71,\n",
       "   72,\n",
       "   73,\n",
       "   74,\n",
       "   75,\n",
       "   76],\n",
       "  [[0.0, 6.7, 2.5, 5.8, 1.8],\n",
       "   [1.0, 4.9, 2.4, 3.3, 1.0],\n",
       "   [2.0, 7.1, 3.0, 5.9, 2.1],\n",
       "   [3.0, 6.0, 2.9, 4.5, 1.5],\n",
       "   [4.0, 4.6, 3.4, 1.4, 0.3],\n",
       "   [5.0, 5.1, 3.8, 1.9, 0.4],\n",
       "   [6.0, 5.2, 3.4, 1.4, 0.2],\n",
       "   [7.0, 5.7, 2.8, 4.5, 1.3],\n",
       "   [8.0, 5.1, 2.5, 3.0, 1.1],\n",
       "   [9.0, 6.5, 3.0, 5.8, 2.2],\n",
       "   [10.0, 5.1, 3.7, 1.5, 0.4],\n",
       "   [11.0, 6.3, 2.5, 4.9, 1.5],\n",
       "   [12.0, 6.2, 3.4, 5.4, 2.3],\n",
       "   [13.0, 5.6, 2.7, 4.2, 1.3],\n",
       "   [14.0, 5.0, 3.6, 1.4, 0.2],\n",
       "   [15.0, 5.4, 3.9, 1.3, 0.4],\n",
       "   [16.0, 5.2, 3.5, 1.5, 0.2],\n",
       "   [17.0, 5.4, 3.7, 1.5, 0.2],\n",
       "   [18.0, 6.4, 2.8, 5.6, 2.1],\n",
       "   [19.0, 6.5, 3.0, 5.5, 1.8],\n",
       "   [20.0, 5.4, 3.4, 1.5, 0.4],\n",
       "   [21.0, 5.9, 3.0, 5.1, 1.8],\n",
       "   [22.0, 4.4, 3.2, 1.3, 0.2],\n",
       "   [23.0, 6.7, 3.1, 5.6, 2.4],\n",
       "   [24.0, 5.0, 3.0, 1.6, 0.2],\n",
       "   [25.0, 7.7, 3.8, 6.7, 2.2],\n",
       "   [26.0, 4.5, 2.3, 1.3, 0.3],\n",
       "   [27.0, 5.1, 3.8, 1.5, 0.3],\n",
       "   [28.0, 4.3, 3.0, 1.1, 0.1],\n",
       "   [29.0, 5.6, 2.8, 4.9, 2.0],\n",
       "   [30.0, 6.0, 2.2, 4.0, 1.0],\n",
       "   [31.0, 6.3, 3.3, 4.7, 1.6],\n",
       "   [32.0, 5.7, 2.8, 4.1, 1.3],\n",
       "   [33.0, 6.8, 2.8, 4.8, 1.4],\n",
       "   [34.0, 7.2, 3.2, 6.0, 1.8],\n",
       "   [35.0, 5.8, 4.0, 1.2, 0.2],\n",
       "   [36.0, 5.1, 3.5, 1.4, 0.2],\n",
       "   [37.0, 6.1, 2.9, 4.7, 1.4],\n",
       "   [38.0, 6.5, 3.0, 5.2, 2.0],\n",
       "   [39.0, 5.1, 3.4, 1.5, 0.2],\n",
       "   [40.0, 7.9, 3.8, 6.4, 2.0],\n",
       "   [41.0, 7.7, 2.8, 6.7, 2.0],\n",
       "   [42.0, 4.8, 3.1, 1.6, 0.2],\n",
       "   [43.0, 6.3, 2.5, 5.0, 1.9],\n",
       "   [44.0, 6.7, 3.0, 5.0, 1.7],\n",
       "   [45.0, 5.0, 3.5, 1.6, 0.6],\n",
       "   [46.0, 7.6, 3.0, 6.6, 2.1],\n",
       "   [47.0, 7.0, 3.2, 4.7, 1.4],\n",
       "   [48.0, 4.7, 3.2, 1.6, 0.2],\n",
       "   [49.0, 5.7, 2.6, 3.5, 1.0],\n",
       "   [50.0, 5.0, 3.4, 1.6, 0.4],\n",
       "   [51.0, 5.9, 3.2, 4.8, 1.8],\n",
       "   [52.0, 6.3, 3.4, 5.6, 2.4],\n",
       "   [53.0, 5.3, 3.7, 1.5, 0.2],\n",
       "   [54.0, 6.9, 3.1, 4.9, 1.5],\n",
       "   [55.0, 5.1, 3.5, 1.4, 0.3],\n",
       "   [56.0, 7.7, 3.0, 6.1, 2.3],\n",
       "   [57.0, 4.7, 3.2, 1.3, 0.2],\n",
       "   [58.0, 6.7, 3.3, 5.7, 2.5],\n",
       "   [59.0, 6.3, 2.9, 5.6, 1.8],\n",
       "   [60.0, 5.8, 2.7, 5.1, 1.9],\n",
       "   [61.0, 4.8, 3.0, 1.4, 0.1],\n",
       "   [62.0, 6.8, 3.2, 5.9, 2.3],\n",
       "   [63.0, 4.4, 3.0, 1.3, 0.2],\n",
       "   [64.0, 5.4, 3.0, 4.5, 1.5],\n",
       "   [65.0, 6.1, 2.6, 5.6, 1.4],\n",
       "   [66.0, 6.2, 2.8, 4.8, 1.8],\n",
       "   [67.0, 4.9, 3.1, 1.5, 0.1],\n",
       "   [68.0, 5.8, 2.8, 5.1, 2.4],\n",
       "   [69.0, 5.9, 3.0, 4.2, 1.5],\n",
       "   [70.0, 5.1, 3.3, 1.7, 0.5],\n",
       "   [71.0, 5.5, 2.6, 4.4, 1.2],\n",
       "   [72.0, 6.4, 2.9, 4.3, 1.3],\n",
       "   [73.0, 4.8, 3.0, 1.4, 0.3],\n",
       "   [74.0, 6.7, 3.3, 5.7, 2.1],\n",
       "   [75.0, 5.6, 3.0, 4.5, 1.5],\n",
       "   [76.0, 5.8, 2.7, 5.1, 1.9]],\n",
       "  array([[ -0.  , -10.14,  -0.51, ...,  -0.74,  -3.24,  -1.35],\n",
       "         [-10.14,  -0.  , -13.17, ..., -11.02,  -2.54,  -4.95],\n",
       "         [ -0.51, -13.17,  -0.  , ...,  -0.29,  -4.57,  -2.46],\n",
       "         ..., \n",
       "         [ -0.74, -11.02,  -0.29, ...,  -0.  ,  -3.1 ,  -1.57],\n",
       "         [ -3.24,  -2.54,  -4.57, ...,  -3.1 ,  -0.  ,  -0.65],\n",
       "         [ -1.35,  -4.95,  -2.46, ...,  -1.57,  -0.65,  -0.  ]])],\n",
       " [73,\n",
       "  [0,\n",
       "   1,\n",
       "   2,\n",
       "   3,\n",
       "   4,\n",
       "   5,\n",
       "   6,\n",
       "   7,\n",
       "   8,\n",
       "   9,\n",
       "   10,\n",
       "   11,\n",
       "   12,\n",
       "   13,\n",
       "   14,\n",
       "   15,\n",
       "   16,\n",
       "   17,\n",
       "   18,\n",
       "   19,\n",
       "   20,\n",
       "   21,\n",
       "   22,\n",
       "   23,\n",
       "   24,\n",
       "   25,\n",
       "   26,\n",
       "   27,\n",
       "   28,\n",
       "   29,\n",
       "   30,\n",
       "   31,\n",
       "   32,\n",
       "   33,\n",
       "   34,\n",
       "   35,\n",
       "   36,\n",
       "   37,\n",
       "   38,\n",
       "   39,\n",
       "   40,\n",
       "   41,\n",
       "   42,\n",
       "   43,\n",
       "   44,\n",
       "   45,\n",
       "   46,\n",
       "   47,\n",
       "   48,\n",
       "   49,\n",
       "   50,\n",
       "   51,\n",
       "   52,\n",
       "   53,\n",
       "   54,\n",
       "   55,\n",
       "   56,\n",
       "   57,\n",
       "   58,\n",
       "   59,\n",
       "   60,\n",
       "   61,\n",
       "   62,\n",
       "   63,\n",
       "   64,\n",
       "   65,\n",
       "   66,\n",
       "   67,\n",
       "   68,\n",
       "   69,\n",
       "   70,\n",
       "   71,\n",
       "   72],\n",
       "  [[77.0, 4.6, 3.6, 1.0, 0.2],\n",
       "   [78.0, 6.8, 3.0, 5.5, 2.1],\n",
       "   [79.0, 7.7, 2.6, 6.9, 2.3],\n",
       "   [80.0, 5.8, 2.6, 4.0, 1.2],\n",
       "   [81.0, 5.0, 3.4, 1.5, 0.2],\n",
       "   [82.0, 5.8, 2.7, 3.9, 1.2],\n",
       "   [83.0, 6.1, 2.8, 4.0, 1.3],\n",
       "   [84.0, 5.4, 3.9, 1.7, 0.4],\n",
       "   [85.0, 6.5, 3.2, 5.1, 2.0],\n",
       "   [86.0, 5.0, 3.3, 1.4, 0.2],\n",
       "   [87.0, 6.1, 2.8, 4.7, 1.2],\n",
       "   [88.0, 5.7, 3.8, 1.7, 0.3],\n",
       "   [89.0, 5.7, 3.0, 4.2, 1.2],\n",
       "   [90.0, 6.4, 2.8, 5.6, 2.2],\n",
       "   [91.0, 6.1, 3.0, 4.9, 1.8],\n",
       "   [92.0, 5.5, 2.5, 4.0, 1.3],\n",
       "   [93.0, 5.5, 2.4, 3.8, 1.1],\n",
       "   [94.0, 6.4, 2.7, 5.3, 1.9],\n",
       "   [95.0, 5.6, 2.9, 3.6, 1.3],\n",
       "   [96.0, 5.7, 2.9, 4.2, 1.3],\n",
       "   [97.0, 6.0, 2.7, 5.1, 1.6],\n",
       "   [98.0, 5.7, 2.5, 5.0, 2.0],\n",
       "   [99.0, 6.2, 2.2, 4.5, 1.5],\n",
       "   [100.0, 6.7, 3.0, 5.2, 2.3],\n",
       "   [101.0, 5.2, 2.7, 3.9, 1.4],\n",
       "   [102.0, 5.0, 2.0, 3.5, 1.0],\n",
       "   [103.0, 6.9, 3.1, 5.1, 2.3],\n",
       "   [104.0, 5.0, 3.5, 1.3, 0.3],\n",
       "   [105.0, 5.5, 2.3, 4.0, 1.3],\n",
       "   [106.0, 5.2, 4.1, 1.5, 0.1],\n",
       "   [107.0, 5.8, 2.7, 4.1, 1.0],\n",
       "   [108.0, 4.6, 3.2, 1.4, 0.2],\n",
       "   [109.0, 6.9, 3.2, 5.7, 2.3],\n",
       "   [110.0, 4.8, 3.4, 1.9, 0.2],\n",
       "   [111.0, 5.7, 4.4, 1.5, 0.4],\n",
       "   [112.0, 4.8, 3.4, 1.6, 0.2],\n",
       "   [113.0, 6.3, 3.3, 6.0, 2.5],\n",
       "   [114.0, 6.3, 2.7, 4.9, 1.8],\n",
       "   [115.0, 6.4, 3.2, 4.5, 1.5],\n",
       "   [116.0, 5.0, 2.3, 3.3, 1.0],\n",
       "   [117.0, 5.1, 3.8, 1.6, 0.2],\n",
       "   [118.0, 7.2, 3.6, 6.1, 2.5],\n",
       "   [119.0, 6.3, 2.8, 5.1, 1.5],\n",
       "   [120.0, 4.9, 2.5, 4.5, 1.7],\n",
       "   [121.0, 7.2, 3.0, 5.8, 1.6],\n",
       "   [122.0, 6.6, 2.9, 4.6, 1.3],\n",
       "   [123.0, 7.3, 2.9, 6.3, 1.8],\n",
       "   [124.0, 4.6, 3.1, 1.5, 0.2],\n",
       "   [125.0, 4.9, 3.1, 1.5, 0.1],\n",
       "   [126.0, 6.6, 3.0, 4.4, 1.4],\n",
       "   [127.0, 7.4, 2.8, 6.1, 1.9],\n",
       "   [128.0, 4.4, 2.9, 1.4, 0.2],\n",
       "   [129.0, 6.3, 2.3, 4.4, 1.3],\n",
       "   [130.0, 6.2, 2.9, 4.3, 1.3],\n",
       "   [131.0, 5.6, 2.5, 3.9, 1.1],\n",
       "   [132.0, 6.4, 3.1, 5.5, 1.8],\n",
       "   [133.0, 6.0, 3.4, 4.5, 1.6],\n",
       "   [134.0, 5.4, 3.4, 1.7, 0.2],\n",
       "   [135.0, 6.7, 3.1, 4.7, 1.5],\n",
       "   [136.0, 6.0, 3.0, 4.8, 1.8],\n",
       "   [137.0, 6.4, 3.2, 5.3, 2.3],\n",
       "   [138.0, 6.7, 3.1, 4.4, 1.4],\n",
       "   [139.0, 6.9, 3.1, 5.4, 2.1],\n",
       "   [140.0, 5.5, 4.2, 1.4, 0.2],\n",
       "   [141.0, 5.5, 3.5, 1.3, 0.2],\n",
       "   [142.0, 6.0, 2.2, 5.0, 1.5],\n",
       "   [143.0, 4.9, 3.0, 1.4, 0.2],\n",
       "   [144.0, 4.9, 3.1, 1.5, 0.1],\n",
       "   [145.0, 6.1, 3.0, 4.6, 1.4],\n",
       "   [146.0, 5.6, 3.0, 4.1, 1.3],\n",
       "   [147.0, 6.5, 2.8, 4.6, 1.5],\n",
       "   [148.0, 5.5, 2.4, 3.7, 1.0],\n",
       "   [149.0, 5.0, 3.2, 1.2, 0.2]],\n",
       "  array([[ -0.  , -29.06, -49.83, ..., -18.9 , -10.18,  -0.36],\n",
       "         [-29.06,  -0.  ,  -2.97, ...,  -1.3 ,  -6.5 , -25.38],\n",
       "         [-49.83,  -2.97,  -0.  , ...,  -7.41, -16.81, -44.55],\n",
       "         ..., \n",
       "         [-18.9 ,  -1.3 ,  -7.41, ...,  -0.  ,  -2.22, -15.66],\n",
       "         [-10.18,  -6.5 , -16.81, ...,  -2.22,  -0.  ,  -7.78],\n",
       "         [ -0.36, -25.38, -44.55, ..., -15.66,  -7.78,  -0.  ]])]]"
      ]
     },
     "execution_count": 10,
     "metadata": {},
     "output_type": "execute_result"
    }
   ],
   "source": [
    "rdd.mapPartitions(lambda iterator : similarity_matrix_per_iterator(iterator, euclidean_similarity), \n",
    "                  preservesPartitioning=True).glom().collect()"
   ]
  },
  {
   "cell_type": "markdown",
   "metadata": {},
   "source": [
    "La commande glom() nous permet d'identifier quelles données sont regroupées dans le même CPU. Nous voyons donc ici que le CPU 1 contient 77 observations alors que le CPU 2 en contient 73. Nous remarquons aussi que pour l'instant les diagonales des matrices de similarités sont nulles (similarité entre un individu et lui-même)."
   ]
  },
  {
   "cell_type": "markdown",
   "metadata": {},
   "source": [
    "### add_preferences_to_similarity_matrix"
   ]
  },
  {
   "cell_type": "markdown",
   "metadata": {},
   "source": [
    "Cette fonction sert à transformer les diagonales des matrices de similarité de chaque CPU afin de leur attribuer une valeur qu'on appelle **préférence**. Cette valeur indique en quelque sort la **propension de l'individu à se choisir lui-même en tant que centre**. Ceci va donc aussi déterminer le nombre de clusters que renvoie chaque Affinity Propagation Clustering sur chaque CPU séparément: si la préférence est élevée, les individus vont avoir tendance à vouloir se choisir eux-mêmes comme centre et on obtient alors un plus grand nombre de clusters.\n",
    "\n",
    "Comme le précise l'article, il existe plusieurs façons de déterminer cette préférence. Utiliser la médiane des similarités préalablement calculées est la stratégie la plus commune et donc celle que nous avons codé ici. Néanmoins, il est tout à fait possible d'en ajouter d'autres, permettant d'obtenir plus ou moins de clusters à la fin.\n",
    "\n",
    "Notons enfin que chaque CPU a sa propre matrice de similarité, donc sa propre valeur de préférence et il n'y a aucune raison qu'elles soient égales entre les CPU."
   ]
  },
  {
   "cell_type": "markdown",
   "metadata": {},
   "source": [
    "### update_responsibility_and_availability"
   ]
  },
  {
   "cell_type": "markdown",
   "metadata": {},
   "source": [
    "Cette fonction permet de mettre à jour les matrices de responsabilité et de disponibilité à chaque itération de l'algorithme de clustering sur le CPU. Nous effectuons ici un certain nombre de calculs pour simplifier les notations indiquées par l'article : "
   ]
  },
  {
   "cell_type": "markdown",
   "metadata": {},
   "source": [
    "Mise à jour de la matrice de responsabilité : \n",
    "$$ r(i,k)  = s(i,k) - max_{k' \\neq k}\\{a(i,k') + s(i,k')\\} $$\n",
    "Mise à jour des coefficients de la matrice de disponibilité lorsque $i \\neq k$ : \n",
    "$$ a(i,k) = min\\{0, r(k,k) + \\sum_{i' \\neq i, i' \\neq k} max\\{0, r(i',k)\\} \\} $$\n",
    "$$ a(i,k) = min\\{0, r(k,k) + \\sum_{i'} max\\{0, r(i',k)\\} - max\\{0, r(i,k)\\} - max\\{0, r(k,k)\\}\\} $$\n",
    "Or $r(k,k) - max\\{0, r(k,k)\\} = 0$ si $r(k,k) > 0$ et   $r(k,k) - max\\{0, r(k,k)\\} = r(k,k)$ si $r(k,k) \\leq 0$\n",
    "d'où : $r(k,k) - max\\{0, r(k,k)\\} = min\\{0, r(k,k)\\}$\n",
    "$$ a(i,k) = min\\{0,min\\{0, r(k,k)\\} + \\sum_{i'} max\\{0, r(i',k)\\} - max\\{0, r(i,k)\\} \\}\\}  $$\n",
    "Mise à jour des coefficients de la matrice de disponibilité lorsque $i = k$ :\n",
    "$$ a(k,k) = \\sum_{i'} max\\{0, r(i',k)\\} - max\\{0, r(k,k) \\}$$"
   ]
  },
  {
   "cell_type": "markdown",
   "metadata": {},
   "source": [
    "Notre code est inspiré (mais pas identique!) du code de l'Affinity Propagation Clustering de scikit-learn disponible sur Github ici: https://github.com/scikit-learn/scikit-learn/blob/master/sklearn/cluster/affinity_propagation_.py"
   ]
  },
  {
   "cell_type": "markdown",
   "metadata": {},
   "source": [
    "On comprend bien à l'aide des calculs ci-dessus l'intérêt du choix de stocker les similarités, responsabilités et disponibilités sous forme de numpy array : accéder aux bons coefficients est facile à coder, rapide et surtout, le calcul des maximum et des minimums par rapport à une ligne ou une colonne est rapide.\n",
    "\n",
    "Initialement, nous avions notamment essayé de stocker la matrice de similarité sous forme de 3 colonnes (i,j, valeur) afin notamment d'économiser en termes de mémoire puisqu'il s'agit d'une matrice symétrique mais ce format de données s'est rapidement avérée compliqué à manipuler.\n",
    "\n",
    "Le fait de voir que les contributeurs de scikiy-learn avaient fait ce choix nous a aussi conforté dans l'idée d'utiliser numpy."
   ]
  },
  {
   "cell_type": "markdown",
   "metadata": {},
   "source": [
    "### affinity_propagation_clustering_per_partition"
   ]
  },
  {
   "cell_type": "markdown",
   "metadata": {},
   "source": [
    "Cette fonction regroupe alors toutes les fonctions présentées plus haut afin de réaliser l'Affinity Propagation Clustering séparément sur chaque partition."
   ]
  },
  {
   "cell_type": "code",
   "execution_count": 8,
   "metadata": {
    "collapsed": false
   },
   "outputs": [],
   "source": [
    "rdd2 = rdd.mapPartitions(lambda iterator : affinity_propagation_clustering_per_partition(iterator, similarity_function = euclidean_similarity), \n",
    "                         preservesPartitioning=True)"
   ]
  },
  {
   "cell_type": "code",
   "execution_count": 47,
   "metadata": {
    "collapsed": false
   },
   "outputs": [
    {
     "data": {
      "text/plain": [
       "[(2.0,\n",
       "  [0.0,\n",
       "   2.0,\n",
       "   9.0,\n",
       "   18.0,\n",
       "   19.0,\n",
       "   23.0,\n",
       "   25.0,\n",
       "   34.0,\n",
       "   40.0,\n",
       "   41.0,\n",
       "   46.0,\n",
       "   52.0,\n",
       "   56.0,\n",
       "   58.0,\n",
       "   62.0,\n",
       "   74.0],\n",
       "  [7.1, 3.0, 5.9, 2.1],\n",
       "  -5.9399999999999977),\n",
       " (32.0,\n",
       "  [1.0, 7.0, 8.0, 13.0, 30.0, 32.0, 49.0, 64.0, 69.0, 71.0, 72.0, 75.0],\n",
       "  [5.7, 2.8, 4.1, 1.3],\n",
       "  -5.9399999999999977),\n",
       " (55.0,\n",
       "  [4.0,\n",
       "   5.0,\n",
       "   6.0,\n",
       "   10.0,\n",
       "   14.0,\n",
       "   15.0,\n",
       "   16.0,\n",
       "   17.0,\n",
       "   20.0,\n",
       "   22.0,\n",
       "   24.0,\n",
       "   26.0,\n",
       "   27.0,\n",
       "   28.0,\n",
       "   35.0,\n",
       "   36.0,\n",
       "   39.0,\n",
       "   42.0,\n",
       "   45.0,\n",
       "   48.0,\n",
       "   50.0,\n",
       "   53.0,\n",
       "   55.0,\n",
       "   57.0,\n",
       "   61.0,\n",
       "   63.0,\n",
       "   67.0,\n",
       "   70.0,\n",
       "   73.0],\n",
       "  [5.1, 3.5, 1.4, 0.3],\n",
       "  -5.9399999999999977),\n",
       " (66.0,\n",
       "  [3.0,\n",
       "   11.0,\n",
       "   12.0,\n",
       "   21.0,\n",
       "   29.0,\n",
       "   31.0,\n",
       "   33.0,\n",
       "   37.0,\n",
       "   38.0,\n",
       "   43.0,\n",
       "   44.0,\n",
       "   47.0,\n",
       "   51.0,\n",
       "   54.0,\n",
       "   59.0,\n",
       "   60.0,\n",
       "   65.0,\n",
       "   66.0,\n",
       "   68.0,\n",
       "   76.0],\n",
       "  [6.2, 2.8, 4.8, 1.8],\n",
       "  -5.9399999999999977),\n",
       " (78.0,\n",
       "  [78.0,\n",
       "   79.0,\n",
       "   85.0,\n",
       "   90.0,\n",
       "   94.0,\n",
       "   100.0,\n",
       "   103.0,\n",
       "   109.0,\n",
       "   113.0,\n",
       "   118.0,\n",
       "   121.0,\n",
       "   123.0,\n",
       "   127.0,\n",
       "   132.0,\n",
       "   137.0,\n",
       "   139.0],\n",
       "  [6.8, 3.0, 5.5, 2.1],\n",
       "  -4.4499999999999984),\n",
       " (86.0,\n",
       "  [77.0,\n",
       "   81.0,\n",
       "   84.0,\n",
       "   86.0,\n",
       "   88.0,\n",
       "   104.0,\n",
       "   106.0,\n",
       "   108.0,\n",
       "   110.0,\n",
       "   111.0,\n",
       "   112.0,\n",
       "   117.0,\n",
       "   124.0,\n",
       "   125.0,\n",
       "   128.0,\n",
       "   134.0,\n",
       "   140.0,\n",
       "   141.0,\n",
       "   143.0,\n",
       "   144.0,\n",
       "   149.0],\n",
       "  [5.0, 3.3, 1.4, 0.2],\n",
       "  -4.4499999999999984),\n",
       " (92.0,\n",
       "  [80.0,\n",
       "   82.0,\n",
       "   83.0,\n",
       "   89.0,\n",
       "   92.0,\n",
       "   93.0,\n",
       "   95.0,\n",
       "   96.0,\n",
       "   101.0,\n",
       "   102.0,\n",
       "   105.0,\n",
       "   107.0,\n",
       "   116.0,\n",
       "   120.0,\n",
       "   131.0,\n",
       "   146.0,\n",
       "   148.0],\n",
       "  [5.5, 2.5, 4.0, 1.3],\n",
       "  -4.4499999999999984),\n",
       " (147.0,\n",
       "  [87.0,\n",
       "   91.0,\n",
       "   97.0,\n",
       "   98.0,\n",
       "   99.0,\n",
       "   114.0,\n",
       "   115.0,\n",
       "   119.0,\n",
       "   122.0,\n",
       "   126.0,\n",
       "   129.0,\n",
       "   130.0,\n",
       "   133.0,\n",
       "   135.0,\n",
       "   136.0,\n",
       "   138.0,\n",
       "   142.0,\n",
       "   145.0,\n",
       "   147.0],\n",
       "  [6.5, 2.8, 4.6, 1.5],\n",
       "  -4.4499999999999984)]"
      ]
     },
     "execution_count": 47,
     "metadata": {},
     "output_type": "execute_result"
    }
   ],
   "source": [
    "rdd2.collect()"
   ]
  },
  {
   "cell_type": "markdown",
   "metadata": {},
   "source": [
    "Les résultats sont comme on le voit renvoyés sous le format d'un tuple de 4 élements :\n",
    "* Index global du centre\n",
    "* Liste des index globaux des individus qui sont affectés à ce centre\n",
    "* Coordonnées du centre\n",
    "* Valeur de préférence utilisée sur le CPU qui a renvoyé ce centre\n",
    "\n",
    "La valeur de préférence est conservée ici car, comme on le verra lors de l'agrégation (partie 2), nous en aurons besoin pour déterminer le seuil à partir duquel nous choisissons de regrouper 2 clusters.\n",
    "\n",
    "Encore une fois, nous sommes conscients qu'ici nous stockons une même valeur plusieurs fois mais cela simplifie les opérations suivantes. De plus, un nombre relativement limité de centres (= nombre de clusters) est théoriquement renvoyé par chaque CPU comparé au nombre d'individus. La différence en termes de stockage ne devrait donc pas non plus poser problème sur de grosses bases de données."
   ]
  },
  {
   "cell_type": "markdown",
   "metadata": {},
   "source": [
    "** Visualisation des résultats intermédiaires **"
   ]
  },
  {
   "cell_type": "code",
   "execution_count": 9,
   "metadata": {
    "collapsed": true
   },
   "outputs": [],
   "source": [
    "rdd_vis_intermed = rdd2.map(lambda x : (x[0], x[1]), preservesPartitioning=True)"
   ]
  },
  {
   "cell_type": "code",
   "execution_count": 10,
   "metadata": {
    "collapsed": false
   },
   "outputs": [],
   "source": [
    "#Results of the clustering on the first CPU\n",
    "res_intermed_0 = rdd_vis_intermed.flatMap(lambda (center, points) : [(point, center) for point in points]).glom().collect()[0]\n",
    "#Results of the clustering on the second CPU\n",
    "res_intermed_1 = rdd_vis_intermed.flatMap(lambda (center, points) : [(point, center) for point in points]).glom().collect()[1]"
   ]
  },
  {
   "cell_type": "code",
   "execution_count": 11,
   "metadata": {
    "collapsed": false
   },
   "outputs": [
    {
     "data": {
      "text/html": [
       "<div>\n",
       "<table border=\"1\" class=\"dataframe\">\n",
       "  <thead>\n",
       "    <tr style=\"text-align: right;\">\n",
       "      <th></th>\n",
       "      <th>Index</th>\n",
       "      <th>Cluster</th>\n",
       "    </tr>\n",
       "  </thead>\n",
       "  <tbody>\n",
       "    <tr>\n",
       "      <th>0</th>\n",
       "      <td>0.0</td>\n",
       "      <td>2.0</td>\n",
       "    </tr>\n",
       "    <tr>\n",
       "      <th>1</th>\n",
       "      <td>2.0</td>\n",
       "      <td>2.0</td>\n",
       "    </tr>\n",
       "    <tr>\n",
       "      <th>2</th>\n",
       "      <td>9.0</td>\n",
       "      <td>2.0</td>\n",
       "    </tr>\n",
       "    <tr>\n",
       "      <th>3</th>\n",
       "      <td>18.0</td>\n",
       "      <td>2.0</td>\n",
       "    </tr>\n",
       "    <tr>\n",
       "      <th>4</th>\n",
       "      <td>19.0</td>\n",
       "      <td>2.0</td>\n",
       "    </tr>\n",
       "  </tbody>\n",
       "</table>\n",
       "</div>"
      ],
      "text/plain": [
       "   Index  Cluster\n",
       "0    0.0      2.0\n",
       "1    2.0      2.0\n",
       "2    9.0      2.0\n",
       "3   18.0      2.0\n",
       "4   19.0      2.0"
      ]
     },
     "execution_count": 11,
     "metadata": {},
     "output_type": "execute_result"
    }
   ],
   "source": [
    "import pandas as pd\n",
    "df_res_intermed_0 = pd.DataFrame(res_intermed_0)\n",
    "df_res_intermed_0.columns=['Index', 'Cluster']\n",
    "df_res_intermed_1 = pd.DataFrame(res_intermed_1)\n",
    "df_res_intermed_1.columns=['Index', 'Cluster']\n",
    "df_res_intermed_0.head()"
   ]
  },
  {
   "cell_type": "code",
   "execution_count": 12,
   "metadata": {
    "collapsed": false
   },
   "outputs": [
    {
     "data": {
      "text/html": [
       "<div>\n",
       "<table border=\"1\" class=\"dataframe\">\n",
       "  <thead>\n",
       "    <tr style=\"text-align: right;\">\n",
       "      <th></th>\n",
       "      <th>Index</th>\n",
       "      <th>Sepal.Length</th>\n",
       "      <th>Sepal.Width</th>\n",
       "      <th>Petal.Length</th>\n",
       "      <th>Petal.Width</th>\n",
       "    </tr>\n",
       "  </thead>\n",
       "  <tbody>\n",
       "    <tr>\n",
       "      <th>0</th>\n",
       "      <td>0</td>\n",
       "      <td>6.7</td>\n",
       "      <td>2.5</td>\n",
       "      <td>5.8</td>\n",
       "      <td>1.8</td>\n",
       "    </tr>\n",
       "    <tr>\n",
       "      <th>1</th>\n",
       "      <td>1</td>\n",
       "      <td>4.9</td>\n",
       "      <td>2.4</td>\n",
       "      <td>3.3</td>\n",
       "      <td>1.0</td>\n",
       "    </tr>\n",
       "    <tr>\n",
       "      <th>2</th>\n",
       "      <td>2</td>\n",
       "      <td>7.1</td>\n",
       "      <td>3.0</td>\n",
       "      <td>5.9</td>\n",
       "      <td>2.1</td>\n",
       "    </tr>\n",
       "    <tr>\n",
       "      <th>3</th>\n",
       "      <td>3</td>\n",
       "      <td>6.0</td>\n",
       "      <td>2.9</td>\n",
       "      <td>4.5</td>\n",
       "      <td>1.5</td>\n",
       "    </tr>\n",
       "    <tr>\n",
       "      <th>4</th>\n",
       "      <td>4</td>\n",
       "      <td>4.6</td>\n",
       "      <td>3.4</td>\n",
       "      <td>1.4</td>\n",
       "      <td>0.3</td>\n",
       "    </tr>\n",
       "  </tbody>\n",
       "</table>\n",
       "</div>"
      ],
      "text/plain": [
       "   Index  Sepal.Length  Sepal.Width  Petal.Length  Petal.Width\n",
       "0      0           6.7          2.5           5.8          1.8\n",
       "1      1           4.9          2.4           3.3          1.0\n",
       "2      2           7.1          3.0           5.9          2.1\n",
       "3      3           6.0          2.9           4.5          1.5\n",
       "4      4           4.6          3.4           1.4          0.3"
      ]
     },
     "execution_count": 12,
     "metadata": {},
     "output_type": "execute_result"
    }
   ],
   "source": [
    "data_df = pd.read_csv(\"iris_data_indexed.txt\", header = None)\n",
    "data_df.columns = [\"Index\", \"Sepal.Length\", \"Sepal.Width\", \"Petal.Length\", \"Petal.Width\"]\n",
    "data_df.head()"
   ]
  },
  {
   "cell_type": "code",
   "execution_count": 13,
   "metadata": {
    "collapsed": false
   },
   "outputs": [
    {
     "data": {
      "text/html": [
       "<div>\n",
       "<table border=\"1\" class=\"dataframe\">\n",
       "  <thead>\n",
       "    <tr style=\"text-align: right;\">\n",
       "      <th></th>\n",
       "      <th>Index</th>\n",
       "      <th>Sepal.Length</th>\n",
       "      <th>Sepal.Width</th>\n",
       "      <th>Petal.Length</th>\n",
       "      <th>Petal.Width</th>\n",
       "      <th>Cluster</th>\n",
       "    </tr>\n",
       "  </thead>\n",
       "  <tbody>\n",
       "    <tr>\n",
       "      <th>0</th>\n",
       "      <td>0</td>\n",
       "      <td>6.7</td>\n",
       "      <td>2.5</td>\n",
       "      <td>5.8</td>\n",
       "      <td>1.8</td>\n",
       "      <td>2.0</td>\n",
       "    </tr>\n",
       "    <tr>\n",
       "      <th>1</th>\n",
       "      <td>1</td>\n",
       "      <td>4.9</td>\n",
       "      <td>2.4</td>\n",
       "      <td>3.3</td>\n",
       "      <td>1.0</td>\n",
       "      <td>32.0</td>\n",
       "    </tr>\n",
       "    <tr>\n",
       "      <th>2</th>\n",
       "      <td>2</td>\n",
       "      <td>7.1</td>\n",
       "      <td>3.0</td>\n",
       "      <td>5.9</td>\n",
       "      <td>2.1</td>\n",
       "      <td>2.0</td>\n",
       "    </tr>\n",
       "    <tr>\n",
       "      <th>3</th>\n",
       "      <td>3</td>\n",
       "      <td>6.0</td>\n",
       "      <td>2.9</td>\n",
       "      <td>4.5</td>\n",
       "      <td>1.5</td>\n",
       "      <td>66.0</td>\n",
       "    </tr>\n",
       "    <tr>\n",
       "      <th>4</th>\n",
       "      <td>4</td>\n",
       "      <td>4.6</td>\n",
       "      <td>3.4</td>\n",
       "      <td>1.4</td>\n",
       "      <td>0.3</td>\n",
       "      <td>55.0</td>\n",
       "    </tr>\n",
       "  </tbody>\n",
       "</table>\n",
       "</div>"
      ],
      "text/plain": [
       "   Index  Sepal.Length  Sepal.Width  Petal.Length  Petal.Width  Cluster\n",
       "0      0           6.7          2.5           5.8          1.8      2.0\n",
       "1      1           4.9          2.4           3.3          1.0     32.0\n",
       "2      2           7.1          3.0           5.9          2.1      2.0\n",
       "3      3           6.0          2.9           4.5          1.5     66.0\n",
       "4      4           4.6          3.4           1.4          0.3     55.0"
      ]
     },
     "execution_count": 13,
     "metadata": {},
     "output_type": "execute_result"
    }
   ],
   "source": [
    "final_df_intermed_0 = pd.merge(data_df, df_res_intermed_0, left_on = \"Index\", right_on = \"Index\")\n",
    "final_df_intermed_1 = pd.merge(data_df, df_res_intermed_1, left_on = \"Index\", right_on = \"Index\")\n",
    "final_df_intermed_0.head()"
   ]
  },
  {
   "cell_type": "code",
   "execution_count": 14,
   "metadata": {
    "collapsed": true
   },
   "outputs": [],
   "source": [
    "import matplotlib.pyplot as plt\n",
    "plt.style.use('ggplot')\n",
    "%matplotlib inline  "
   ]
  },
  {
   "cell_type": "code",
   "execution_count": 33,
   "metadata": {
    "collapsed": false
   },
   "outputs": [
    {
     "data": {
      "image/png": "[encoded data removed]",
      "text/plain": [
       "<matplotlib.figure.Figure at 0xa98be80>"
      ]
     },
     "metadata": {},
     "output_type": "display_data"
    }
   ],
   "source": [
    "groups = final_df_intermed_0.groupby('Cluster')\n",
    "\n",
    "# Plot\n",
    "colors = pd.tools.plotting._get_standard_colors(len(groups), colormap='viridis')\n",
    "\n",
    "fig, ax = plt.subplots()\n",
    "ax.set_color_cycle(colors)\n",
    "ax.margins(0.05)\n",
    "for name, group in groups:\n",
    "    ax.plot(group['Petal.Length'], group['Petal.Width'], marker='o', linestyle='', ms=6, markeredgewidth=0.0, label=name)\n",
    "ax.legend(numpoints=1, loc='upper left')\n",
    "ax.set_xlabel('Petal.Length')\n",
    "ax.set_ylabel('Petal.Width')\n",
    "\n",
    "plt.show()"
   ]
  },
  {
   "cell_type": "code",
   "execution_count": 34,
   "metadata": {
    "collapsed": false
   },
   "outputs": [
    {
     "data": {
      "image/png": "[encoded data removed]",
      "text/plain": [
       "<matplotlib.figure.Figure at 0xcb41630>"
      ]
     },
     "metadata": {},
     "output_type": "display_data"
    }
   ],
   "source": [
    "groups = final_df_intermed_1.groupby('Cluster')\n",
    "\n",
    "# Plot\n",
    "colors = pd.tools.plotting._get_standard_colors(len(groups), colormap='viridis')\n",
    "\n",
    "fig, ax = plt.subplots()\n",
    "ax.set_color_cycle(colors)\n",
    "ax.margins(0.05)\n",
    "for name, group in groups:\n",
    "    ax.plot(group['Petal.Length'], group['Petal.Width'], marker='o', linestyle='', ms=6, markeredgewidth=0.0, label=name)\n",
    "ax.legend(numpoints=1, loc='upper left')\n",
    "ax.set_xlabel('Petal.Length')\n",
    "ax.set_ylabel('Petal.Width')\n",
    "\n",
    "plt.show()"
   ]
  },
  {
   "cell_type": "code",
   "execution_count": 35,
   "metadata": {
    "collapsed": false
   },
   "outputs": [
    {
     "data": {
      "image/png": "[encoded data removed]",
      "text/plain": [
       "<matplotlib.figure.Figure at 0xcc3e668>"
      ]
     },
     "metadata": {},
     "output_type": "display_data"
    }
   ],
   "source": [
    "groups = final_df_intermed_0.groupby('Cluster')\n",
    "\n",
    "# Plot\n",
    "colors = pd.tools.plotting._get_standard_colors(len(groups), colormap='viridis')\n",
    "\n",
    "fig, ax = plt.subplots()\n",
    "ax.set_color_cycle(colors)\n",
    "ax.margins(0.05)\n",
    "for name, group in groups:\n",
    "    ax.plot(group['Sepal.Length'], group['Sepal.Width'], marker='o', linestyle='', ms=6, markeredgewidth=0.0, label=name)\n",
    "ax.legend(numpoints=1, loc='upper right')\n",
    "ax.set_xlabel('Sepal.Length')\n",
    "ax.set_ylabel('Sepal.Width')\n",
    "\n",
    "plt.show()"
   ]
  },
  {
   "cell_type": "code",
   "execution_count": 36,
   "metadata": {
    "collapsed": false
   },
   "outputs": [
    {
     "data": {
      "image/png": "[encoded data removed]",
      "text/plain": [
       "<matplotlib.figure.Figure at 0xc9f0f28>"
      ]
     },
     "metadata": {},
     "output_type": "display_data"
    }
   ],
   "source": [
    "groups = final_df_intermed_1.groupby('Cluster')\n",
    "\n",
    "# Plot\n",
    "colors = pd.tools.plotting._get_standard_colors(len(groups), colormap='viridis')\n",
    "\n",
    "fig, ax = plt.subplots()\n",
    "ax.set_color_cycle(colors)\n",
    "ax.margins(0.05)\n",
    "for name, group in groups:\n",
    "    ax.plot(group['Sepal.Length'], group['Sepal.Width'], marker='o', linestyle='', ms=6, markeredgewidth=0.0, label=name)\n",
    "ax.legend(numpoints=1, loc='upper right')\n",
    "ax.set_xlabel('Sepal.Length')\n",
    "ax.set_ylabel('Sepal.Width')\n",
    "\n",
    "plt.show()"
   ]
  },
  {
   "cell_type": "markdown",
   "metadata": {},
   "source": [
    "On constate que le deuxième CPU identifie 4 clusters relativement séparés sur les 2 graphiques, alors que le premier CPU identifie 4 clusters beaucoup moins bien séparés sur le second graphique, qui concerne la longueur et la largeur des sépales."
   ]
  },
  {
   "cell_type": "markdown",
   "metadata": {},
   "source": [
    "## 2. Agrégation des résultats des clusterings"
   ]
  },
  {
   "cell_type": "markdown",
   "metadata": {},
   "source": [
    "Nous allons présenter ici la démarche pas à pas d'agrégation des résultats entre les clusters. Toutes ces opérations sont regroupées au sein de la fonction \"affinity_propagation_clustering\" définie au début."
   ]
  },
  {
   "cell_type": "markdown",
   "metadata": {},
   "source": [
    "L'idée principale de l'article est de limiter au maximum le nombre de communications entre les CPU : c'est pour cela qu'au lieu d'effectuer un seul clustering sur plusieurs CPU à la fois, nous effectuons un clustering différent sur chaque CPU. **Les résultats sont ensuite agrégés en regroupant en un seul cluster les points dont les centres sont \"proches\".**\n",
    "\n",
    "Notons que les auteurs de l'article de donnent quasiment aucune indication sur la procédure à suivre pour en pratique \"agréger\" ces clusters trop proches, et que ceci est en réalité plus complexe que cela n'en a l'air, comme on le verra par la suite."
   ]
  },
  {
   "cell_type": "markdown",
   "metadata": {},
   "source": [
    "### Calcul des similarités entre les centres"
   ]
  },
  {
   "cell_type": "markdown",
   "metadata": {},
   "source": [
    "La première étape est donc d'identifier quels sont les centres proches 2 à 2 : il faut donc calculer la similarités entre tous les centres obtenus à l'issue des différents clusterings.\n",
    "\n",
    "L'article conseille de regrouper les centres dont la similarité est supérieure à 0.5 fois la valeur de préférence, sans donner plus de détails. Nous profitons donc du calcul des similarités pour aussi calculer le valeur du seuil. Nous choisissons donc d'utiliser ici un seuil égal à cluster_aggregation_parameter fois la moyenne des valeurs de préférences du CPU dont sont issus chacun des deux centres. Pour l'instant, nous fixons cluster_aggregation_parameter à 0.5, mais, comme on le verra par la suite sur les résultats sur le jeu de données Iris, il semble préférable de laisser ce choix à l'utilisateur afin de pouvoir moduler le nombre de clusters final."
   ]
  },
  {
   "cell_type": "code",
   "execution_count": 37,
   "metadata": {
    "collapsed": true
   },
   "outputs": [],
   "source": [
    "cluster_aggregation_parameter = 0.5"
   ]
  },
  {
   "cell_type": "code",
   "execution_count": 38,
   "metadata": {
    "collapsed": true
   },
   "outputs": [],
   "source": [
    "rdd_dist = rdd2.cartesian(rdd2).map(lambda u : ((u[0][0], u[1][0]),euclidean_similarity(u[0][2], u[1][2]),\n",
    "                                     cluster_aggregation_parameter*((u[0][3] + u[1][3])/2)))"
   ]
  },
  {
   "cell_type": "code",
   "execution_count": 39,
   "metadata": {
    "collapsed": false
   },
   "outputs": [
    {
     "data": {
      "text/plain": [
       "[((2.0, 2.0), -0.0, -2.9699999999999989),\n",
       " ((2.0, 32.0), -5.880000000000001, -2.9699999999999989),\n",
       " ((2.0, 55.0), -27.740000000000002, -2.9699999999999989)]"
      ]
     },
     "execution_count": 39,
     "metadata": {},
     "output_type": "execute_result"
    }
   ],
   "source": [
    "rdd_dist.collect()[:3]"
   ]
  },
  {
   "cell_type": "markdown",
   "metadata": {},
   "source": [
    "### Sélection des centres qui doivent être regroupés 2 à 2"
   ]
  },
  {
   "cell_type": "markdown",
   "metadata": {},
   "source": [
    "Nous filtrons ici les centres que nous souhaitons regrouper : ceux dont la similarité est supérieure au seuil calculé."
   ]
  },
  {
   "cell_type": "code",
   "execution_count": 40,
   "metadata": {
    "collapsed": false
   },
   "outputs": [
    {
     "data": {
      "text/plain": [
       "[(2.0, 2.0), (2.0, 66.0), (32.0, 32.0), (55.0, 55.0), (32.0, 66.0)]"
      ]
     },
     "execution_count": 40,
     "metadata": {},
     "output_type": "execute_result"
    }
   ],
   "source": [
    "edges = rdd_dist.filter(lambda u : u[1] > u[2]).map(lambda u: u[0])\n",
    "edges.collect()[:5]"
   ]
  },
  {
   "cell_type": "markdown",
   "metadata": {},
   "source": [
    "Comme on le voit ici, le regroupement est loin d'être évident car un même centre peut devoir être regroupé avec plusieurs centres, comme par exemple le centre 2, le centre 32 et le centre 66.\n",
    "\n",
    "Nous modifions dont le format des données avec une opérations reduceByKey : nous présentons les données sous forme d'un graphe. Chaque centre est un noeud auquel on associe la liste des centres auxquels il doit être regroupé."
   ]
  },
  {
   "cell_type": "code",
   "execution_count": 41,
   "metadata": {
    "collapsed": false
   },
   "outputs": [
    {
     "data": {
      "text/plain": [
       "[(32.0, [32.0, 66.0, 92.0, 147.0]),\n",
       " (92.0, [32.0, 66.0, 92.0, 147.0]),\n",
       " (2.0, [2.0, 66.0, 78.0, 147.0]),\n",
       " (78.0, [2.0, 66.0, 78.0, 147.0]),\n",
       " (66.0, [2.0, 32.0, 66.0, 78.0, 92.0, 147.0]),\n",
       " (86.0, [55.0, 86.0]),\n",
       " (147.0, [2.0, 32.0, 66.0, 78.0, 92.0, 147.0]),\n",
       " (55.0, [55.0, 86.0])]"
      ]
     },
     "execution_count": 41,
     "metadata": {},
     "output_type": "execute_result"
    }
   ],
   "source": [
    "edges = edges.map(lambda nameTuple: (nameTuple[0], [ nameTuple[1] ])) \\\n",
    ".reduceByKey(lambda a, b: a + b)  # combine lists: ([1,2,3] + [4,5]) becomes [1,2,3,4,5]\n",
    "\n",
    "edges.collect()"
   ]
  },
  {
   "cell_type": "markdown",
   "metadata": {},
   "source": [
    "Ces couples key-value peuvent être facilement convertis en dictionnaire Python : "
   ]
  },
  {
   "cell_type": "code",
   "execution_count": 42,
   "metadata": {
    "collapsed": false
   },
   "outputs": [
    {
     "data": {
      "text/plain": [
       "{2.0: [2.0, 66.0, 78.0, 147.0],\n",
       " 32.0: [32.0, 66.0, 92.0, 147.0],\n",
       " 55.0: [55.0, 86.0],\n",
       " 66.0: [2.0, 32.0, 66.0, 78.0, 92.0, 147.0],\n",
       " 78.0: [2.0, 66.0, 78.0, 147.0],\n",
       " 86.0: [55.0, 86.0],\n",
       " 92.0: [32.0, 66.0, 92.0, 147.0],\n",
       " 147.0: [2.0, 32.0, 66.0, 78.0, 92.0, 147.0]}"
      ]
     },
     "execution_count": 42,
     "metadata": {},
     "output_type": "execute_result"
    }
   ],
   "source": [
    "dict(edges.collect())"
   ]
  },
  {
   "cell_type": "markdown",
   "metadata": {},
   "source": [
    "### Formulation du problème d'agrégation en un problème de recherche de connected components au sein d'un graphe"
   ]
  },
  {
   "cell_type": "markdown",
   "metadata": {},
   "source": [
    "Comme on le voit, le problème est maintenant d'attribuer la même clé à tous des centres devant être regroupés en un seul, et ceci est loin d'être le résultat d'une transformation évidente.\n",
    "Nous pouvons représenter nos centres devant être agrégés sous forme de graphe, où chaque centre correspond à un noeud et où les centres devant être agrégés sont reliés par une arête :"
   ]
  },
  {
   "cell_type": "code",
   "execution_count": 43,
   "metadata": {
    "collapsed": true
   },
   "outputs": [],
   "source": [
    "import networkx as nx\n",
    "import matplotlib.pyplot as plt\n",
    "plt.style.use('ggplot')\n",
    "%matplotlib inline"
   ]
  },
  {
   "cell_type": "code",
   "execution_count": 44,
   "metadata": {
    "collapsed": true
   },
   "outputs": [],
   "source": [
    "G=nx.Graph(dict(edges.collect()))"
   ]
  },
  {
   "cell_type": "code",
   "execution_count": 45,
   "metadata": {
    "collapsed": false
   },
   "outputs": [
    {
     "data": {
      "image/png": "[encoded data removed]",
      "text/plain": [
       "<matplotlib.figure.Figure at 0xba4e1d0>"
      ]
     },
     "metadata": {},
     "output_type": "display_data"
    }
   ],
   "source": [
    "nx.draw(G, node_color='c',edge_color='k', with_labels=True)"
   ]
  },
  {
   "cell_type": "markdown",
   "metadata": {},
   "source": [
    "On comprend ici que nous aboutissons à deux clusters en procédant à une agrégation. Nous devons donc maintenant écrire une fonction capable de mettre en évidence ces sous-graphes, c'est-à-dire attribuer la même clé aux noeuds appartenant au même sous-graphe. Ceci correspond au problème qu'on appelle la recherche des \"connected components\" en théorie des graphe."
   ]
  },
  {
   "cell_type": "markdown",
   "metadata": {},
   "source": [
    "Nous nous reprenons donc en grande partie une des fonctions mentionnées ici : http://stackoverflow.com/questions/10301000/python-connected-components\n",
    "\n",
    "Notons cependant qu'utiliser ce type de fonction implique en pratique de **rapatrier sur le CPU master les données contenues dans \"edges.collect()\"**, c'est-à-dire le graphe dont nous avons fait la représentation graphique ci-dessus. Ceci ne devrait dans la plupart des cas pas poser de problème car il s'agit uniquement d'un nombre restreint d'index. La taille de ces données en termes de stockage ne dépend ainsi pas du nombre de variables disponible dans le le jeu de données initial et contient a priori un petit nombre de lignes car peu de centres sont mis en évidence et peu doivent être agrégés.\n",
    "\n",
    "Néanmoins, nous aurions effectivement pu réfléchir à une version distribuée de la recherche des connected components. Nous savons qu'il en existe une version déjà implementée sur Spark dans le package GraphFrames mais nous n'avons pas réussi à l'installer (le package est compris dans l'installation de Spark pour le langage Scala mais pas pour le langage Python). Cependant, comme évoqué ci-dessus, le fait de tout effectuer sur le master n'est pas forcément un mauvais choix en termes de performance car cela évite un certain nombre de coûts de communication. Il aurait idéalement fallu comparer les performances sur un véritable cluster de CPU avec plusieurs bases de données."
   ]
  },
  {
   "cell_type": "code",
   "execution_count": 46,
   "metadata": {
    "collapsed": true
   },
   "outputs": [],
   "source": [
    "def getRoots3(aNeigh):\n",
    "    def findRoot(aNode,aRoot):\n",
    "        while aNode != aRoot[aNode][0]:\n",
    "            aNode = aRoot[aNode][0]\n",
    "        return (aNode,aRoot[aNode][1])\n",
    "    myRoot = {} \n",
    "    for myNode in aNeigh.keys():\n",
    "        myRoot[myNode] = (myNode,0)  \n",
    "    for myI in aNeigh: \n",
    "        for myJ in aNeigh[myI]: \n",
    "            (myRoot_myI,myDepthMyI) = findRoot(myI,myRoot) \n",
    "            (myRoot_myJ,myDepthMyJ) = findRoot(myJ,myRoot) \n",
    "            if myRoot_myI != myRoot_myJ: \n",
    "                myMin = myRoot_myI\n",
    "                myMax = myRoot_myJ \n",
    "                if  myDepthMyI > myDepthMyJ: \n",
    "                    myMin = myRoot_myJ\n",
    "                    myMax = myRoot_myI\n",
    "                myRoot[myMax] = (myMax,max(myRoot[myMin][1]+1,myRoot[myMax][1]))\n",
    "                myRoot[myMin] = (myRoot[myMax][0],-1) \n",
    "    myToRet = {}\n",
    "    for myI in aNeigh: \n",
    "        myToRet[myI] = findRoot(myI,myRoot)[0]\n",
    "    return myToRet  "
   ]
  },
  {
   "cell_type": "code",
   "execution_count": 47,
   "metadata": {
    "collapsed": false
   },
   "outputs": [
    {
     "data": {
      "text/plain": [
       "{2.0: 66.0,\n",
       " 32.0: 66.0,\n",
       " 55.0: 55.0,\n",
       " 66.0: 66.0,\n",
       " 78.0: 66.0,\n",
       " 86.0: 55.0,\n",
       " 92.0: 66.0,\n",
       " 147.0: 66.0}"
      ]
     },
     "execution_count": 47,
     "metadata": {},
     "output_type": "execute_result"
    }
   ],
   "source": [
    "connected_components = getRoots3(dict(edges.collect()))\n",
    "connected_components"
   ]
  },
  {
   "cell_type": "markdown",
   "metadata": {},
   "source": [
    "On retrouve bien le résultat \"visuel\" que nous avions en traçant le graphe ci-dessus."
   ]
  },
  {
   "cell_type": "markdown",
   "metadata": {},
   "source": [
    "### Transfert des résultats de l'agrégation du master vers tous les CPU et renvoi des clusters finaux"
   ]
  },
  {
   "cell_type": "markdown",
   "metadata": {},
   "source": [
    "L'opération d'agrégation à l'aide de l'algorithme de recherche des connected components ayant lieu sur le master, il faut maintenant renvoyer les résultats vers tous les esclaves pour qu'ils mettent à jour les clés (i.e : l'index du centre) de chaque individu. On utilise donc à cette fin la commande broadcast."
   ]
  },
  {
   "cell_type": "code",
   "execution_count": 48,
   "metadata": {
    "collapsed": true
   },
   "outputs": [],
   "source": [
    "#Broadcast des résultats de la recherche de connected components sur tous les noeuds\n",
    "connected_components_broadcast = sc.broadcast(connected_components)"
   ]
  },
  {
   "cell_type": "code",
   "execution_count": 49,
   "metadata": {
    "collapsed": true
   },
   "outputs": [],
   "source": [
    "rdd3 = rdd2.map(lambda (center, points, coordinates, preference) : (connected_components_broadcast.value[center], points))"
   ]
  },
  {
   "cell_type": "code",
   "execution_count": 50,
   "metadata": {
    "collapsed": false
   },
   "outputs": [
    {
     "data": {
      "text/plain": [
       "[(66.0,\n",
       "  [0.0,\n",
       "   2.0,\n",
       "   9.0,\n",
       "   18.0,\n",
       "   19.0,\n",
       "   23.0,\n",
       "   25.0,\n",
       "   34.0,\n",
       "   40.0,\n",
       "   41.0,\n",
       "   46.0,\n",
       "   52.0,\n",
       "   56.0,\n",
       "   58.0,\n",
       "   62.0,\n",
       "   74.0]),\n",
       " (66.0, [1.0, 7.0, 8.0, 13.0, 30.0, 32.0, 49.0, 64.0, 69.0, 71.0, 72.0, 75.0]),\n",
       " (55.0,\n",
       "  [4.0,\n",
       "   5.0,\n",
       "   6.0,\n",
       "   10.0,\n",
       "   14.0,\n",
       "   15.0,\n",
       "   16.0,\n",
       "   17.0,\n",
       "   20.0,\n",
       "   22.0,\n",
       "   24.0,\n",
       "   26.0,\n",
       "   27.0,\n",
       "   28.0,\n",
       "   35.0,\n",
       "   36.0,\n",
       "   39.0,\n",
       "   42.0,\n",
       "   45.0,\n",
       "   48.0,\n",
       "   50.0,\n",
       "   53.0,\n",
       "   55.0,\n",
       "   57.0,\n",
       "   61.0,\n",
       "   63.0,\n",
       "   67.0,\n",
       "   70.0,\n",
       "   73.0]),\n",
       " (66.0,\n",
       "  [3.0,\n",
       "   11.0,\n",
       "   12.0,\n",
       "   21.0,\n",
       "   29.0,\n",
       "   31.0,\n",
       "   33.0,\n",
       "   37.0,\n",
       "   38.0,\n",
       "   43.0,\n",
       "   44.0,\n",
       "   47.0,\n",
       "   51.0,\n",
       "   54.0,\n",
       "   59.0,\n",
       "   60.0,\n",
       "   65.0,\n",
       "   66.0,\n",
       "   68.0,\n",
       "   76.0]),\n",
       " (66.0,\n",
       "  [78.0,\n",
       "   79.0,\n",
       "   85.0,\n",
       "   90.0,\n",
       "   94.0,\n",
       "   100.0,\n",
       "   103.0,\n",
       "   109.0,\n",
       "   113.0,\n",
       "   118.0,\n",
       "   121.0,\n",
       "   123.0,\n",
       "   127.0,\n",
       "   132.0,\n",
       "   137.0,\n",
       "   139.0]),\n",
       " (55.0,\n",
       "  [77.0,\n",
       "   81.0,\n",
       "   84.0,\n",
       "   86.0,\n",
       "   88.0,\n",
       "   104.0,\n",
       "   106.0,\n",
       "   108.0,\n",
       "   110.0,\n",
       "   111.0,\n",
       "   112.0,\n",
       "   117.0,\n",
       "   124.0,\n",
       "   125.0,\n",
       "   128.0,\n",
       "   134.0,\n",
       "   140.0,\n",
       "   141.0,\n",
       "   143.0,\n",
       "   144.0,\n",
       "   149.0]),\n",
       " (66.0,\n",
       "  [80.0,\n",
       "   82.0,\n",
       "   83.0,\n",
       "   89.0,\n",
       "   92.0,\n",
       "   93.0,\n",
       "   95.0,\n",
       "   96.0,\n",
       "   101.0,\n",
       "   102.0,\n",
       "   105.0,\n",
       "   107.0,\n",
       "   116.0,\n",
       "   120.0,\n",
       "   131.0,\n",
       "   146.0,\n",
       "   148.0]),\n",
       " (66.0,\n",
       "  [87.0,\n",
       "   91.0,\n",
       "   97.0,\n",
       "   98.0,\n",
       "   99.0,\n",
       "   114.0,\n",
       "   115.0,\n",
       "   119.0,\n",
       "   122.0,\n",
       "   126.0,\n",
       "   129.0,\n",
       "   130.0,\n",
       "   133.0,\n",
       "   135.0,\n",
       "   136.0,\n",
       "   138.0,\n",
       "   142.0,\n",
       "   145.0,\n",
       "   147.0])]"
      ]
     },
     "execution_count": 50,
     "metadata": {},
     "output_type": "execute_result"
    }
   ],
   "source": [
    "rdd3.collect()"
   ]
  },
  {
   "cell_type": "markdown",
   "metadata": {
    "collapsed": true
   },
   "source": [
    "On aggrège ensuite les listes de points qui ont le même centre (i.e la même clé) à l'aide d'une opération reduce."
   ]
  },
  {
   "cell_type": "code",
   "execution_count": 51,
   "metadata": {
    "collapsed": true
   },
   "outputs": [],
   "source": [
    "result_clustering = rdd3.reduceByKey(lambda a, b: a + b)"
   ]
  },
  {
   "cell_type": "code",
   "execution_count": 52,
   "metadata": {
    "collapsed": false
   },
   "outputs": [
    {
     "data": {
      "text/plain": [
       "[(66.0,\n",
       "  [0.0,\n",
       "   2.0,\n",
       "   9.0,\n",
       "   18.0,\n",
       "   19.0,\n",
       "   23.0,\n",
       "   25.0,\n",
       "   34.0,\n",
       "   40.0,\n",
       "   41.0,\n",
       "   46.0,\n",
       "   52.0,\n",
       "   56.0,\n",
       "   58.0,\n",
       "   62.0,\n",
       "   74.0,\n",
       "   1.0,\n",
       "   7.0,\n",
       "   8.0,\n",
       "   13.0,\n",
       "   30.0,\n",
       "   32.0,\n",
       "   49.0,\n",
       "   64.0,\n",
       "   69.0,\n",
       "   71.0,\n",
       "   72.0,\n",
       "   75.0,\n",
       "   3.0,\n",
       "   11.0,\n",
       "   12.0,\n",
       "   21.0,\n",
       "   29.0,\n",
       "   31.0,\n",
       "   33.0,\n",
       "   37.0,\n",
       "   38.0,\n",
       "   43.0,\n",
       "   44.0,\n",
       "   47.0,\n",
       "   51.0,\n",
       "   54.0,\n",
       "   59.0,\n",
       "   60.0,\n",
       "   65.0,\n",
       "   66.0,\n",
       "   68.0,\n",
       "   76.0,\n",
       "   78.0,\n",
       "   79.0,\n",
       "   85.0,\n",
       "   90.0,\n",
       "   94.0,\n",
       "   100.0,\n",
       "   103.0,\n",
       "   109.0,\n",
       "   113.0,\n",
       "   118.0,\n",
       "   121.0,\n",
       "   123.0,\n",
       "   127.0,\n",
       "   132.0,\n",
       "   137.0,\n",
       "   139.0,\n",
       "   80.0,\n",
       "   82.0,\n",
       "   83.0,\n",
       "   89.0,\n",
       "   92.0,\n",
       "   93.0,\n",
       "   95.0,\n",
       "   96.0,\n",
       "   101.0,\n",
       "   102.0,\n",
       "   105.0,\n",
       "   107.0,\n",
       "   116.0,\n",
       "   120.0,\n",
       "   131.0,\n",
       "   146.0,\n",
       "   148.0,\n",
       "   87.0,\n",
       "   91.0,\n",
       "   97.0,\n",
       "   98.0,\n",
       "   99.0,\n",
       "   114.0,\n",
       "   115.0,\n",
       "   119.0,\n",
       "   122.0,\n",
       "   126.0,\n",
       "   129.0,\n",
       "   130.0,\n",
       "   133.0,\n",
       "   135.0,\n",
       "   136.0,\n",
       "   138.0,\n",
       "   142.0,\n",
       "   145.0,\n",
       "   147.0]),\n",
       " (55.0,\n",
       "  [4.0,\n",
       "   5.0,\n",
       "   6.0,\n",
       "   10.0,\n",
       "   14.0,\n",
       "   15.0,\n",
       "   16.0,\n",
       "   17.0,\n",
       "   20.0,\n",
       "   22.0,\n",
       "   24.0,\n",
       "   26.0,\n",
       "   27.0,\n",
       "   28.0,\n",
       "   35.0,\n",
       "   36.0,\n",
       "   39.0,\n",
       "   42.0,\n",
       "   45.0,\n",
       "   48.0,\n",
       "   50.0,\n",
       "   53.0,\n",
       "   55.0,\n",
       "   57.0,\n",
       "   61.0,\n",
       "   63.0,\n",
       "   67.0,\n",
       "   70.0,\n",
       "   73.0,\n",
       "   77.0,\n",
       "   81.0,\n",
       "   84.0,\n",
       "   86.0,\n",
       "   88.0,\n",
       "   104.0,\n",
       "   106.0,\n",
       "   108.0,\n",
       "   110.0,\n",
       "   111.0,\n",
       "   112.0,\n",
       "   117.0,\n",
       "   124.0,\n",
       "   125.0,\n",
       "   128.0,\n",
       "   134.0,\n",
       "   140.0,\n",
       "   141.0,\n",
       "   143.0,\n",
       "   144.0,\n",
       "   149.0])]"
      ]
     },
     "execution_count": 52,
     "metadata": {},
     "output_type": "execute_result"
    }
   ],
   "source": [
    "result_clustering.collect()"
   ]
  },
  {
   "cell_type": "markdown",
   "metadata": {},
   "source": [
    "Les résultats peuvent être également présentés sous la forme de tuples (centre, individu) à l'aide d'une opération flatMap (qui va donc rajouter des lignes) :"
   ]
  },
  {
   "cell_type": "code",
   "execution_count": 54,
   "metadata": {
    "collapsed": false
   },
   "outputs": [
    {
     "data": {
      "text/plain": [
       "[(0.0, 66.0), (2.0, 66.0), (9.0, 66.0), (18.0, 66.0), (19.0, 66.0)]"
      ]
     },
     "execution_count": 54,
     "metadata": {},
     "output_type": "execute_result"
    }
   ],
   "source": [
    "result_clustering.flatMap(lambda (center, points) : [(point, center) for point in points]).collect()[:5]"
   ]
  },
  {
   "cell_type": "markdown",
   "metadata": {},
   "source": [
    "## Test de la fonction affinity_propagation_clustering regroupant toutes les étapes précédentes"
   ]
  },
  {
   "cell_type": "markdown",
   "metadata": {},
   "source": [
    "Nous avons regroupé toutes les étapes précédentes au sein de la fonction affinity_propagation_clustering. Testons là en utilisant le paramétrage recommandé par l'article, à savoir une valeur de préférence égale à la médiane et un cluster_aggregation_parameter égal à 0.5."
   ]
  },
  {
   "cell_type": "code",
   "execution_count": 58,
   "metadata": {
    "collapsed": false
   },
   "outputs": [],
   "source": [
    "result_clustering = affinity_propagation_clustering(\"iris_data_indexed.txt\", cluster_aggregation_parameter = 0.5, \n",
    "                                                    similarity_function = euclidean_similarity)"
   ]
  },
  {
   "cell_type": "code",
   "execution_count": 59,
   "metadata": {
    "collapsed": false
   },
   "outputs": [
    {
     "data": {
      "text/plain": [
       "[(66.0,\n",
       "  [0.0,\n",
       "   2.0,\n",
       "   9.0,\n",
       "   18.0,\n",
       "   19.0,\n",
       "   23.0,\n",
       "   25.0,\n",
       "   34.0,\n",
       "   40.0,\n",
       "   41.0,\n",
       "   46.0,\n",
       "   52.0,\n",
       "   56.0,\n",
       "   58.0,\n",
       "   62.0,\n",
       "   74.0,\n",
       "   1.0,\n",
       "   7.0,\n",
       "   8.0,\n",
       "   13.0,\n",
       "   30.0,\n",
       "   32.0,\n",
       "   49.0,\n",
       "   64.0,\n",
       "   69.0,\n",
       "   71.0,\n",
       "   72.0,\n",
       "   75.0,\n",
       "   3.0,\n",
       "   11.0,\n",
       "   12.0,\n",
       "   21.0,\n",
       "   29.0,\n",
       "   31.0,\n",
       "   33.0,\n",
       "   37.0,\n",
       "   38.0,\n",
       "   43.0,\n",
       "   44.0,\n",
       "   47.0,\n",
       "   51.0,\n",
       "   54.0,\n",
       "   59.0,\n",
       "   60.0,\n",
       "   65.0,\n",
       "   66.0,\n",
       "   68.0,\n",
       "   76.0,\n",
       "   78.0,\n",
       "   79.0,\n",
       "   85.0,\n",
       "   90.0,\n",
       "   94.0,\n",
       "   100.0,\n",
       "   103.0,\n",
       "   109.0,\n",
       "   113.0,\n",
       "   118.0,\n",
       "   121.0,\n",
       "   123.0,\n",
       "   127.0,\n",
       "   132.0,\n",
       "   137.0,\n",
       "   139.0,\n",
       "   80.0,\n",
       "   82.0,\n",
       "   83.0,\n",
       "   89.0,\n",
       "   92.0,\n",
       "   93.0,\n",
       "   95.0,\n",
       "   96.0,\n",
       "   101.0,\n",
       "   102.0,\n",
       "   105.0,\n",
       "   107.0,\n",
       "   116.0,\n",
       "   120.0,\n",
       "   131.0,\n",
       "   146.0,\n",
       "   148.0,\n",
       "   87.0,\n",
       "   91.0,\n",
       "   97.0,\n",
       "   98.0,\n",
       "   99.0,\n",
       "   114.0,\n",
       "   115.0,\n",
       "   119.0,\n",
       "   122.0,\n",
       "   126.0,\n",
       "   129.0,\n",
       "   130.0,\n",
       "   133.0,\n",
       "   135.0,\n",
       "   136.0,\n",
       "   138.0,\n",
       "   142.0,\n",
       "   145.0,\n",
       "   147.0]),\n",
       " (55.0,\n",
       "  [4.0,\n",
       "   5.0,\n",
       "   6.0,\n",
       "   10.0,\n",
       "   14.0,\n",
       "   15.0,\n",
       "   16.0,\n",
       "   17.0,\n",
       "   20.0,\n",
       "   22.0,\n",
       "   24.0,\n",
       "   26.0,\n",
       "   27.0,\n",
       "   28.0,\n",
       "   35.0,\n",
       "   36.0,\n",
       "   39.0,\n",
       "   42.0,\n",
       "   45.0,\n",
       "   48.0,\n",
       "   50.0,\n",
       "   53.0,\n",
       "   55.0,\n",
       "   57.0,\n",
       "   61.0,\n",
       "   63.0,\n",
       "   67.0,\n",
       "   70.0,\n",
       "   73.0,\n",
       "   77.0,\n",
       "   81.0,\n",
       "   84.0,\n",
       "   86.0,\n",
       "   88.0,\n",
       "   104.0,\n",
       "   106.0,\n",
       "   108.0,\n",
       "   110.0,\n",
       "   111.0,\n",
       "   112.0,\n",
       "   117.0,\n",
       "   124.0,\n",
       "   125.0,\n",
       "   128.0,\n",
       "   134.0,\n",
       "   140.0,\n",
       "   141.0,\n",
       "   143.0,\n",
       "   144.0,\n",
       "   149.0])]"
      ]
     },
     "execution_count": 59,
     "metadata": {},
     "output_type": "execute_result"
    }
   ],
   "source": [
    "result_clustering.collect()"
   ]
  },
  {
   "cell_type": "code",
   "execution_count": 60,
   "metadata": {
    "collapsed": false
   },
   "outputs": [
    {
     "data": {
      "text/plain": [
       "[(0.0, 66.0),\n",
       " (2.0, 66.0),\n",
       " (9.0, 66.0),\n",
       " (18.0, 66.0),\n",
       " (19.0, 66.0),\n",
       " (23.0, 66.0),\n",
       " (25.0, 66.0),\n",
       " (34.0, 66.0),\n",
       " (40.0, 66.0),\n",
       " (41.0, 66.0),\n",
       " (46.0, 66.0),\n",
       " (52.0, 66.0),\n",
       " (56.0, 66.0),\n",
       " (58.0, 66.0),\n",
       " (62.0, 66.0),\n",
       " (74.0, 66.0),\n",
       " (1.0, 66.0),\n",
       " (7.0, 66.0),\n",
       " (8.0, 66.0),\n",
       " (13.0, 66.0),\n",
       " (30.0, 66.0),\n",
       " (32.0, 66.0),\n",
       " (49.0, 66.0),\n",
       " (64.0, 66.0),\n",
       " (69.0, 66.0),\n",
       " (71.0, 66.0),\n",
       " (72.0, 66.0),\n",
       " (75.0, 66.0),\n",
       " (3.0, 66.0),\n",
       " (11.0, 66.0),\n",
       " (12.0, 66.0),\n",
       " (21.0, 66.0),\n",
       " (29.0, 66.0),\n",
       " (31.0, 66.0),\n",
       " (33.0, 66.0),\n",
       " (37.0, 66.0),\n",
       " (38.0, 66.0),\n",
       " (43.0, 66.0),\n",
       " (44.0, 66.0),\n",
       " (47.0, 66.0),\n",
       " (51.0, 66.0),\n",
       " (54.0, 66.0),\n",
       " (59.0, 66.0),\n",
       " (60.0, 66.0),\n",
       " (65.0, 66.0),\n",
       " (66.0, 66.0),\n",
       " (68.0, 66.0),\n",
       " (76.0, 66.0),\n",
       " (78.0, 66.0),\n",
       " (79.0, 66.0),\n",
       " (85.0, 66.0),\n",
       " (90.0, 66.0),\n",
       " (94.0, 66.0),\n",
       " (100.0, 66.0),\n",
       " (103.0, 66.0),\n",
       " (109.0, 66.0),\n",
       " (113.0, 66.0),\n",
       " (118.0, 66.0),\n",
       " (121.0, 66.0),\n",
       " (123.0, 66.0),\n",
       " (127.0, 66.0),\n",
       " (132.0, 66.0),\n",
       " (137.0, 66.0),\n",
       " (139.0, 66.0),\n",
       " (80.0, 66.0),\n",
       " (82.0, 66.0),\n",
       " (83.0, 66.0),\n",
       " (89.0, 66.0),\n",
       " (92.0, 66.0),\n",
       " (93.0, 66.0),\n",
       " (95.0, 66.0),\n",
       " (96.0, 66.0),\n",
       " (101.0, 66.0),\n",
       " (102.0, 66.0),\n",
       " (105.0, 66.0),\n",
       " (107.0, 66.0),\n",
       " (116.0, 66.0),\n",
       " (120.0, 66.0),\n",
       " (131.0, 66.0),\n",
       " (146.0, 66.0),\n",
       " (148.0, 66.0),\n",
       " (87.0, 66.0),\n",
       " (91.0, 66.0),\n",
       " (97.0, 66.0),\n",
       " (98.0, 66.0),\n",
       " (99.0, 66.0),\n",
       " (114.0, 66.0),\n",
       " (115.0, 66.0),\n",
       " (119.0, 66.0),\n",
       " (122.0, 66.0),\n",
       " (126.0, 66.0),\n",
       " (129.0, 66.0),\n",
       " (130.0, 66.0),\n",
       " (133.0, 66.0),\n",
       " (135.0, 66.0),\n",
       " (136.0, 66.0),\n",
       " (138.0, 66.0),\n",
       " (142.0, 66.0),\n",
       " (145.0, 66.0),\n",
       " (147.0, 66.0),\n",
       " (4.0, 55.0),\n",
       " (5.0, 55.0),\n",
       " (6.0, 55.0),\n",
       " (10.0, 55.0),\n",
       " (14.0, 55.0),\n",
       " (15.0, 55.0),\n",
       " (16.0, 55.0),\n",
       " (17.0, 55.0),\n",
       " (20.0, 55.0),\n",
       " (22.0, 55.0),\n",
       " (24.0, 55.0),\n",
       " (26.0, 55.0),\n",
       " (27.0, 55.0),\n",
       " (28.0, 55.0),\n",
       " (35.0, 55.0),\n",
       " (36.0, 55.0),\n",
       " (39.0, 55.0),\n",
       " (42.0, 55.0),\n",
       " (45.0, 55.0),\n",
       " (48.0, 55.0),\n",
       " (50.0, 55.0),\n",
       " (53.0, 55.0),\n",
       " (55.0, 55.0),\n",
       " (57.0, 55.0),\n",
       " (61.0, 55.0),\n",
       " (63.0, 55.0),\n",
       " (67.0, 55.0),\n",
       " (70.0, 55.0),\n",
       " (73.0, 55.0),\n",
       " (77.0, 55.0),\n",
       " (81.0, 55.0),\n",
       " (84.0, 55.0),\n",
       " (86.0, 55.0),\n",
       " (88.0, 55.0),\n",
       " (104.0, 55.0),\n",
       " (106.0, 55.0),\n",
       " (108.0, 55.0),\n",
       " (110.0, 55.0),\n",
       " (111.0, 55.0),\n",
       " (112.0, 55.0),\n",
       " (117.0, 55.0),\n",
       " (124.0, 55.0),\n",
       " (125.0, 55.0),\n",
       " (128.0, 55.0),\n",
       " (134.0, 55.0),\n",
       " (140.0, 55.0),\n",
       " (141.0, 55.0),\n",
       " (143.0, 55.0),\n",
       " (144.0, 55.0),\n",
       " (149.0, 55.0)]"
      ]
     },
     "execution_count": 60,
     "metadata": {},
     "output_type": "execute_result"
    }
   ],
   "source": [
    "result_clustering.flatMap(lambda (center, points) : [(point, center) for point in points]).collect()"
   ]
  },
  {
   "cell_type": "code",
   "execution_count": 61,
   "metadata": {
    "collapsed": false
   },
   "outputs": [
    {
     "data": {
      "text/html": [
       "<div>\n",
       "<table border=\"1\" class=\"dataframe\">\n",
       "  <thead>\n",
       "    <tr style=\"text-align: right;\">\n",
       "      <th></th>\n",
       "      <th>Index</th>\n",
       "      <th>Cluster</th>\n",
       "    </tr>\n",
       "  </thead>\n",
       "  <tbody>\n",
       "    <tr>\n",
       "      <th>0</th>\n",
       "      <td>0.0</td>\n",
       "      <td>66.0</td>\n",
       "    </tr>\n",
       "    <tr>\n",
       "      <th>1</th>\n",
       "      <td>2.0</td>\n",
       "      <td>66.0</td>\n",
       "    </tr>\n",
       "    <tr>\n",
       "      <th>2</th>\n",
       "      <td>9.0</td>\n",
       "      <td>66.0</td>\n",
       "    </tr>\n",
       "    <tr>\n",
       "      <th>3</th>\n",
       "      <td>18.0</td>\n",
       "      <td>66.0</td>\n",
       "    </tr>\n",
       "    <tr>\n",
       "      <th>4</th>\n",
       "      <td>19.0</td>\n",
       "      <td>66.0</td>\n",
       "    </tr>\n",
       "  </tbody>\n",
       "</table>\n",
       "</div>"
      ],
      "text/plain": [
       "   Index  Cluster\n",
       "0    0.0     66.0\n",
       "1    2.0     66.0\n",
       "2    9.0     66.0\n",
       "3   18.0     66.0\n",
       "4   19.0     66.0"
      ]
     },
     "execution_count": 61,
     "metadata": {},
     "output_type": "execute_result"
    }
   ],
   "source": [
    "import pandas as pd\n",
    "df_res = pd.DataFrame(result_clustering.flatMap(lambda (center, points) : [(point, center) for point in points]).collect())\n",
    "df_res.columns=['Index', 'Cluster']\n",
    "df_res.head()"
   ]
  },
  {
   "cell_type": "code",
   "execution_count": 62,
   "metadata": {
    "collapsed": false
   },
   "outputs": [
    {
     "data": {
      "text/html": [
       "<div>\n",
       "<table border=\"1\" class=\"dataframe\">\n",
       "  <thead>\n",
       "    <tr style=\"text-align: right;\">\n",
       "      <th></th>\n",
       "      <th>Index</th>\n",
       "      <th>Sepal.Length</th>\n",
       "      <th>Sepal.Width</th>\n",
       "      <th>Petal.Length</th>\n",
       "      <th>Petal.Width</th>\n",
       "    </tr>\n",
       "  </thead>\n",
       "  <tbody>\n",
       "    <tr>\n",
       "      <th>0</th>\n",
       "      <td>0</td>\n",
       "      <td>6.7</td>\n",
       "      <td>2.5</td>\n",
       "      <td>5.8</td>\n",
       "      <td>1.8</td>\n",
       "    </tr>\n",
       "    <tr>\n",
       "      <th>1</th>\n",
       "      <td>1</td>\n",
       "      <td>4.9</td>\n",
       "      <td>2.4</td>\n",
       "      <td>3.3</td>\n",
       "      <td>1.0</td>\n",
       "    </tr>\n",
       "    <tr>\n",
       "      <th>2</th>\n",
       "      <td>2</td>\n",
       "      <td>7.1</td>\n",
       "      <td>3.0</td>\n",
       "      <td>5.9</td>\n",
       "      <td>2.1</td>\n",
       "    </tr>\n",
       "    <tr>\n",
       "      <th>3</th>\n",
       "      <td>3</td>\n",
       "      <td>6.0</td>\n",
       "      <td>2.9</td>\n",
       "      <td>4.5</td>\n",
       "      <td>1.5</td>\n",
       "    </tr>\n",
       "    <tr>\n",
       "      <th>4</th>\n",
       "      <td>4</td>\n",
       "      <td>4.6</td>\n",
       "      <td>3.4</td>\n",
       "      <td>1.4</td>\n",
       "      <td>0.3</td>\n",
       "    </tr>\n",
       "  </tbody>\n",
       "</table>\n",
       "</div>"
      ],
      "text/plain": [
       "   Index  Sepal.Length  Sepal.Width  Petal.Length  Petal.Width\n",
       "0      0           6.7          2.5           5.8          1.8\n",
       "1      1           4.9          2.4           3.3          1.0\n",
       "2      2           7.1          3.0           5.9          2.1\n",
       "3      3           6.0          2.9           4.5          1.5\n",
       "4      4           4.6          3.4           1.4          0.3"
      ]
     },
     "execution_count": 62,
     "metadata": {},
     "output_type": "execute_result"
    }
   ],
   "source": [
    "data_df = pd.read_csv(\"iris_data_indexed.txt\", header = None)\n",
    "data_df.columns = [\"Index\", \"Sepal.Length\", \"Sepal.Width\", \"Petal.Length\", \"Petal.Width\"]\n",
    "data_df.head()"
   ]
  },
  {
   "cell_type": "code",
   "execution_count": 63,
   "metadata": {
    "collapsed": false
   },
   "outputs": [
    {
     "data": {
      "text/html": [
       "<div>\n",
       "<table border=\"1\" class=\"dataframe\">\n",
       "  <thead>\n",
       "    <tr style=\"text-align: right;\">\n",
       "      <th></th>\n",
       "      <th>Index</th>\n",
       "      <th>Sepal.Length</th>\n",
       "      <th>Sepal.Width</th>\n",
       "      <th>Petal.Length</th>\n",
       "      <th>Petal.Width</th>\n",
       "      <th>Cluster</th>\n",
       "    </tr>\n",
       "  </thead>\n",
       "  <tbody>\n",
       "    <tr>\n",
       "      <th>0</th>\n",
       "      <td>0</td>\n",
       "      <td>6.7</td>\n",
       "      <td>2.5</td>\n",
       "      <td>5.8</td>\n",
       "      <td>1.8</td>\n",
       "      <td>66.0</td>\n",
       "    </tr>\n",
       "    <tr>\n",
       "      <th>1</th>\n",
       "      <td>1</td>\n",
       "      <td>4.9</td>\n",
       "      <td>2.4</td>\n",
       "      <td>3.3</td>\n",
       "      <td>1.0</td>\n",
       "      <td>66.0</td>\n",
       "    </tr>\n",
       "    <tr>\n",
       "      <th>2</th>\n",
       "      <td>2</td>\n",
       "      <td>7.1</td>\n",
       "      <td>3.0</td>\n",
       "      <td>5.9</td>\n",
       "      <td>2.1</td>\n",
       "      <td>66.0</td>\n",
       "    </tr>\n",
       "    <tr>\n",
       "      <th>3</th>\n",
       "      <td>3</td>\n",
       "      <td>6.0</td>\n",
       "      <td>2.9</td>\n",
       "      <td>4.5</td>\n",
       "      <td>1.5</td>\n",
       "      <td>66.0</td>\n",
       "    </tr>\n",
       "    <tr>\n",
       "      <th>4</th>\n",
       "      <td>4</td>\n",
       "      <td>4.6</td>\n",
       "      <td>3.4</td>\n",
       "      <td>1.4</td>\n",
       "      <td>0.3</td>\n",
       "      <td>55.0</td>\n",
       "    </tr>\n",
       "  </tbody>\n",
       "</table>\n",
       "</div>"
      ],
      "text/plain": [
       "   Index  Sepal.Length  Sepal.Width  Petal.Length  Petal.Width  Cluster\n",
       "0      0           6.7          2.5           5.8          1.8     66.0\n",
       "1      1           4.9          2.4           3.3          1.0     66.0\n",
       "2      2           7.1          3.0           5.9          2.1     66.0\n",
       "3      3           6.0          2.9           4.5          1.5     66.0\n",
       "4      4           4.6          3.4           1.4          0.3     55.0"
      ]
     },
     "execution_count": 63,
     "metadata": {},
     "output_type": "execute_result"
    }
   ],
   "source": [
    "final_df = pd.merge(data_df, df_res, left_on = \"Index\", right_on = \"Index\")\n",
    "final_df.head()"
   ]
  },
  {
   "cell_type": "code",
   "execution_count": 64,
   "metadata": {
    "collapsed": true
   },
   "outputs": [],
   "source": [
    "import matplotlib.pyplot as plt\n",
    "plt.style.use('ggplot')\n",
    "%matplotlib inline  "
   ]
  },
  {
   "cell_type": "code",
   "execution_count": 65,
   "metadata": {
    "collapsed": false
   },
   "outputs": [
    {
     "data": {
      "image/png": "[encoded data removed]",
      "text/plain": [
       "<matplotlib.figure.Figure at 0xaa94f60>"
      ]
     },
     "metadata": {},
     "output_type": "display_data"
    }
   ],
   "source": [
    "groups = final_df.groupby('Cluster')\n",
    "\n",
    "# Plot\n",
    "colors = pd.tools.plotting._get_standard_colors(len(groups), colormap='viridis')\n",
    "\n",
    "fig, ax = plt.subplots()\n",
    "ax.set_color_cycle(colors)\n",
    "ax.margins(0.05)\n",
    "for name, group in groups:\n",
    "    ax.plot(group['Petal.Length'], group['Petal.Width'], marker='o', linestyle='', ms=6, markeredgewidth=0.0, label=name)\n",
    "ax.legend(numpoints=1, loc='upper left')\n",
    "ax.set_xlabel('Petal.Length')\n",
    "ax.set_ylabel('Petal.Width')\n",
    "\n",
    "plt.show()"
   ]
  },
  {
   "cell_type": "code",
   "execution_count": 66,
   "metadata": {
    "collapsed": false
   },
   "outputs": [
    {
     "data": {
      "image/png": "[encoded data removed]",
      "text/plain": [
       "<matplotlib.figure.Figure at 0xb884780>"
      ]
     },
     "metadata": {},
     "output_type": "display_data"
    }
   ],
   "source": [
    "groups = final_df.groupby('Cluster')\n",
    "\n",
    "# Plot\n",
    "colors = pd.tools.plotting._get_standard_colors(len(groups), colormap='viridis')\n",
    "\n",
    "fig, ax = plt.subplots()\n",
    "ax.set_color_cycle(colors)\n",
    "ax.margins(0.05)\n",
    "for name, group in groups:\n",
    "    ax.plot(group['Sepal.Length'], group['Sepal.Width'], marker='o', linestyle='', ms=6, markeredgewidth=0.0, label=name)\n",
    "ax.legend(numpoints=1, loc='upper right')\n",
    "ax.set_xlabel('Sepal.Length')\n",
    "ax.set_ylabel('Sepal.Width')\n",
    "\n",
    "plt.show()"
   ]
  },
  {
   "cell_type": "markdown",
   "metadata": {
    "collapsed": true
   },
   "source": [
    "On obtient finalement 2 clusters, bien séparés sur les 2 graphiques. Le résultat est donc rassurant. Néanmoins, on peut remarquer qu'on ne réussit pas à retrouver 3 clusters correspondant aux 3 types d'iris initialement présentes dans la base de données. Pour ce faire, après quelques tests de diminution du paramètre d'agrégation, nous avons remarqué qu'il fallait un paramètre égal à 0.17 mais qu'avec 0.15 nous obtenions 4 clusters et avec 0.20 nous en obtenions 2. En augmentant le paramètre d'agrégation nous obtenons toujours 2 clusters. Ainsi, sans a priori sur les données, nous pouvons considérer qu'avec notre méthode nous n'avons que très peu de \"chance\" de tomber sur 3 clusters."
   ]
  }
 ],
 "metadata": {
  "kernelspec": {
   "display_name": "Python 2",
   "language": "python",
   "name": "python2"
  },
  "language_info": {
   "codemirror_mode": {
    "name": "ipython",
    "version": 2
   },
   "file_extension": ".py",
   "mimetype": "text/x-python",
   "name": "python",
   "nbconvert_exporter": "python",
   "pygments_lexer": "ipython2",
   "version": "2.7.12"
  }
 },
 "nbformat": 4,
 "nbformat_minor": 0
}
