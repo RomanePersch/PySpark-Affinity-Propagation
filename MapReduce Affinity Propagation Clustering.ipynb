{
 "cells": [
  {
   "cell_type": "markdown",
   "metadata": {},
   "source": [
    "# MapReduce Affinity Propagation Clustering"
   ]
  },
  {
   "cell_type": "markdown",
   "metadata": {},
   "source": [
    "https://developer.ibm.com/clouddataservices/2016/07/15/intro-to-apache-spark-graphframes/"
   ]
  },
  {
   "cell_type": "code",
   "execution_count": 1,
   "metadata": {
    "collapsed": true
   },
   "outputs": [],
   "source": [
    "import numpy as np"
   ]
  },
  {
   "cell_type": "markdown",
   "metadata": {},
   "source": [
    "Premier jeu de données utilisé : Iris (comme dans l'article de Wu, Hung et Chu)"
   ]
  },
  {
   "cell_type": "markdown",
   "metadata": {},
   "source": [
    "Il faut d'abord indexer les données et supprimer les labels"
   ]
  },
  {
   "cell_type": "code",
   "execution_count": 2,
   "metadata": {
    "collapsed": true
   },
   "outputs": [],
   "source": [
    "def index_dataset(in_filename, out_filename, sep = ','):   \n",
    "    with open(out_filename, 'w') as output_file:\n",
    "        with open(in_filename, 'r') as input_file :\n",
    "            for i,line in enumerate(input_file) :\n",
    "                without_label = line.split(',')[:-1]\n",
    "                output_line = str(i) +',' + ','.join(without_label) + '\\n'\n",
    "                output_file.write(output_line)\n",
    "        "
   ]
  },
  {
   "cell_type": "code",
   "execution_count": 3,
   "metadata": {
    "collapsed": false
   },
   "outputs": [],
   "source": [
    "index_dataset(\"iris_data.txt\", \"iris_data_indexed.txt\", sep = ',')"
   ]
  },
  {
   "cell_type": "markdown",
   "metadata": {},
   "source": [
    "Etape 1 : découper le jeu de donner et les répartir entre les différents mappers"
   ]
  },
  {
   "cell_type": "code",
   "execution_count": 4,
   "metadata": {
    "collapsed": true
   },
   "outputs": [],
   "source": [
    "rdd = sc.textFile(\"iris_data_indexed.txt\")"
   ]
  },
  {
   "cell_type": "code",
   "execution_count": 5,
   "metadata": {
    "collapsed": false
   },
   "outputs": [
    {
     "data": {
      "text/plain": [
       "2"
      ]
     },
     "execution_count": 5,
     "metadata": {},
     "output_type": "execute_result"
    }
   ],
   "source": [
    "rdd.getNumPartitions()"
   ]
  },
  {
   "cell_type": "code",
   "execution_count": 6,
   "metadata": {
    "collapsed": false
   },
   "outputs": [],
   "source": [
    "res = rdd.collect()"
   ]
  },
  {
   "cell_type": "code",
   "execution_count": 7,
   "metadata": {
    "collapsed": false
   },
   "outputs": [
    {
     "data": {
      "text/plain": [
       "[u'0,5.1,3.5,1.4,0.2', u'1,4.9,3.0,1.4,0.2']"
      ]
     },
     "execution_count": 7,
     "metadata": {},
     "output_type": "execute_result"
    }
   ],
   "source": [
    "res[:2]"
   ]
  },
  {
   "cell_type": "markdown",
   "metadata": {},
   "source": [
    "Calcul des similarités"
   ]
  },
  {
   "cell_type": "code",
   "execution_count": 8,
   "metadata": {
    "collapsed": false
   },
   "outputs": [],
   "source": [
    "def euclidean_similarity(vector1,vector2):\n",
    "    sim = [(a - b)**2 for a, b in zip(vector1, vector2)]\n",
    "    sim = -sum(sim)\n",
    "    return(sim)"
   ]
  },
  {
   "cell_type": "code",
   "execution_count": 9,
   "metadata": {
    "collapsed": false
   },
   "outputs": [
    {
     "data": {
      "text/plain": [
       "-3"
      ]
     },
     "execution_count": 9,
     "metadata": {},
     "output_type": "execute_result"
    }
   ],
   "source": [
    "a = [3,3,9]\n",
    "b= [4,4, 8]\n",
    "c = [6,3,1]\n",
    "\n",
    "euclidean_similarity(a,b)\n"
   ]
  },
  {
   "cell_type": "markdown",
   "metadata": {},
   "source": [
    "Parser"
   ]
  },
  {
   "cell_type": "code",
   "execution_count": 14,
   "metadata": {
    "collapsed": true
   },
   "outputs": [],
   "source": [
    "def parseLine(line, sep) :\n",
    "    parsed_line = line.split(sep)\n",
    "    parsed_line =  [float(_) for _ in parsed_line]\n",
    "    return(parsed_line)"
   ]
  },
  {
   "cell_type": "raw",
   "metadata": {
    "collapsed": false
   },
   "source": [
    "def parse_and_index_partition(iterator, sep):\n",
    "    \"\"\" Parse each row and index it from 0 to the number of elements of the partition \"\"\"\n",
    "    index = 0\n",
    "    parsed_partition = list()\n",
    "    for item in iterator:\n",
    "        parsed_item = parseLine(item, sep)\n",
    "        parsed_item[0] = (parsed_item[0], index)\n",
    "        index = index + 1\n",
    "        parsed_partition.append(parsed_item)\n",
    "    return(parsed_partition)"
   ]
  },
  {
   "cell_type": "raw",
   "metadata": {
    "collapsed": false
   },
   "source": [
    "#rdd = rdd.mapPartitions(lambda iterator : parse_and_index_partition(iterator, ','), preservesPartitioning=True).cache()"
   ]
  },
  {
   "cell_type": "code",
   "execution_count": 15,
   "metadata": {
    "collapsed": true
   },
   "outputs": [],
   "source": [
    "rdd = rdd.map(lambda line : parseLine(line, ','))"
   ]
  },
  {
   "cell_type": "code",
   "execution_count": 16,
   "metadata": {
    "collapsed": false
   },
   "outputs": [
    {
     "data": {
      "text/plain": [
       "[[[0.0, 5.1, 3.5, 1.4, 0.2],\n",
       "  [1.0, 4.9, 3.0, 1.4, 0.2],\n",
       "  [2.0, 4.7, 3.2, 1.3, 0.2],\n",
       "  [3.0, 4.6, 3.1, 1.5, 0.2],\n",
       "  [4.0, 5.0, 3.6, 1.4, 0.2],\n",
       "  [5.0, 5.4, 3.9, 1.7, 0.4],\n",
       "  [6.0, 4.6, 3.4, 1.4, 0.3],\n",
       "  [7.0, 5.0, 3.4, 1.5, 0.2],\n",
       "  [8.0, 4.4, 2.9, 1.4, 0.2],\n",
       "  [9.0, 4.9, 3.1, 1.5, 0.1],\n",
       "  [10.0, 5.4, 3.7, 1.5, 0.2],\n",
       "  [11.0, 4.8, 3.4, 1.6, 0.2],\n",
       "  [12.0, 4.8, 3.0, 1.4, 0.1],\n",
       "  [13.0, 4.3, 3.0, 1.1, 0.1],\n",
       "  [14.0, 5.8, 4.0, 1.2, 0.2],\n",
       "  [15.0, 5.7, 4.4, 1.5, 0.4],\n",
       "  [16.0, 5.4, 3.9, 1.3, 0.4],\n",
       "  [17.0, 5.1, 3.5, 1.4, 0.3],\n",
       "  [18.0, 5.7, 3.8, 1.7, 0.3],\n",
       "  [19.0, 5.1, 3.8, 1.5, 0.3],\n",
       "  [20.0, 5.4, 3.4, 1.7, 0.2],\n",
       "  [21.0, 5.1, 3.7, 1.5, 0.4],\n",
       "  [22.0, 4.6, 3.6, 1.0, 0.2],\n",
       "  [23.0, 5.1, 3.3, 1.7, 0.5],\n",
       "  [24.0, 4.8, 3.4, 1.9, 0.2],\n",
       "  [25.0, 5.0, 3.0, 1.6, 0.2],\n",
       "  [26.0, 5.0, 3.4, 1.6, 0.4],\n",
       "  [27.0, 5.2, 3.5, 1.5, 0.2],\n",
       "  [28.0, 5.2, 3.4, 1.4, 0.2],\n",
       "  [29.0, 4.7, 3.2, 1.6, 0.2],\n",
       "  [30.0, 4.8, 3.1, 1.6, 0.2],\n",
       "  [31.0, 5.4, 3.4, 1.5, 0.4],\n",
       "  [32.0, 5.2, 4.1, 1.5, 0.1],\n",
       "  [33.0, 5.5, 4.2, 1.4, 0.2],\n",
       "  [34.0, 4.9, 3.1, 1.5, 0.1],\n",
       "  [35.0, 5.0, 3.2, 1.2, 0.2],\n",
       "  [36.0, 5.5, 3.5, 1.3, 0.2],\n",
       "  [37.0, 4.9, 3.1, 1.5, 0.1],\n",
       "  [38.0, 4.4, 3.0, 1.3, 0.2],\n",
       "  [39.0, 5.1, 3.4, 1.5, 0.2],\n",
       "  [40.0, 5.0, 3.5, 1.3, 0.3],\n",
       "  [41.0, 4.5, 2.3, 1.3, 0.3],\n",
       "  [42.0, 4.4, 3.2, 1.3, 0.2],\n",
       "  [43.0, 5.0, 3.5, 1.6, 0.6],\n",
       "  [44.0, 5.1, 3.8, 1.9, 0.4],\n",
       "  [45.0, 4.8, 3.0, 1.4, 0.3],\n",
       "  [46.0, 5.1, 3.8, 1.6, 0.2],\n",
       "  [47.0, 4.6, 3.2, 1.4, 0.2],\n",
       "  [48.0, 5.3, 3.7, 1.5, 0.2],\n",
       "  [49.0, 5.0, 3.3, 1.4, 0.2],\n",
       "  [50.0, 7.0, 3.2, 4.7, 1.4],\n",
       "  [51.0, 6.4, 3.2, 4.5, 1.5],\n",
       "  [52.0, 6.9, 3.1, 4.9, 1.5],\n",
       "  [53.0, 5.5, 2.3, 4.0, 1.3],\n",
       "  [54.0, 6.5, 2.8, 4.6, 1.5],\n",
       "  [55.0, 5.7, 2.8, 4.5, 1.3],\n",
       "  [56.0, 6.3, 3.3, 4.7, 1.6],\n",
       "  [57.0, 4.9, 2.4, 3.3, 1.0],\n",
       "  [58.0, 6.6, 2.9, 4.6, 1.3],\n",
       "  [59.0, 5.2, 2.7, 3.9, 1.4],\n",
       "  [60.0, 5.0, 2.0, 3.5, 1.0],\n",
       "  [61.0, 5.9, 3.0, 4.2, 1.5],\n",
       "  [62.0, 6.0, 2.2, 4.0, 1.0],\n",
       "  [63.0, 6.1, 2.9, 4.7, 1.4],\n",
       "  [64.0, 5.6, 2.9, 3.6, 1.3],\n",
       "  [65.0, 6.7, 3.1, 4.4, 1.4],\n",
       "  [66.0, 5.6, 3.0, 4.5, 1.5],\n",
       "  [67.0, 5.8, 2.7, 4.1, 1.0],\n",
       "  [68.0, 6.2, 2.2, 4.5, 1.5],\n",
       "  [69.0, 5.6, 2.5, 3.9, 1.1],\n",
       "  [70.0, 5.9, 3.2, 4.8, 1.8],\n",
       "  [71.0, 6.1, 2.8, 4.0, 1.3],\n",
       "  [72.0, 6.3, 2.5, 4.9, 1.5],\n",
       "  [73.0, 6.1, 2.8, 4.7, 1.2],\n",
       "  [74.0, 6.4, 2.9, 4.3, 1.3],\n",
       "  [75.0, 6.6, 3.0, 4.4, 1.4],\n",
       "  [76.0, 6.8, 2.8, 4.8, 1.4]],\n",
       " [[77.0, 6.7, 3.0, 5.0, 1.7],\n",
       "  [78.0, 6.0, 2.9, 4.5, 1.5],\n",
       "  [79.0, 5.7, 2.6, 3.5, 1.0],\n",
       "  [80.0, 5.5, 2.4, 3.8, 1.1],\n",
       "  [81.0, 5.5, 2.4, 3.7, 1.0],\n",
       "  [82.0, 5.8, 2.7, 3.9, 1.2],\n",
       "  [83.0, 6.0, 2.7, 5.1, 1.6],\n",
       "  [84.0, 5.4, 3.0, 4.5, 1.5],\n",
       "  [85.0, 6.0, 3.4, 4.5, 1.6],\n",
       "  [86.0, 6.7, 3.1, 4.7, 1.5],\n",
       "  [87.0, 6.3, 2.3, 4.4, 1.3],\n",
       "  [88.0, 5.6, 3.0, 4.1, 1.3],\n",
       "  [89.0, 5.5, 2.5, 4.0, 1.3],\n",
       "  [90.0, 5.5, 2.6, 4.4, 1.2],\n",
       "  [91.0, 6.1, 3.0, 4.6, 1.4],\n",
       "  [92.0, 5.8, 2.6, 4.0, 1.2],\n",
       "  [93.0, 5.0, 2.3, 3.3, 1.0],\n",
       "  [94.0, 5.6, 2.7, 4.2, 1.3],\n",
       "  [95.0, 5.7, 3.0, 4.2, 1.2],\n",
       "  [96.0, 5.7, 2.9, 4.2, 1.3],\n",
       "  [97.0, 6.2, 2.9, 4.3, 1.3],\n",
       "  [98.0, 5.1, 2.5, 3.0, 1.1],\n",
       "  [99.0, 5.7, 2.8, 4.1, 1.3],\n",
       "  [100.0, 6.3, 3.3, 6.0, 2.5],\n",
       "  [101.0, 5.8, 2.7, 5.1, 1.9],\n",
       "  [102.0, 7.1, 3.0, 5.9, 2.1],\n",
       "  [103.0, 6.3, 2.9, 5.6, 1.8],\n",
       "  [104.0, 6.5, 3.0, 5.8, 2.2],\n",
       "  [105.0, 7.6, 3.0, 6.6, 2.1],\n",
       "  [106.0, 4.9, 2.5, 4.5, 1.7],\n",
       "  [107.0, 7.3, 2.9, 6.3, 1.8],\n",
       "  [108.0, 6.7, 2.5, 5.8, 1.8],\n",
       "  [109.0, 7.2, 3.6, 6.1, 2.5],\n",
       "  [110.0, 6.5, 3.2, 5.1, 2.0],\n",
       "  [111.0, 6.4, 2.7, 5.3, 1.9],\n",
       "  [112.0, 6.8, 3.0, 5.5, 2.1],\n",
       "  [113.0, 5.7, 2.5, 5.0, 2.0],\n",
       "  [114.0, 5.8, 2.8, 5.1, 2.4],\n",
       "  [115.0, 6.4, 3.2, 5.3, 2.3],\n",
       "  [116.0, 6.5, 3.0, 5.5, 1.8],\n",
       "  [117.0, 7.7, 3.8, 6.7, 2.2],\n",
       "  [118.0, 7.7, 2.6, 6.9, 2.3],\n",
       "  [119.0, 6.0, 2.2, 5.0, 1.5],\n",
       "  [120.0, 6.9, 3.2, 5.7, 2.3],\n",
       "  [121.0, 5.6, 2.8, 4.9, 2.0],\n",
       "  [122.0, 7.7, 2.8, 6.7, 2.0],\n",
       "  [123.0, 6.3, 2.7, 4.9, 1.8],\n",
       "  [124.0, 6.7, 3.3, 5.7, 2.1],\n",
       "  [125.0, 7.2, 3.2, 6.0, 1.8],\n",
       "  [126.0, 6.2, 2.8, 4.8, 1.8],\n",
       "  [127.0, 6.1, 3.0, 4.9, 1.8],\n",
       "  [128.0, 6.4, 2.8, 5.6, 2.1],\n",
       "  [129.0, 7.2, 3.0, 5.8, 1.6],\n",
       "  [130.0, 7.4, 2.8, 6.1, 1.9],\n",
       "  [131.0, 7.9, 3.8, 6.4, 2.0],\n",
       "  [132.0, 6.4, 2.8, 5.6, 2.2],\n",
       "  [133.0, 6.3, 2.8, 5.1, 1.5],\n",
       "  [134.0, 6.1, 2.6, 5.6, 1.4],\n",
       "  [135.0, 7.7, 3.0, 6.1, 2.3],\n",
       "  [136.0, 6.3, 3.4, 5.6, 2.4],\n",
       "  [137.0, 6.4, 3.1, 5.5, 1.8],\n",
       "  [138.0, 6.0, 3.0, 4.8, 1.8],\n",
       "  [139.0, 6.9, 3.1, 5.4, 2.1],\n",
       "  [140.0, 6.7, 3.1, 5.6, 2.4],\n",
       "  [141.0, 6.9, 3.1, 5.1, 2.3],\n",
       "  [142.0, 5.8, 2.7, 5.1, 1.9],\n",
       "  [143.0, 6.8, 3.2, 5.9, 2.3],\n",
       "  [144.0, 6.7, 3.3, 5.7, 2.5],\n",
       "  [145.0, 6.7, 3.0, 5.2, 2.3],\n",
       "  [146.0, 6.3, 2.5, 5.0, 1.9],\n",
       "  [147.0, 6.5, 3.0, 5.2, 2.0],\n",
       "  [148.0, 6.2, 3.4, 5.4, 2.3],\n",
       "  [149.0, 5.9, 3.0, 5.1, 1.8]]]"
      ]
     },
     "execution_count": 16,
     "metadata": {},
     "output_type": "execute_result"
    }
   ],
   "source": [
    "rdd.glom().collect()"
   ]
  },
  {
   "cell_type": "markdown",
   "metadata": {},
   "source": [
    "Etape 2 : Chaque mapper calcule les similarités entre ses propres points de données"
   ]
  },
  {
   "cell_type": "code",
   "execution_count": 17,
   "metadata": {
    "collapsed": false
   },
   "outputs": [
    {
     "data": {
      "text/plain": [
       "[[77,\n",
       "  [0,\n",
       "   1,\n",
       "   2,\n",
       "   3,\n",
       "   4,\n",
       "   5,\n",
       "   6,\n",
       "   7,\n",
       "   8,\n",
       "   9,\n",
       "   10,\n",
       "   11,\n",
       "   12,\n",
       "   13,\n",
       "   14,\n",
       "   15,\n",
       "   16,\n",
       "   17,\n",
       "   18,\n",
       "   19,\n",
       "   20,\n",
       "   21,\n",
       "   22,\n",
       "   23,\n",
       "   24,\n",
       "   25,\n",
       "   26,\n",
       "   27,\n",
       "   28,\n",
       "   29,\n",
       "   30,\n",
       "   31,\n",
       "   32,\n",
       "   33,\n",
       "   34,\n",
       "   35,\n",
       "   36,\n",
       "   37,\n",
       "   38,\n",
       "   39,\n",
       "   40,\n",
       "   41,\n",
       "   42,\n",
       "   43,\n",
       "   44,\n",
       "   45,\n",
       "   46,\n",
       "   47,\n",
       "   48,\n",
       "   49,\n",
       "   50,\n",
       "   51,\n",
       "   52,\n",
       "   53,\n",
       "   54,\n",
       "   55,\n",
       "   56,\n",
       "   57,\n",
       "   58,\n",
       "   59,\n",
       "   60,\n",
       "   61,\n",
       "   62,\n",
       "   63,\n",
       "   64,\n",
       "   65,\n",
       "   66,\n",
       "   67,\n",
       "   68,\n",
       "   69,\n",
       "   70,\n",
       "   71,\n",
       "   72,\n",
       "   73,\n",
       "   74,\n",
       "   75,\n",
       "   76],\n",
       "  [[0.0, 5.1, 3.5, 1.4, 0.2],\n",
       "   [1.0, 4.9, 3.0, 1.4, 0.2],\n",
       "   [2.0, 4.7, 3.2, 1.3, 0.2],\n",
       "   [3.0, 4.6, 3.1, 1.5, 0.2],\n",
       "   [4.0, 5.0, 3.6, 1.4, 0.2],\n",
       "   [5.0, 5.4, 3.9, 1.7, 0.4],\n",
       "   [6.0, 4.6, 3.4, 1.4, 0.3],\n",
       "   [7.0, 5.0, 3.4, 1.5, 0.2],\n",
       "   [8.0, 4.4, 2.9, 1.4, 0.2],\n",
       "   [9.0, 4.9, 3.1, 1.5, 0.1],\n",
       "   [10.0, 5.4, 3.7, 1.5, 0.2],\n",
       "   [11.0, 4.8, 3.4, 1.6, 0.2],\n",
       "   [12.0, 4.8, 3.0, 1.4, 0.1],\n",
       "   [13.0, 4.3, 3.0, 1.1, 0.1],\n",
       "   [14.0, 5.8, 4.0, 1.2, 0.2],\n",
       "   [15.0, 5.7, 4.4, 1.5, 0.4],\n",
       "   [16.0, 5.4, 3.9, 1.3, 0.4],\n",
       "   [17.0, 5.1, 3.5, 1.4, 0.3],\n",
       "   [18.0, 5.7, 3.8, 1.7, 0.3],\n",
       "   [19.0, 5.1, 3.8, 1.5, 0.3],\n",
       "   [20.0, 5.4, 3.4, 1.7, 0.2],\n",
       "   [21.0, 5.1, 3.7, 1.5, 0.4],\n",
       "   [22.0, 4.6, 3.6, 1.0, 0.2],\n",
       "   [23.0, 5.1, 3.3, 1.7, 0.5],\n",
       "   [24.0, 4.8, 3.4, 1.9, 0.2],\n",
       "   [25.0, 5.0, 3.0, 1.6, 0.2],\n",
       "   [26.0, 5.0, 3.4, 1.6, 0.4],\n",
       "   [27.0, 5.2, 3.5, 1.5, 0.2],\n",
       "   [28.0, 5.2, 3.4, 1.4, 0.2],\n",
       "   [29.0, 4.7, 3.2, 1.6, 0.2],\n",
       "   [30.0, 4.8, 3.1, 1.6, 0.2],\n",
       "   [31.0, 5.4, 3.4, 1.5, 0.4],\n",
       "   [32.0, 5.2, 4.1, 1.5, 0.1],\n",
       "   [33.0, 5.5, 4.2, 1.4, 0.2],\n",
       "   [34.0, 4.9, 3.1, 1.5, 0.1],\n",
       "   [35.0, 5.0, 3.2, 1.2, 0.2],\n",
       "   [36.0, 5.5, 3.5, 1.3, 0.2],\n",
       "   [37.0, 4.9, 3.1, 1.5, 0.1],\n",
       "   [38.0, 4.4, 3.0, 1.3, 0.2],\n",
       "   [39.0, 5.1, 3.4, 1.5, 0.2],\n",
       "   [40.0, 5.0, 3.5, 1.3, 0.3],\n",
       "   [41.0, 4.5, 2.3, 1.3, 0.3],\n",
       "   [42.0, 4.4, 3.2, 1.3, 0.2],\n",
       "   [43.0, 5.0, 3.5, 1.6, 0.6],\n",
       "   [44.0, 5.1, 3.8, 1.9, 0.4],\n",
       "   [45.0, 4.8, 3.0, 1.4, 0.3],\n",
       "   [46.0, 5.1, 3.8, 1.6, 0.2],\n",
       "   [47.0, 4.6, 3.2, 1.4, 0.2],\n",
       "   [48.0, 5.3, 3.7, 1.5, 0.2],\n",
       "   [49.0, 5.0, 3.3, 1.4, 0.2],\n",
       "   [50.0, 7.0, 3.2, 4.7, 1.4],\n",
       "   [51.0, 6.4, 3.2, 4.5, 1.5],\n",
       "   [52.0, 6.9, 3.1, 4.9, 1.5],\n",
       "   [53.0, 5.5, 2.3, 4.0, 1.3],\n",
       "   [54.0, 6.5, 2.8, 4.6, 1.5],\n",
       "   [55.0, 5.7, 2.8, 4.5, 1.3],\n",
       "   [56.0, 6.3, 3.3, 4.7, 1.6],\n",
       "   [57.0, 4.9, 2.4, 3.3, 1.0],\n",
       "   [58.0, 6.6, 2.9, 4.6, 1.3],\n",
       "   [59.0, 5.2, 2.7, 3.9, 1.4],\n",
       "   [60.0, 5.0, 2.0, 3.5, 1.0],\n",
       "   [61.0, 5.9, 3.0, 4.2, 1.5],\n",
       "   [62.0, 6.0, 2.2, 4.0, 1.0],\n",
       "   [63.0, 6.1, 2.9, 4.7, 1.4],\n",
       "   [64.0, 5.6, 2.9, 3.6, 1.3],\n",
       "   [65.0, 6.7, 3.1, 4.4, 1.4],\n",
       "   [66.0, 5.6, 3.0, 4.5, 1.5],\n",
       "   [67.0, 5.8, 2.7, 4.1, 1.0],\n",
       "   [68.0, 6.2, 2.2, 4.5, 1.5],\n",
       "   [69.0, 5.6, 2.5, 3.9, 1.1],\n",
       "   [70.0, 5.9, 3.2, 4.8, 1.8],\n",
       "   [71.0, 6.1, 2.8, 4.0, 1.3],\n",
       "   [72.0, 6.3, 2.5, 4.9, 1.5],\n",
       "   [73.0, 6.1, 2.8, 4.7, 1.2],\n",
       "   [74.0, 6.4, 2.9, 4.3, 1.3],\n",
       "   [75.0, 6.6, 3.0, 4.4, 1.4],\n",
       "   [76.0, 6.8, 2.8, 4.8, 1.4]],\n",
       "  array([[ -0.  ,  -0.29,  -0.26, ..., -11.67, -12.94, -16.38],\n",
       "         [ -0.29,  -0.  ,  -0.09, ..., -11.88, -13.33, -16.65],\n",
       "         [ -0.26,  -0.09,  -0.  , ..., -13.19, -14.7 , -18.26],\n",
       "         ..., \n",
       "         [-11.67, -11.88, -13.19, ...,  -0.  ,  -0.07,  -0.43],\n",
       "         [-12.94, -13.33, -14.7 , ...,  -0.07,  -0.  ,  -0.24],\n",
       "         [-16.38, -16.65, -18.26, ...,  -0.43,  -0.24,  -0.  ]])],\n",
       " [73,\n",
       "  [0,\n",
       "   1,\n",
       "   2,\n",
       "   3,\n",
       "   4,\n",
       "   5,\n",
       "   6,\n",
       "   7,\n",
       "   8,\n",
       "   9,\n",
       "   10,\n",
       "   11,\n",
       "   12,\n",
       "   13,\n",
       "   14,\n",
       "   15,\n",
       "   16,\n",
       "   17,\n",
       "   18,\n",
       "   19,\n",
       "   20,\n",
       "   21,\n",
       "   22,\n",
       "   23,\n",
       "   24,\n",
       "   25,\n",
       "   26,\n",
       "   27,\n",
       "   28,\n",
       "   29,\n",
       "   30,\n",
       "   31,\n",
       "   32,\n",
       "   33,\n",
       "   34,\n",
       "   35,\n",
       "   36,\n",
       "   37,\n",
       "   38,\n",
       "   39,\n",
       "   40,\n",
       "   41,\n",
       "   42,\n",
       "   43,\n",
       "   44,\n",
       "   45,\n",
       "   46,\n",
       "   47,\n",
       "   48,\n",
       "   49,\n",
       "   50,\n",
       "   51,\n",
       "   52,\n",
       "   53,\n",
       "   54,\n",
       "   55,\n",
       "   56,\n",
       "   57,\n",
       "   58,\n",
       "   59,\n",
       "   60,\n",
       "   61,\n",
       "   62,\n",
       "   63,\n",
       "   64,\n",
       "   65,\n",
       "   66,\n",
       "   67,\n",
       "   68,\n",
       "   69,\n",
       "   70,\n",
       "   71,\n",
       "   72],\n",
       "  [[77.0, 6.7, 3.0, 5.0, 1.7],\n",
       "   [78.0, 6.0, 2.9, 4.5, 1.5],\n",
       "   [79.0, 5.7, 2.6, 3.5, 1.0],\n",
       "   [80.0, 5.5, 2.4, 3.8, 1.1],\n",
       "   [81.0, 5.5, 2.4, 3.7, 1.0],\n",
       "   [82.0, 5.8, 2.7, 3.9, 1.2],\n",
       "   [83.0, 6.0, 2.7, 5.1, 1.6],\n",
       "   [84.0, 5.4, 3.0, 4.5, 1.5],\n",
       "   [85.0, 6.0, 3.4, 4.5, 1.6],\n",
       "   [86.0, 6.7, 3.1, 4.7, 1.5],\n",
       "   [87.0, 6.3, 2.3, 4.4, 1.3],\n",
       "   [88.0, 5.6, 3.0, 4.1, 1.3],\n",
       "   [89.0, 5.5, 2.5, 4.0, 1.3],\n",
       "   [90.0, 5.5, 2.6, 4.4, 1.2],\n",
       "   [91.0, 6.1, 3.0, 4.6, 1.4],\n",
       "   [92.0, 5.8, 2.6, 4.0, 1.2],\n",
       "   [93.0, 5.0, 2.3, 3.3, 1.0],\n",
       "   [94.0, 5.6, 2.7, 4.2, 1.3],\n",
       "   [95.0, 5.7, 3.0, 4.2, 1.2],\n",
       "   [96.0, 5.7, 2.9, 4.2, 1.3],\n",
       "   [97.0, 6.2, 2.9, 4.3, 1.3],\n",
       "   [98.0, 5.1, 2.5, 3.0, 1.1],\n",
       "   [99.0, 5.7, 2.8, 4.1, 1.3],\n",
       "   [100.0, 6.3, 3.3, 6.0, 2.5],\n",
       "   [101.0, 5.8, 2.7, 5.1, 1.9],\n",
       "   [102.0, 7.1, 3.0, 5.9, 2.1],\n",
       "   [103.0, 6.3, 2.9, 5.6, 1.8],\n",
       "   [104.0, 6.5, 3.0, 5.8, 2.2],\n",
       "   [105.0, 7.6, 3.0, 6.6, 2.1],\n",
       "   [106.0, 4.9, 2.5, 4.5, 1.7],\n",
       "   [107.0, 7.3, 2.9, 6.3, 1.8],\n",
       "   [108.0, 6.7, 2.5, 5.8, 1.8],\n",
       "   [109.0, 7.2, 3.6, 6.1, 2.5],\n",
       "   [110.0, 6.5, 3.2, 5.1, 2.0],\n",
       "   [111.0, 6.4, 2.7, 5.3, 1.9],\n",
       "   [112.0, 6.8, 3.0, 5.5, 2.1],\n",
       "   [113.0, 5.7, 2.5, 5.0, 2.0],\n",
       "   [114.0, 5.8, 2.8, 5.1, 2.4],\n",
       "   [115.0, 6.4, 3.2, 5.3, 2.3],\n",
       "   [116.0, 6.5, 3.0, 5.5, 1.8],\n",
       "   [117.0, 7.7, 3.8, 6.7, 2.2],\n",
       "   [118.0, 7.7, 2.6, 6.9, 2.3],\n",
       "   [119.0, 6.0, 2.2, 5.0, 1.5],\n",
       "   [120.0, 6.9, 3.2, 5.7, 2.3],\n",
       "   [121.0, 5.6, 2.8, 4.9, 2.0],\n",
       "   [122.0, 7.7, 2.8, 6.7, 2.0],\n",
       "   [123.0, 6.3, 2.7, 4.9, 1.8],\n",
       "   [124.0, 6.7, 3.3, 5.7, 2.1],\n",
       "   [125.0, 7.2, 3.2, 6.0, 1.8],\n",
       "   [126.0, 6.2, 2.8, 4.8, 1.8],\n",
       "   [127.0, 6.1, 3.0, 4.9, 1.8],\n",
       "   [128.0, 6.4, 2.8, 5.6, 2.1],\n",
       "   [129.0, 7.2, 3.0, 5.8, 1.6],\n",
       "   [130.0, 7.4, 2.8, 6.1, 1.9],\n",
       "   [131.0, 7.9, 3.8, 6.4, 2.0],\n",
       "   [132.0, 6.4, 2.8, 5.6, 2.2],\n",
       "   [133.0, 6.3, 2.8, 5.1, 1.5],\n",
       "   [134.0, 6.1, 2.6, 5.6, 1.4],\n",
       "   [135.0, 7.7, 3.0, 6.1, 2.3],\n",
       "   [136.0, 6.3, 3.4, 5.6, 2.4],\n",
       "   [137.0, 6.4, 3.1, 5.5, 1.8],\n",
       "   [138.0, 6.0, 3.0, 4.8, 1.8],\n",
       "   [139.0, 6.9, 3.1, 5.4, 2.1],\n",
       "   [140.0, 6.7, 3.1, 5.6, 2.4],\n",
       "   [141.0, 6.9, 3.1, 5.1, 2.3],\n",
       "   [142.0, 5.8, 2.7, 5.1, 1.9],\n",
       "   [143.0, 6.8, 3.2, 5.9, 2.3],\n",
       "   [144.0, 6.7, 3.3, 5.7, 2.5],\n",
       "   [145.0, 6.7, 3.0, 5.2, 2.3],\n",
       "   [146.0, 6.3, 2.5, 5.0, 1.9],\n",
       "   [147.0, 6.5, 3.0, 5.2, 2.0],\n",
       "   [148.0, 6.2, 3.4, 5.4, 2.3],\n",
       "   [149.0, 5.9, 3.0, 5.1, 1.8]],\n",
       "  array([[-0.  , -0.79, -3.9 , ..., -0.17, -0.93, -0.66],\n",
       "         [-0.79, -0.  , -1.43, ..., -1.  , -1.74, -0.47],\n",
       "         [-3.9 , -1.43, -0.  , ..., -4.69, -6.19, -3.4 ],\n",
       "         ..., \n",
       "         [-0.17, -1.  , -4.69, ..., -0.  , -0.38, -0.41],\n",
       "         [-0.93, -1.74, -6.19, ..., -0.38, -0.  , -0.59],\n",
       "         [-0.66, -0.47, -3.4 , ..., -0.41, -0.59, -0.  ]])]]"
      ]
     },
     "execution_count": 17,
     "metadata": {},
     "output_type": "execute_result"
    }
   ],
   "source": [
    "from itertools import combinations_with_replacement\n",
    "def similarity_matrix_per_iterator2(iterator, similarity_function):\n",
    "    #Store partition in a list and reindex it\n",
    "    partition = list(iterator)\n",
    "    nb_elements = len(partition)\n",
    "    ind = range(nb_elements)\n",
    "    #Compute similarities\n",
    "    import numpy as np #Import numpy on the node\n",
    "    similarity_matrix = np.empty([nb_elements, nb_elements]) #More efficient than np.zeros to initialize\n",
    "    for item1,item2 in combinations_with_replacement(zip(ind, partition),2) :  #NB : on stocke sim(i,j) pour i <= j, ce qui réduit le nombre de données stockées par rapport à une matrice\n",
    "        sim = similarity_function(item1[1][1:],item2[1][1:]) #compute similarity\n",
    "        similarity_matrix[item1[0], item2[0]] = sim\n",
    "        if item1[0] != item2[0]:\n",
    "            similarity_matrix[item2[0], item1[0]] = sim\n",
    "    return(nb_elements, ind, partition, similarity_matrix)\n",
    "\n",
    "rdd.mapPartitions(lambda iterator : similarity_matrix_per_iterator2(iterator, euclidean_similarity), preservesPartitioning=True).glom().collect()"
   ]
  },
  {
   "cell_type": "raw",
   "metadata": {
    "collapsed": false
   },
   "source": [
    "from itertools import combinations_with_replacement\n",
    "def similarity_matrix_per_iterator(iterator, similarity_function):\n",
    "    matrix = list()\n",
    "    nb_com_with_repl = 0\n",
    "    for item1,item2 in combinations_with_replacement(iterator,2) :  #NB : on stocke sim(i,j) pour i <= j, ce qui réduit le nombre de données stockées par rapport à une matrice\n",
    "        nb_com_with_repl = nb_com_with_repl + 1\n",
    "        tuple_index = (item1[0][1], item2[0][1])\n",
    "        sim = similarity_function(item1[1:],item2[1:]) #compute similarity\n",
    "        matrix.append([tuple_index,sim])\n",
    "    nb_elements = (-1 + (1 + 8*nb_com_with_repl)**0.5)/2\n",
    "    return(nb_elements,matrix)\n",
    "\n",
    "rdd.mapPartitions(lambda iterator : similarity_matrix_per_iterator(iterator, euclidean_similarity), preservesPartitioning=True).glom().collect()"
   ]
  },
  {
   "cell_type": "raw",
   "metadata": {
    "collapsed": false
   },
   "source": [
    "rdd.mapPartitions(lambda iterator : similarity_matrix_per_iterator(iterator, euclidean_similarity)[1], preservesPartitioning=True).glom()\\\n",
    ".collect()[0][222]"
   ]
  },
  {
   "cell_type": "raw",
   "metadata": {
    "collapsed": true
   },
   "source": [
    "#Convert similarities list to numpy array\n",
    "def convert_sim_to_numpy(nb_elements, matrix):\n",
    "    import numpy as np #Import numpy on the node\n",
    "    similarity_matrix = np.empty([nb_elements, nb_elements]) #More efficient than np.zeros to initialize\n",
    "    for item in matrix :\n",
    "        i,j = item[0]\n",
    "        similarity_matrix[i,j] = item[1]\n",
    "        if (i!=j):\n",
    "            similarity_matrix[j,i] = item[1]\n",
    "    return(similarity_matrix)"
   ]
  },
  {
   "cell_type": "markdown",
   "metadata": {},
   "source": [
    "Etape 3 : Chaque mapper calcule ses préférences"
   ]
  },
  {
   "cell_type": "code",
   "execution_count": 51,
   "metadata": {
    "collapsed": true
   },
   "outputs": [],
   "source": [
    "#Il faudra ajouter un paramètre où on décide quel type de préférence on veut (mediane, minimum ou aléatoire entre les range)\n"
   ]
  },
  {
   "cell_type": "code",
   "execution_count": 18,
   "metadata": {
    "collapsed": false
   },
   "outputs": [],
   "source": [
    "def add_preferences_to_similarity_matrix(similarity_matrix, preference_type =\"median\"):\n",
    "    \"\"\" Updates the preference value in the similarity matrix, i.e : updates the value of s(k,k)\n",
    "    Several methods are available depending on the number of clusters expected by the user :\n",
    "    -'median' : default method. Takes the median of the similarities as the preference value. This method leads to a medium to large number of clusters\n",
    "    -'minimum' : Takes the minimum of the similarities as the preference value. This method leads to a small number of clusters.\n",
    "    -'random' : Takes a random number in the preference range mentioned in the article as the preference value. \"\"\"\n",
    "    if preference_type == \"median\":\n",
    "        preference_value = np.median(similarity_matrix)\n",
    "    np.fill_diagonal(similarity_matrix, preference_value)"
   ]
  },
  {
   "cell_type": "markdown",
   "metadata": {},
   "source": [
    "Etape 4 : chaque mapper update ses responsibilities"
   ]
  },
  {
   "cell_type": "markdown",
   "metadata": {},
   "source": [
    "Update responsibility : \n",
    "$$ r(i,k)  = s(i,k) - max_{k' \\neq k}\\{a(i,k') + s(i,k')\\} $$\n",
    "Update availability when $i \\neq k$ : \n",
    "$$ a(i,k) = min\\{0, r(k,k) + \\sum_{i' \\neq i, i' \\neq k} max\\{0, r(i',k)\\} \\} $$\n",
    "$$ a(i,k) = min\\{0, r(k,k) + \\sum_{i'} max\\{0, r(i',k)\\} - max\\{0, r(i,k)\\} - max\\{0, r(k,k)\\}\\} $$\n",
    "Or $r(k,k) - max\\{0, r(k,k)\\} = 0$ si $r(k,k) > 0$ et   $r(k,k) - max\\{0, r(k,k)\\} = r(k,k)$ si $r(k,k) \\leq 0$\n",
    "d'où : $r(k,k) - max\\{0, r(k,k)\\} = min\\{0, r(k,k)\\}$\n",
    "$$ a(i,k) = min\\{0,min\\{0, r(k,k)\\} + \\sum_{i'} max\\{0, r(i',k)\\} - max\\{0, r(i,k)\\} \\}\\}  $$\n",
    "Update availability when $i = k$ :\n",
    "$$ a(k,k) = \\sum_{i'} max\\{0, r(i',k)\\} - max\\{0, r(k,k) \\}$$"
   ]
  },
  {
   "cell_type": "code",
   "execution_count": 19,
   "metadata": {
    "collapsed": false
   },
   "outputs": [],
   "source": [
    "def update_responsibility_and_availability(similarity_matrix, responsibility_matrix, availability_matrix, ind, lambda_damping):\n",
    "    #1. Update Responsibility\n",
    "    temp_sum_availability_similarity = np.add(availability_matrix, similarity_matrix) #compute a(i,k) + s(i,k) for all i,k\n",
    "    argmax_resp = np.argmax(temp_sum_availability_similarity, axis = 1 ) #compute argmax { a(i,k') + s(i,k') } on ALL k' when i is fixed\n",
    "    max_resp =  temp_sum_availability_similarity[ind,argmax_resp][:,None] #NB : [:,None] converts the row of max values into a column\n",
    "    #Compute the new r(i,k) when k is not equal to argmax { a(i,k') + s(i,k') }\n",
    "    temp_responsibility_matrix = np.subtract(similarity_matrix,max_resp) \n",
    "    #Compute the new r(i,k) when k is equal to  argmax { a(i,k') + s(i,k') } :\n",
    "    temp_sum_availability_similarity[ind,argmax_resp] = -np.inf #Set the (i,k)th element to -inf when k is an argmax for row i\n",
    "    max_resp2 = np.max(temp_sum_availability_similarity, axis = 1) #compute new max for row i (the real max value of the row being set to -inf here)\n",
    "    temp_responsibility_matrix[ind,argmax_resp] = similarity_matrix[ind,argmax_resp] - max_resp2\n",
    "    #Damping\n",
    "    responsibility_matrix = (1 - lambda_damping) * temp_responsibility_matrix + lambda_damping*responsibility_matrix\n",
    "    #Remove temporary variables\n",
    "    del temp_sum_availability_similarity\n",
    "    del temp_responsibility_matrix\n",
    "    \n",
    "    #2. Update Availability for i != k\n",
    "    temp_matrix = np.maximum(0, responsibility_matrix)\n",
    "    temp_matrix = np.sum(temp_matrix, axis = 0) - temp_matrix #Compute el(i,k) = sum(max(0,r(i',k)) - max(0, r(i,k))\n",
    "    temp_matrix_diag = temp_matrix.diagonal() #Store the updated a(k,k) values\n",
    "    temp_matrix = np.minimum(0, responsibility_matrix.diagonal()) + temp_matrix\n",
    "    temp_matrix = np.minimum(0, temp_matrix)\n",
    "\n",
    "    #3. Update Availability for i ==k\n",
    "    np.fill_diagonal(temp_matrix, temp_matrix_diag) #set the diagonal values to the updated a(k,k) values computed above\n",
    "    \n",
    "    #Damping\n",
    "    availability_matrix = (1 - lambda_damping) * temp_matrix + lambda_damping*availability_matrix\n",
    "    return(responsibility_matrix, availability_matrix)"
   ]
  },
  {
   "cell_type": "code",
   "execution_count": 20,
   "metadata": {
    "collapsed": true
   },
   "outputs": [],
   "source": [
    "def center_decision(responsibility_matrix, availability_matrix):\n",
    "    temp_matrix = responsibility_matrix + availability_matrix\n",
    "    decision = np.argmax(temp_matrix, axis = 1)\n",
    "    return(decision)"
   ]
  },
  {
   "cell_type": "code",
   "execution_count": 21,
   "metadata": {
    "collapsed": true
   },
   "outputs": [],
   "source": [
    "def affinity_propagation_clustering_per_partition(iterator, similarity_function = euclidean_similarity , preference_type =\"median\", lambda_damping = 0.5, max_iter = 200, max_unchange_count = 3):\n",
    "    \"\"\"\n",
    "    Terminal conditions : max_iter or unchanged decisions for some number of iterations\n",
    "    We need to add the terminal condition (2) of the article\"\"\"\n",
    "    #1. Compute similarity matrix\n",
    "    nb_elements, ind, partition, similarity_matrix = similarity_matrix_per_iterator2(iterator, similarity_function)\n",
    "    #similarity_matrix = convert_sim_to_numpy(nb_elements, similarity_matrix)\n",
    "    #2. Compute preferences\n",
    "    add_preferences_to_similarity_matrix(similarity_matrix, preference_type)\n",
    "    #3. Initialize\n",
    "    responsibility_matrix = np.zeros([nb_elements, nb_elements]) \n",
    "    availability_matrix = np.zeros([nb_elements, nb_elements])\n",
    "    decision = ind\n",
    "    unchange_count = 0\n",
    "    #4. Update responsibility and availability until one of the terminal conditions is met\n",
    "    for it in xrange(max_iter) :\n",
    "        responsibility_matrix, availability_matrix = update_responsibility_and_availability(similarity_matrix, responsibility_matrix, availability_matrix, ind, lambda_damping)\n",
    "        temp_decision = center_decision(responsibility_matrix, availability_matrix)\n",
    "        if np.array_equal(temp_decision, decision) : \n",
    "            unchange_count = unchange_count + 1\n",
    "            if unchange_count >=  max_unchange_count :\n",
    "                decision = temp_decision\n",
    "                break\n",
    "        else: \n",
    "            decision = temp_decision\n",
    "    #5. Aggregate points with the same centers and add the center coordinates (using the initial index)\n",
    "    decision = sorted(zip(decision, ind), key = lambda x : x[0])\n",
    "    from itertools import groupby\n",
    "    output = list()\n",
    "    for key, group in groupby(decision, lambda x: x[0]):\n",
    "        output.append((partition[key][0], [partition[j][0] for i,j in group], partition[key][1:]))\n",
    "    return(output)"
   ]
  },
  {
   "cell_type": "code",
   "execution_count": 24,
   "metadata": {
    "collapsed": false
   },
   "outputs": [
    {
     "data": {
      "text/plain": [
       "[[(2.0,\n",
       "   [1.0,\n",
       "    2.0,\n",
       "    3.0,\n",
       "    6.0,\n",
       "    7.0,\n",
       "    8.0,\n",
       "    9.0,\n",
       "    11.0,\n",
       "    12.0,\n",
       "    13.0,\n",
       "    22.0,\n",
       "    24.0,\n",
       "    25.0,\n",
       "    29.0,\n",
       "    30.0,\n",
       "    34.0,\n",
       "    35.0,\n",
       "    37.0,\n",
       "    38.0,\n",
       "    41.0,\n",
       "    42.0,\n",
       "    45.0,\n",
       "    47.0,\n",
       "    49.0],\n",
       "   [4.7, 3.2, 1.3, 0.2]),\n",
       "  (48.0,\n",
       "   [0.0,\n",
       "    4.0,\n",
       "    5.0,\n",
       "    10.0,\n",
       "    14.0,\n",
       "    15.0,\n",
       "    16.0,\n",
       "    17.0,\n",
       "    18.0,\n",
       "    19.0,\n",
       "    20.0,\n",
       "    21.0,\n",
       "    23.0,\n",
       "    26.0,\n",
       "    27.0,\n",
       "    28.0,\n",
       "    31.0,\n",
       "    32.0,\n",
       "    33.0,\n",
       "    36.0,\n",
       "    39.0,\n",
       "    40.0,\n",
       "    43.0,\n",
       "    44.0,\n",
       "    46.0,\n",
       "    48.0],\n",
       "   [5.3, 3.7, 1.5, 0.2]),\n",
       "  (58.0,\n",
       "   [50.0, 51.0, 52.0, 54.0, 58.0, 65.0, 74.0, 75.0, 76.0],\n",
       "   [6.6, 2.9, 4.6, 1.3]),\n",
       "  (63.0,\n",
       "   [55.0, 56.0, 61.0, 63.0, 66.0, 68.0, 70.0, 72.0, 73.0],\n",
       "   [6.1, 2.9, 4.7, 1.4]),\n",
       "  (69.0,\n",
       "   [53.0, 57.0, 59.0, 60.0, 62.0, 64.0, 67.0, 69.0, 71.0],\n",
       "   [5.6, 2.5, 3.9, 1.1])],\n",
       " [(81.0, [79.0, 80.0, 81.0, 93.0, 98.0], [5.5, 2.4, 3.7, 1.0]),\n",
       "  (83.0,\n",
       "   [83.0,\n",
       "    101.0,\n",
       "    113.0,\n",
       "    114.0,\n",
       "    119.0,\n",
       "    121.0,\n",
       "    123.0,\n",
       "    126.0,\n",
       "    127.0,\n",
       "    133.0,\n",
       "    134.0,\n",
       "    142.0,\n",
       "    146.0,\n",
       "    149.0],\n",
       "   [6.0, 2.7, 5.1, 1.6]),\n",
       "  (91.0, [78.0, 85.0, 86.0, 87.0, 91.0, 97.0, 138.0], [6.1, 3.0, 4.6, 1.4]),\n",
       "  (94.0,\n",
       "   [82.0, 84.0, 88.0, 89.0, 90.0, 92.0, 94.0, 95.0, 96.0, 99.0, 106.0],\n",
       "   [5.6, 2.7, 4.2, 1.3]),\n",
       "  (105.0, [105.0, 117.0, 118.0, 122.0, 131.0], [7.6, 3.0, 6.6, 2.1]),\n",
       "  (130.0,\n",
       "   [102.0, 107.0, 108.0, 125.0, 129.0, 130.0, 135.0],\n",
       "   [7.4, 2.8, 6.1, 1.9]),\n",
       "  (140.0,\n",
       "   [100.0,\n",
       "    104.0,\n",
       "    109.0,\n",
       "    112.0,\n",
       "    120.0,\n",
       "    124.0,\n",
       "    132.0,\n",
       "    136.0,\n",
       "    139.0,\n",
       "    140.0,\n",
       "    143.0,\n",
       "    144.0],\n",
       "   [6.7, 3.1, 5.6, 2.4]),\n",
       "  (147.0,\n",
       "   [77.0,\n",
       "    103.0,\n",
       "    110.0,\n",
       "    111.0,\n",
       "    115.0,\n",
       "    116.0,\n",
       "    128.0,\n",
       "    137.0,\n",
       "    141.0,\n",
       "    145.0,\n",
       "    147.0,\n",
       "    148.0],\n",
       "   [6.5, 3.0, 5.2, 2.0])]]"
      ]
     },
     "execution_count": 24,
     "metadata": {},
     "output_type": "execute_result"
    }
   ],
   "source": [
    "rdd.mapPartitions(lambda iterator : affinity_propagation_clustering_per_partition(iterator, similarity_function = euclidean_similarity), preservesPartitioning=True).glom().collect()"
   ]
  },
  {
   "cell_type": "markdown",
   "metadata": {},
   "source": [
    "Etape 5 : Compute distance between centers"
   ]
  },
  {
   "cell_type": "code",
   "execution_count": 22,
   "metadata": {
    "collapsed": true
   },
   "outputs": [],
   "source": [
    "rdd2 = rdd.mapPartitions(lambda iterator : affinity_propagation_clustering_per_partition(iterator, similarity_function = euclidean_similarity), preservesPartitioning=True)"
   ]
  },
  {
   "cell_type": "code",
   "execution_count": 23,
   "metadata": {
    "collapsed": false
   },
   "outputs": [
    {
     "data": {
      "text/plain": [
       "[((2.0, 48.0), -0.6499999999999997),\n",
       " ((2.0, 58.0), -15.799999999999997),\n",
       " ((2.0, 63.0), -15.05),\n",
       " ((2.0, 69.0), -8.869999999999997),\n",
       " ((48.0, 58.0), -13.149999999999999),\n",
       " ((48.0, 63.0), -12.960000000000003),\n",
       " ((48.0, 69.0), -8.1),\n",
       " ((58.0, 63.0), -0.2700000000000001),\n",
       " ((58.0, 69.0), -1.6899999999999995),\n",
       " ((63.0, 69.0), -1.1400000000000001),\n",
       " ((2.0, 81.0), -7.6800000000000015),\n",
       " ((2.0, 83.0), -18.339999999999996),\n",
       " ((2.0, 91.0), -14.329999999999997),\n",
       " ((2.0, 94.0), -10.680000000000001),\n",
       " ((2.0, 105.0), -40.15),\n",
       " ((2.0, 130.0), -33.38),\n",
       " ((2.0, 140.0), -27.34),\n",
       " ((2.0, 147.0), -21.730000000000004),\n",
       " ((48.0, 81.0), -7.210000000000001),\n",
       " ((58.0, 81.0), -2.359999999999998),\n",
       " ((48.0, 83.0), -16.409999999999997),\n",
       " ((48.0, 91.0), -12.179999999999998),\n",
       " ((58.0, 83.0), -0.7399999999999995),\n",
       " ((58.0, 91.0), -0.26999999999999996),\n",
       " ((48.0, 94.0), -9.590000000000002),\n",
       " ((48.0, 105.0), -35.39999999999999),\n",
       " ((48.0, 130.0), -29.27),\n",
       " ((48.0, 140.0), -23.97),\n",
       " ((58.0, 94.0), -1.1999999999999993),\n",
       " ((58.0, 105.0), -5.65),\n",
       " ((58.0, 130.0), -3.260000000000001),\n",
       " ((58.0, 140.0), -2.26),\n",
       " ((48.0, 147.0), -18.86),\n",
       " ((58.0, 147.0), -0.8700000000000006),\n",
       " ((63.0, 81.0), -1.7699999999999996),\n",
       " ((69.0, 81.0), -0.06999999999999987),\n",
       " ((63.0, 83.0), -0.24999999999999947),\n",
       " ((63.0, 91.0), -0.020000000000000122),\n",
       " ((69.0, 83.0), -1.8899999999999997),\n",
       " ((69.0, 91.0), -1.0799999999999994),\n",
       " ((63.0, 94.0), -0.5499999999999999),\n",
       " ((63.0, 105.0), -6.3599999999999985),\n",
       " ((63.0, 130.0), -3.91),\n",
       " ((63.0, 140.0), -2.21),\n",
       " ((69.0, 94.0), -0.1700000000000002),\n",
       " ((69.0, 105.0), -12.54),\n",
       " ((69.0, 130.0), -8.810000000000002),\n",
       " ((69.0, 140.0), -6.15),\n",
       " ((63.0, 147.0), -0.7800000000000004),\n",
       " ((69.0, 147.0), -3.5600000000000005),\n",
       " ((81.0, 83.0), -2.6599999999999984),\n",
       " ((81.0, 91.0), -1.6899999999999988),\n",
       " ((81.0, 94.0), -0.4400000000000001),\n",
       " ((81.0, 105.0), -14.389999999999997),\n",
       " ((81.0, 130.0), -10.339999999999998),\n",
       " ((81.0, 140.0), -7.499999999999999),\n",
       " ((81.0, 147.0), -4.61),\n",
       " ((83.0, 91.0), -0.3899999999999999),\n",
       " ((83.0, 94.0), -1.0599999999999994),\n",
       " ((83.0, 105.0), -5.149999999999999),\n",
       " ((83.0, 130.0), -3.060000000000001),\n",
       " ((83.0, 140.0), -1.5399999999999998),\n",
       " ((91.0, 94.0), -0.5099999999999995),\n",
       " ((91.0, 105.0), -6.74),\n",
       " ((91.0, 130.0), -4.230000000000002),\n",
       " ((91.0, 140.0), -2.3700000000000006),\n",
       " ((83.0, 147.0), -0.51),\n",
       " ((91.0, 147.0), -0.880000000000001),\n",
       " ((94.0, 105.0), -10.489999999999998),\n",
       " ((94.0, 130.0), -7.22),\n",
       " ((94.0, 140.0), -4.539999999999999),\n",
       " ((105.0, 130.0), -0.3699999999999999),\n",
       " ((105.0, 140.0), -1.9099999999999988),\n",
       " ((130.0, 140.0), -1.0800000000000005),\n",
       " ((94.0, 147.0), -2.39),\n",
       " ((105.0, 147.0), -3.179999999999998),\n",
       " ((130.0, 147.0), -1.6699999999999997),\n",
       " ((140.0, 147.0), -0.3699999999999996)]"
      ]
     },
     "execution_count": 23,
     "metadata": {},
     "output_type": "execute_result"
    }
   ],
   "source": [
    "rdd2.cartesian(rdd2).filter(lambda u : u[0][0] < u[1][0]).map(lambda u : ((u[0][0], u[1][0]),euclidean_similarity(u[0][2], u[1][2]))).collect()"
   ]
  },
  {
   "cell_type": "code",
   "execution_count": 57,
   "metadata": {
    "collapsed": true
   },
   "outputs": [],
   "source": [
    "rdd_dist = rdd2.cartesian(rdd2).map(lambda u : ((u[0][0], u[1][0]),euclidean_similarity(u[0][2], u[1][2])))"
   ]
  },
  {
   "cell_type": "code",
   "execution_count": 58,
   "metadata": {
    "collapsed": false
   },
   "outputs": [
    {
     "data": {
      "text/plain": [
       "[((2.0, 2.0), -0.0),\n",
       " ((2.0, 48.0), -0.6499999999999997),\n",
       " ((48.0, 2.0), -0.6499999999999997),\n",
       " ((48.0, 48.0), -0.0),\n",
       " ((58.0, 58.0), -0.0),\n",
       " ((58.0, 63.0), -0.2700000000000001),\n",
       " ((58.0, 69.0), -1.6899999999999995),\n",
       " ((63.0, 58.0), -0.2700000000000001),\n",
       " ((69.0, 58.0), -1.6899999999999995),\n",
       " ((63.0, 63.0), -0.0),\n",
       " ((63.0, 69.0), -1.1400000000000001),\n",
       " ((69.0, 63.0), -1.1400000000000001),\n",
       " ((69.0, 69.0), -0.0),\n",
       " ((58.0, 83.0), -0.7399999999999995),\n",
       " ((58.0, 91.0), -0.26999999999999996),\n",
       " ((58.0, 94.0), -1.1999999999999993),\n",
       " ((58.0, 147.0), -0.8700000000000006),\n",
       " ((63.0, 81.0), -1.7699999999999996),\n",
       " ((69.0, 81.0), -0.06999999999999987),\n",
       " ((63.0, 83.0), -0.24999999999999947),\n",
       " ((63.0, 91.0), -0.020000000000000122),\n",
       " ((69.0, 83.0), -1.8899999999999997),\n",
       " ((69.0, 91.0), -1.0799999999999994),\n",
       " ((63.0, 94.0), -0.5499999999999999),\n",
       " ((69.0, 94.0), -0.1700000000000002),\n",
       " ((63.0, 147.0), -0.7800000000000004),\n",
       " ((81.0, 63.0), -1.7699999999999996),\n",
       " ((81.0, 69.0), -0.06999999999999987),\n",
       " ((83.0, 58.0), -0.7399999999999995),\n",
       " ((91.0, 58.0), -0.26999999999999996),\n",
       " ((83.0, 63.0), -0.24999999999999947),\n",
       " ((83.0, 69.0), -1.8899999999999997),\n",
       " ((91.0, 63.0), -0.020000000000000122),\n",
       " ((91.0, 69.0), -1.0799999999999994),\n",
       " ((94.0, 58.0), -1.1999999999999993),\n",
       " ((94.0, 63.0), -0.5499999999999999),\n",
       " ((94.0, 69.0), -0.1700000000000002),\n",
       " ((147.0, 58.0), -0.8700000000000006),\n",
       " ((147.0, 63.0), -0.7800000000000004),\n",
       " ((81.0, 81.0), -0.0),\n",
       " ((81.0, 91.0), -1.6899999999999988),\n",
       " ((81.0, 94.0), -0.4400000000000001),\n",
       " ((91.0, 81.0), -1.6899999999999988),\n",
       " ((83.0, 83.0), -0.0),\n",
       " ((83.0, 91.0), -0.3899999999999999),\n",
       " ((91.0, 83.0), -0.3899999999999999),\n",
       " ((91.0, 91.0), -0.0),\n",
       " ((83.0, 94.0), -1.0599999999999994),\n",
       " ((83.0, 140.0), -1.5399999999999998),\n",
       " ((91.0, 94.0), -0.5099999999999995),\n",
       " ((83.0, 147.0), -0.51),\n",
       " ((91.0, 147.0), -0.880000000000001),\n",
       " ((94.0, 81.0), -0.4400000000000001),\n",
       " ((94.0, 83.0), -1.0599999999999994),\n",
       " ((94.0, 91.0), -0.5099999999999995),\n",
       " ((140.0, 83.0), -1.5399999999999998),\n",
       " ((94.0, 94.0), -0.0),\n",
       " ((105.0, 105.0), -0.0),\n",
       " ((105.0, 130.0), -0.3699999999999999),\n",
       " ((105.0, 140.0), -1.9099999999999988),\n",
       " ((130.0, 105.0), -0.3699999999999999),\n",
       " ((130.0, 130.0), -0.0),\n",
       " ((130.0, 140.0), -1.0800000000000005),\n",
       " ((140.0, 105.0), -1.9099999999999988),\n",
       " ((140.0, 130.0), -1.0800000000000005),\n",
       " ((140.0, 140.0), -0.0),\n",
       " ((130.0, 147.0), -1.6699999999999997),\n",
       " ((140.0, 147.0), -0.3699999999999996),\n",
       " ((147.0, 83.0), -0.51),\n",
       " ((147.0, 91.0), -0.880000000000001),\n",
       " ((147.0, 130.0), -1.6699999999999997),\n",
       " ((147.0, 140.0), -0.3699999999999996),\n",
       " ((147.0, 147.0), -0.0)]"
      ]
     },
     "execution_count": 58,
     "metadata": {},
     "output_type": "execute_result"
    }
   ],
   "source": [
    "threshold=  -2\n",
    "rdd_dist.filter(lambda u : u[1] > threshold).collect()"
   ]
  },
  {
   "cell_type": "code",
   "execution_count": 41,
   "metadata": {
    "collapsed": false
   },
   "outputs": [
    {
     "data": {
      "text/plain": [
       "[1, 2, 4, 6]"
      ]
     },
     "execution_count": 41,
     "metadata": {},
     "output_type": "execute_result"
    }
   ],
   "source": [
    "[1, 2] + [4,6]"
   ]
  },
  {
   "cell_type": "code",
   "execution_count": 59,
   "metadata": {
    "collapsed": false
   },
   "outputs": [
    {
     "data": {
      "text/plain": [
       "[(48.0, [2.0, 48.0]),\n",
       " (140.0, [83.0, 105.0, 130.0, 140.0, 147.0]),\n",
       " (81.0, [63.0, 69.0, 81.0, 91.0, 94.0]),\n",
       " (69.0, [58.0, 63.0, 69.0, 81.0, 83.0, 91.0, 94.0]),\n",
       " (105.0, [105.0, 130.0, 140.0]),\n",
       " (2.0, [2.0, 48.0]),\n",
       " (58.0, [58.0, 63.0, 69.0, 83.0, 91.0, 94.0, 147.0]),\n",
       " (94.0, [58.0, 63.0, 69.0, 81.0, 83.0, 91.0, 94.0]),\n",
       " (130.0, [105.0, 130.0, 140.0, 147.0]),\n",
       " (83.0, [58.0, 63.0, 69.0, 83.0, 91.0, 94.0, 140.0, 147.0]),\n",
       " (91.0, [58.0, 63.0, 69.0, 81.0, 83.0, 91.0, 94.0, 147.0]),\n",
       " (147.0, [58.0, 63.0, 83.0, 91.0, 130.0, 140.0, 147.0]),\n",
       " (63.0, [58.0, 63.0, 69.0, 81.0, 83.0, 91.0, 94.0, 147.0])]"
      ]
     },
     "execution_count": 59,
     "metadata": {},
     "output_type": "execute_result"
    }
   ],
   "source": [
    "edges = rdd_dist.filter(lambda u : u[1] > threshold).map(lambda u: u[0])\n",
    "edges = edges.map(lambda nameTuple: (nameTuple[0], [ nameTuple[1] ])) \\\n",
    ".reduceByKey(lambda a, b: a + b)  # combine lists: ([1,2,3] + [4,5]) becomes [1,2,3,4,5]\n",
    "edges.collect()"
   ]
  },
  {
   "cell_type": "code",
   "execution_count": 60,
   "metadata": {
    "collapsed": false
   },
   "outputs": [
    {
     "data": {
      "text/plain": [
       "{2.0: [2.0, 48.0],\n",
       " 48.0: [2.0, 48.0],\n",
       " 58.0: [58.0, 63.0, 69.0, 83.0, 91.0, 94.0, 147.0],\n",
       " 63.0: [58.0, 63.0, 69.0, 81.0, 83.0, 91.0, 94.0, 147.0],\n",
       " 69.0: [58.0, 63.0, 69.0, 81.0, 83.0, 91.0, 94.0],\n",
       " 81.0: [63.0, 69.0, 81.0, 91.0, 94.0],\n",
       " 83.0: [58.0, 63.0, 69.0, 83.0, 91.0, 94.0, 140.0, 147.0],\n",
       " 91.0: [58.0, 63.0, 69.0, 81.0, 83.0, 91.0, 94.0, 147.0],\n",
       " 94.0: [58.0, 63.0, 69.0, 81.0, 83.0, 91.0, 94.0],\n",
       " 105.0: [105.0, 130.0, 140.0],\n",
       " 130.0: [105.0, 130.0, 140.0, 147.0],\n",
       " 140.0: [83.0, 105.0, 130.0, 140.0, 147.0],\n",
       " 147.0: [58.0, 63.0, 83.0, 91.0, 130.0, 140.0, 147.0]}"
      ]
     },
     "execution_count": 60,
     "metadata": {},
     "output_type": "execute_result"
    }
   ],
   "source": [
    "dict(edges.collect())"
   ]
  },
  {
   "cell_type": "markdown",
   "metadata": {},
   "source": [
    "From http://stackoverflow.com/questions/10301000/python-connected-components :"
   ]
  },
  {
   "cell_type": "code",
   "execution_count": 29,
   "metadata": {
    "collapsed": true
   },
   "outputs": [],
   "source": [
    "def getRoots(aNeigh):\n",
    "    def findRoot(aNode,aRoot):\n",
    "        while aNode != aRoot[aNode][0]:\n",
    "            aNode = aRoot[aNode][0]\n",
    "        return (aNode,aRoot[aNode][1])\n",
    "    myRoot = {} \n",
    "    for myNode in aNeigh.keys():\n",
    "        myRoot[myNode] = (myNode,0)  \n",
    "    for myI in aNeigh: \n",
    "        for myJ in aNeigh[myI]: \n",
    "            (myRoot_myI,myDepthMyI) = findRoot(myI,myRoot) \n",
    "            (myRoot_myJ,myDepthMyJ) = findRoot(myJ,myRoot) \n",
    "            if myRoot_myI != myRoot_myJ: \n",
    "                myMin = myRoot_myI\n",
    "                myMax = myRoot_myJ \n",
    "                if  myDepthMyI > myDepthMyJ: \n",
    "                    myMin = myRoot_myJ\n",
    "                    myMax = myRoot_myI\n",
    "                myRoot[myMax] = (myMax,max(myRoot[myMin][1]+1,myRoot[myMax][1]))\n",
    "                myRoot[myMin] = (myRoot[myMax][0],-1) \n",
    "    myToRet = {}\n",
    "    for myI in aNeigh: \n",
    "        if myRoot[myI][0] == myI:\n",
    "            myToRet[myI] = []\n",
    "    for myI in aNeigh: \n",
    "        myToRet[findRoot(myI,myRoot)[0]].append(myI) \n",
    "    return myToRet  "
   ]
  },
  {
   "cell_type": "code",
   "execution_count": 30,
   "metadata": {
    "collapsed": false
   },
   "outputs": [],
   "source": [
    "myGraph = {0: [1,2,3], 1: [], 2: [1], 3: [4,5],4: [3,5], 5: [3,4,7], 6: [8], 7: [],8: [9], 9: []}"
   ]
  },
  {
   "cell_type": "code",
   "execution_count": 31,
   "metadata": {
    "collapsed": false
   },
   "outputs": [
    {
     "name": "stdout",
     "output_type": "stream",
     "text": [
      "{8: [6, 8, 9], 1: [0, 1, 2, 3, 4, 5, 7]}\n"
     ]
    }
   ],
   "source": [
    "print getRoots(myGraph)"
   ]
  },
  {
   "cell_type": "markdown",
   "metadata": {},
   "source": [
    "https://breakingcode.wordpress.com/2013/04/08/finding-connected-components-in-a-graph/"
   ]
  },
  {
   "cell_type": "code",
   "execution_count": 51,
   "metadata": {
    "collapsed": true
   },
   "outputs": [],
   "source": [
    "def getRoots2(aNeigh):\n",
    "    def findRoot(aNode,aRoot):\n",
    "        while aNode != aRoot[aNode][0]:\n",
    "            aNode = aRoot[aNode][0]\n",
    "        return (aNode,aRoot[aNode][1])\n",
    "    myRoot = {} \n",
    "    for myNode in aNeigh.keys():\n",
    "        myRoot[myNode] = (myNode,0)  \n",
    "    for myI in aNeigh: \n",
    "        for myJ in aNeigh[myI]: \n",
    "            (myRoot_myI,myDepthMyI) = findRoot(myI,myRoot) \n",
    "            (myRoot_myJ,myDepthMyJ) = findRoot(myJ,myRoot) \n",
    "            if myRoot_myI != myRoot_myJ: \n",
    "                myMin = myRoot_myI\n",
    "                myMax = myRoot_myJ \n",
    "                if  myDepthMyI > myDepthMyJ: \n",
    "                    myMin = myRoot_myJ\n",
    "                    myMax = myRoot_myI\n",
    "                myRoot[myMax] = (myMax,max(myRoot[myMin][1]+1,myRoot[myMax][1]))\n",
    "                myRoot[myMin] = (myRoot[myMax][0],-1) \n",
    "    myToRet = []\n",
    "    for myI in aNeigh: \n",
    "        myToRet.append((findRoot(myI,myRoot)[0], myI)) \n",
    "    return myToRet  "
   ]
  },
  {
   "cell_type": "code",
   "execution_count": 52,
   "metadata": {
    "collapsed": false
   },
   "outputs": [
    {
     "name": "stdout",
     "output_type": "stream",
     "text": [
      "[(1, 0), (1, 1), (1, 2), (1, 3), (1, 4), (1, 5), (8, 6), (1, 7), (8, 8), (8, 9)]\n"
     ]
    }
   ],
   "source": [
    "print getRoots2(myGraph) #we get the same key for each node which are in the same subgraph"
   ]
  },
  {
   "cell_type": "code",
   "execution_count": 61,
   "metadata": {
    "collapsed": false
   },
   "outputs": [
    {
     "data": {
      "text/plain": [
       "[(48.0, 2.0),\n",
       " (58.0, 147.0),\n",
       " (58.0, 69.0),\n",
       " (58.0, 105.0),\n",
       " (58.0, 140.0),\n",
       " (58.0, 130.0),\n",
       " (48.0, 48.0),\n",
       " (58.0, 81.0),\n",
       " (58.0, 83.0),\n",
       " (58.0, 58.0),\n",
       " (58.0, 91.0),\n",
       " (58.0, 94.0),\n",
       " (58.0, 63.0)]"
      ]
     },
     "execution_count": 61,
     "metadata": {},
     "output_type": "execute_result"
    }
   ],
   "source": [
    "getRoots2(dict(edges.collect())) #On obtient 2 centres"
   ]
  },
  {
   "cell_type": "code",
   "execution_count": 66,
   "metadata": {
    "collapsed": true
   },
   "outputs": [],
   "source": [
    "def getRoots3(aNeigh):\n",
    "    def findRoot(aNode,aRoot):\n",
    "        while aNode != aRoot[aNode][0]:\n",
    "            aNode = aRoot[aNode][0]\n",
    "        return (aNode,aRoot[aNode][1])\n",
    "    myRoot = {} \n",
    "    for myNode in aNeigh.keys():\n",
    "        myRoot[myNode] = (myNode,0)  \n",
    "    for myI in aNeigh: \n",
    "        for myJ in aNeigh[myI]: \n",
    "            (myRoot_myI,myDepthMyI) = findRoot(myI,myRoot) \n",
    "            (myRoot_myJ,myDepthMyJ) = findRoot(myJ,myRoot) \n",
    "            if myRoot_myI != myRoot_myJ: \n",
    "                myMin = myRoot_myI\n",
    "                myMax = myRoot_myJ \n",
    "                if  myDepthMyI > myDepthMyJ: \n",
    "                    myMin = myRoot_myJ\n",
    "                    myMax = myRoot_myI\n",
    "                myRoot[myMax] = (myMax,max(myRoot[myMin][1]+1,myRoot[myMax][1]))\n",
    "                myRoot[myMin] = (myRoot[myMax][0],-1) \n",
    "    myToRet = {}\n",
    "    for myI in aNeigh: \n",
    "        myToRet[myI] = findRoot(myI,myRoot)[0]\n",
    "    return myToRet  "
   ]
  },
  {
   "cell_type": "code",
   "execution_count": 67,
   "metadata": {
    "collapsed": false
   },
   "outputs": [
    {
     "name": "stdout",
     "output_type": "stream",
     "text": [
      "{0: 1, 1: 1, 2: 1, 3: 1, 4: 1, 5: 1, 6: 8, 7: 1, 8: 8, 9: 8}\n"
     ]
    }
   ],
   "source": [
    "print getRoots3(myGraph) "
   ]
  },
  {
   "cell_type": "code",
   "execution_count": 68,
   "metadata": {
    "collapsed": false
   },
   "outputs": [
    {
     "data": {
      "text/plain": [
       "{2.0: 48.0,\n",
       " 48.0: 48.0,\n",
       " 58.0: 58.0,\n",
       " 63.0: 58.0,\n",
       " 69.0: 58.0,\n",
       " 81.0: 58.0,\n",
       " 83.0: 58.0,\n",
       " 91.0: 58.0,\n",
       " 94.0: 58.0,\n",
       " 105.0: 58.0,\n",
       " 130.0: 58.0,\n",
       " 140.0: 58.0,\n",
       " 147.0: 58.0}"
      ]
     },
     "execution_count": 68,
     "metadata": {},
     "output_type": "execute_result"
    }
   ],
   "source": [
    "getRoots3(dict(edges.collect())) #On obtient 2 centres"
   ]
  },
  {
   "cell_type": "code",
   "execution_count": 69,
   "metadata": {
    "collapsed": true
   },
   "outputs": [],
   "source": [
    "connected_components = getRoots3(dict(edges.collect()))"
   ]
  },
  {
   "cell_type": "code",
   "execution_count": 70,
   "metadata": {
    "collapsed": true
   },
   "outputs": [],
   "source": [
    "#Broadcast des résultats de la recherche de connected components sur tous les noeuds\n",
    "connected_components_broadcast = sc.broadcast(connected_components)"
   ]
  },
  {
   "cell_type": "code",
   "execution_count": 72,
   "metadata": {
    "collapsed": false
   },
   "outputs": [
    {
     "data": {
      "text/plain": [
       "[(48.0,\n",
       "  [1.0,\n",
       "   2.0,\n",
       "   3.0,\n",
       "   6.0,\n",
       "   7.0,\n",
       "   8.0,\n",
       "   9.0,\n",
       "   11.0,\n",
       "   12.0,\n",
       "   13.0,\n",
       "   22.0,\n",
       "   24.0,\n",
       "   25.0,\n",
       "   29.0,\n",
       "   30.0,\n",
       "   34.0,\n",
       "   35.0,\n",
       "   37.0,\n",
       "   38.0,\n",
       "   41.0,\n",
       "   42.0,\n",
       "   45.0,\n",
       "   47.0,\n",
       "   49.0]),\n",
       " (48.0,\n",
       "  [0.0,\n",
       "   4.0,\n",
       "   5.0,\n",
       "   10.0,\n",
       "   14.0,\n",
       "   15.0,\n",
       "   16.0,\n",
       "   17.0,\n",
       "   18.0,\n",
       "   19.0,\n",
       "   20.0,\n",
       "   21.0,\n",
       "   23.0,\n",
       "   26.0,\n",
       "   27.0,\n",
       "   28.0,\n",
       "   31.0,\n",
       "   32.0,\n",
       "   33.0,\n",
       "   36.0,\n",
       "   39.0,\n",
       "   40.0,\n",
       "   43.0,\n",
       "   44.0,\n",
       "   46.0,\n",
       "   48.0]),\n",
       " (58.0, [50.0, 51.0, 52.0, 54.0, 58.0, 65.0, 74.0, 75.0, 76.0]),\n",
       " (58.0, [55.0, 56.0, 61.0, 63.0, 66.0, 68.0, 70.0, 72.0, 73.0]),\n",
       " (58.0, [53.0, 57.0, 59.0, 60.0, 62.0, 64.0, 67.0, 69.0, 71.0]),\n",
       " (58.0, [79.0, 80.0, 81.0, 93.0, 98.0]),\n",
       " (58.0,\n",
       "  [83.0,\n",
       "   101.0,\n",
       "   113.0,\n",
       "   114.0,\n",
       "   119.0,\n",
       "   121.0,\n",
       "   123.0,\n",
       "   126.0,\n",
       "   127.0,\n",
       "   133.0,\n",
       "   134.0,\n",
       "   142.0,\n",
       "   146.0,\n",
       "   149.0]),\n",
       " (58.0, [78.0, 85.0, 86.0, 87.0, 91.0, 97.0, 138.0]),\n",
       " (58.0, [82.0, 84.0, 88.0, 89.0, 90.0, 92.0, 94.0, 95.0, 96.0, 99.0, 106.0]),\n",
       " (58.0, [105.0, 117.0, 118.0, 122.0, 131.0]),\n",
       " (58.0, [102.0, 107.0, 108.0, 125.0, 129.0, 130.0, 135.0]),\n",
       " (58.0,\n",
       "  [100.0,\n",
       "   104.0,\n",
       "   109.0,\n",
       "   112.0,\n",
       "   120.0,\n",
       "   124.0,\n",
       "   132.0,\n",
       "   136.0,\n",
       "   139.0,\n",
       "   140.0,\n",
       "   143.0,\n",
       "   144.0]),\n",
       " (58.0,\n",
       "  [77.0,\n",
       "   103.0,\n",
       "   110.0,\n",
       "   111.0,\n",
       "   115.0,\n",
       "   116.0,\n",
       "   128.0,\n",
       "   137.0,\n",
       "   141.0,\n",
       "   145.0,\n",
       "   147.0,\n",
       "   148.0])]"
      ]
     },
     "execution_count": 72,
     "metadata": {},
     "output_type": "execute_result"
    }
   ],
   "source": [
    "rdd2.map(lambda (center, points, coordinates) : (connected_components_broadcast.value[center], points)).collect()"
   ]
  },
  {
   "cell_type": "code",
   "execution_count": 73,
   "metadata": {
    "collapsed": true
   },
   "outputs": [],
   "source": [
    "rdd3 = rdd2.map(lambda (center, points, coordinates) : (connected_components_broadcast.value[center], points))"
   ]
  },
  {
   "cell_type": "code",
   "execution_count": null,
   "metadata": {
    "collapsed": true
   },
   "outputs": [],
   "source": [
    "#On aggrège ensuite les listes de points qui ont le même centre"
   ]
  },
  {
   "cell_type": "code",
   "execution_count": 75,
   "metadata": {
    "collapsed": true
   },
   "outputs": [],
   "source": [
    "result_clustering = rdd3.reduceByKey(lambda a, b: a + b)"
   ]
  },
  {
   "cell_type": "code",
   "execution_count": 76,
   "metadata": {
    "collapsed": false
   },
   "outputs": [
    {
     "data": {
      "text/plain": [
       "[(48.0,\n",
       "  [1.0,\n",
       "   2.0,\n",
       "   3.0,\n",
       "   6.0,\n",
       "   7.0,\n",
       "   8.0,\n",
       "   9.0,\n",
       "   11.0,\n",
       "   12.0,\n",
       "   13.0,\n",
       "   22.0,\n",
       "   24.0,\n",
       "   25.0,\n",
       "   29.0,\n",
       "   30.0,\n",
       "   34.0,\n",
       "   35.0,\n",
       "   37.0,\n",
       "   38.0,\n",
       "   41.0,\n",
       "   42.0,\n",
       "   45.0,\n",
       "   47.0,\n",
       "   49.0,\n",
       "   0.0,\n",
       "   4.0,\n",
       "   5.0,\n",
       "   10.0,\n",
       "   14.0,\n",
       "   15.0,\n",
       "   16.0,\n",
       "   17.0,\n",
       "   18.0,\n",
       "   19.0,\n",
       "   20.0,\n",
       "   21.0,\n",
       "   23.0,\n",
       "   26.0,\n",
       "   27.0,\n",
       "   28.0,\n",
       "   31.0,\n",
       "   32.0,\n",
       "   33.0,\n",
       "   36.0,\n",
       "   39.0,\n",
       "   40.0,\n",
       "   43.0,\n",
       "   44.0,\n",
       "   46.0,\n",
       "   48.0]),\n",
       " (58.0,\n",
       "  [50.0,\n",
       "   51.0,\n",
       "   52.0,\n",
       "   54.0,\n",
       "   58.0,\n",
       "   65.0,\n",
       "   74.0,\n",
       "   75.0,\n",
       "   76.0,\n",
       "   55.0,\n",
       "   56.0,\n",
       "   61.0,\n",
       "   63.0,\n",
       "   66.0,\n",
       "   68.0,\n",
       "   70.0,\n",
       "   72.0,\n",
       "   73.0,\n",
       "   53.0,\n",
       "   57.0,\n",
       "   59.0,\n",
       "   60.0,\n",
       "   62.0,\n",
       "   64.0,\n",
       "   67.0,\n",
       "   69.0,\n",
       "   71.0,\n",
       "   79.0,\n",
       "   80.0,\n",
       "   81.0,\n",
       "   93.0,\n",
       "   98.0,\n",
       "   83.0,\n",
       "   101.0,\n",
       "   113.0,\n",
       "   114.0,\n",
       "   119.0,\n",
       "   121.0,\n",
       "   123.0,\n",
       "   126.0,\n",
       "   127.0,\n",
       "   133.0,\n",
       "   134.0,\n",
       "   142.0,\n",
       "   146.0,\n",
       "   149.0,\n",
       "   78.0,\n",
       "   85.0,\n",
       "   86.0,\n",
       "   87.0,\n",
       "   91.0,\n",
       "   97.0,\n",
       "   138.0,\n",
       "   82.0,\n",
       "   84.0,\n",
       "   88.0,\n",
       "   89.0,\n",
       "   90.0,\n",
       "   92.0,\n",
       "   94.0,\n",
       "   95.0,\n",
       "   96.0,\n",
       "   99.0,\n",
       "   106.0,\n",
       "   105.0,\n",
       "   117.0,\n",
       "   118.0,\n",
       "   122.0,\n",
       "   131.0,\n",
       "   102.0,\n",
       "   107.0,\n",
       "   108.0,\n",
       "   125.0,\n",
       "   129.0,\n",
       "   130.0,\n",
       "   135.0,\n",
       "   100.0,\n",
       "   104.0,\n",
       "   109.0,\n",
       "   112.0,\n",
       "   120.0,\n",
       "   124.0,\n",
       "   132.0,\n",
       "   136.0,\n",
       "   139.0,\n",
       "   140.0,\n",
       "   143.0,\n",
       "   144.0,\n",
       "   77.0,\n",
       "   103.0,\n",
       "   110.0,\n",
       "   111.0,\n",
       "   115.0,\n",
       "   116.0,\n",
       "   128.0,\n",
       "   137.0,\n",
       "   141.0,\n",
       "   145.0,\n",
       "   147.0,\n",
       "   148.0])]"
      ]
     },
     "execution_count": 76,
     "metadata": {},
     "output_type": "execute_result"
    }
   ],
   "source": [
    "result_clustering.collect()"
   ]
  },
  {
   "cell_type": "code",
   "execution_count": 77,
   "metadata": {
    "collapsed": false
   },
   "outputs": [
    {
     "data": {
      "text/plain": [
       "[(1.0, 48.0),\n",
       " (2.0, 48.0),\n",
       " (3.0, 48.0),\n",
       " (6.0, 48.0),\n",
       " (7.0, 48.0),\n",
       " (8.0, 48.0),\n",
       " (9.0, 48.0),\n",
       " (11.0, 48.0),\n",
       " (12.0, 48.0),\n",
       " (13.0, 48.0),\n",
       " (22.0, 48.0),\n",
       " (24.0, 48.0),\n",
       " (25.0, 48.0),\n",
       " (29.0, 48.0),\n",
       " (30.0, 48.0),\n",
       " (34.0, 48.0),\n",
       " (35.0, 48.0),\n",
       " (37.0, 48.0),\n",
       " (38.0, 48.0),\n",
       " (41.0, 48.0),\n",
       " (42.0, 48.0),\n",
       " (45.0, 48.0),\n",
       " (47.0, 48.0),\n",
       " (49.0, 48.0),\n",
       " (0.0, 48.0),\n",
       " (4.0, 48.0),\n",
       " (5.0, 48.0),\n",
       " (10.0, 48.0),\n",
       " (14.0, 48.0),\n",
       " (15.0, 48.0),\n",
       " (16.0, 48.0),\n",
       " (17.0, 48.0),\n",
       " (18.0, 48.0),\n",
       " (19.0, 48.0),\n",
       " (20.0, 48.0),\n",
       " (21.0, 48.0),\n",
       " (23.0, 48.0),\n",
       " (26.0, 48.0),\n",
       " (27.0, 48.0),\n",
       " (28.0, 48.0),\n",
       " (31.0, 48.0),\n",
       " (32.0, 48.0),\n",
       " (33.0, 48.0),\n",
       " (36.0, 48.0),\n",
       " (39.0, 48.0),\n",
       " (40.0, 48.0),\n",
       " (43.0, 48.0),\n",
       " (44.0, 48.0),\n",
       " (46.0, 48.0),\n",
       " (48.0, 48.0),\n",
       " (50.0, 58.0),\n",
       " (51.0, 58.0),\n",
       " (52.0, 58.0),\n",
       " (54.0, 58.0),\n",
       " (58.0, 58.0),\n",
       " (65.0, 58.0),\n",
       " (74.0, 58.0),\n",
       " (75.0, 58.0),\n",
       " (76.0, 58.0),\n",
       " (55.0, 58.0),\n",
       " (56.0, 58.0),\n",
       " (61.0, 58.0),\n",
       " (63.0, 58.0),\n",
       " (66.0, 58.0),\n",
       " (68.0, 58.0),\n",
       " (70.0, 58.0),\n",
       " (72.0, 58.0),\n",
       " (73.0, 58.0),\n",
       " (53.0, 58.0),\n",
       " (57.0, 58.0),\n",
       " (59.0, 58.0),\n",
       " (60.0, 58.0),\n",
       " (62.0, 58.0),\n",
       " (64.0, 58.0),\n",
       " (67.0, 58.0),\n",
       " (69.0, 58.0),\n",
       " (71.0, 58.0),\n",
       " (79.0, 58.0),\n",
       " (80.0, 58.0),\n",
       " (81.0, 58.0),\n",
       " (93.0, 58.0),\n",
       " (98.0, 58.0),\n",
       " (83.0, 58.0),\n",
       " (101.0, 58.0),\n",
       " (113.0, 58.0),\n",
       " (114.0, 58.0),\n",
       " (119.0, 58.0),\n",
       " (121.0, 58.0),\n",
       " (123.0, 58.0),\n",
       " (126.0, 58.0),\n",
       " (127.0, 58.0),\n",
       " (133.0, 58.0),\n",
       " (134.0, 58.0),\n",
       " (142.0, 58.0),\n",
       " (146.0, 58.0),\n",
       " (149.0, 58.0),\n",
       " (78.0, 58.0),\n",
       " (85.0, 58.0),\n",
       " (86.0, 58.0),\n",
       " (87.0, 58.0),\n",
       " (91.0, 58.0),\n",
       " (97.0, 58.0),\n",
       " (138.0, 58.0),\n",
       " (82.0, 58.0),\n",
       " (84.0, 58.0),\n",
       " (88.0, 58.0),\n",
       " (89.0, 58.0),\n",
       " (90.0, 58.0),\n",
       " (92.0, 58.0),\n",
       " (94.0, 58.0),\n",
       " (95.0, 58.0),\n",
       " (96.0, 58.0),\n",
       " (99.0, 58.0),\n",
       " (106.0, 58.0),\n",
       " (105.0, 58.0),\n",
       " (117.0, 58.0),\n",
       " (118.0, 58.0),\n",
       " (122.0, 58.0),\n",
       " (131.0, 58.0),\n",
       " (102.0, 58.0),\n",
       " (107.0, 58.0),\n",
       " (108.0, 58.0),\n",
       " (125.0, 58.0),\n",
       " (129.0, 58.0),\n",
       " (130.0, 58.0),\n",
       " (135.0, 58.0),\n",
       " (100.0, 58.0),\n",
       " (104.0, 58.0),\n",
       " (109.0, 58.0),\n",
       " (112.0, 58.0),\n",
       " (120.0, 58.0),\n",
       " (124.0, 58.0),\n",
       " (132.0, 58.0),\n",
       " (136.0, 58.0),\n",
       " (139.0, 58.0),\n",
       " (140.0, 58.0),\n",
       " (143.0, 58.0),\n",
       " (144.0, 58.0),\n",
       " (77.0, 58.0),\n",
       " (103.0, 58.0),\n",
       " (110.0, 58.0),\n",
       " (111.0, 58.0),\n",
       " (115.0, 58.0),\n",
       " (116.0, 58.0),\n",
       " (128.0, 58.0),\n",
       " (137.0, 58.0),\n",
       " (141.0, 58.0),\n",
       " (145.0, 58.0),\n",
       " (147.0, 58.0),\n",
       " (148.0, 58.0)]"
      ]
     },
     "execution_count": 77,
     "metadata": {},
     "output_type": "execute_result"
    }
   ],
   "source": [
    "result_clustering.flatMap(lambda (center, points) : [(point, center) for point in points]).collect()"
   ]
  },
  {
   "cell_type": "markdown",
   "metadata": {},
   "source": [
    "Visualize results"
   ]
  },
  {
   "cell_type": "code",
   "execution_count": 78,
   "metadata": {
    "collapsed": true
   },
   "outputs": [],
   "source": [
    "import pandas as pd\n",
    "df_res = pd.DataFrame(result_clustering.flatMap(lambda (center, points) : [(point, center) for point in points]).collect())"
   ]
  },
  {
   "cell_type": "code",
   "execution_count": 79,
   "metadata": {
    "collapsed": false
   },
   "outputs": [
    {
     "data": {
      "text/html": [
       "<div>\n",
       "<table border=\"1\" class=\"dataframe\">\n",
       "  <thead>\n",
       "    <tr style=\"text-align: right;\">\n",
       "      <th></th>\n",
       "      <th>0</th>\n",
       "      <th>1</th>\n",
       "    </tr>\n",
       "  </thead>\n",
       "  <tbody>\n",
       "    <tr>\n",
       "      <th>0</th>\n",
       "      <td>1.0</td>\n",
       "      <td>48.0</td>\n",
       "    </tr>\n",
       "    <tr>\n",
       "      <th>1</th>\n",
       "      <td>2.0</td>\n",
       "      <td>48.0</td>\n",
       "    </tr>\n",
       "    <tr>\n",
       "      <th>2</th>\n",
       "      <td>3.0</td>\n",
       "      <td>48.0</td>\n",
       "    </tr>\n",
       "    <tr>\n",
       "      <th>3</th>\n",
       "      <td>6.0</td>\n",
       "      <td>48.0</td>\n",
       "    </tr>\n",
       "    <tr>\n",
       "      <th>4</th>\n",
       "      <td>7.0</td>\n",
       "      <td>48.0</td>\n",
       "    </tr>\n",
       "  </tbody>\n",
       "</table>\n",
       "</div>"
      ],
      "text/plain": [
       "     0     1\n",
       "0  1.0  48.0\n",
       "1  2.0  48.0\n",
       "2  3.0  48.0\n",
       "3  6.0  48.0\n",
       "4  7.0  48.0"
      ]
     },
     "execution_count": 79,
     "metadata": {},
     "output_type": "execute_result"
    }
   ],
   "source": [
    "df_res.head()"
   ]
  },
  {
   "cell_type": "code",
   "execution_count": 81,
   "metadata": {
    "collapsed": false
   },
   "outputs": [
    {
     "data": {
      "text/html": [
       "<div>\n",
       "<table border=\"1\" class=\"dataframe\">\n",
       "  <thead>\n",
       "    <tr style=\"text-align: right;\">\n",
       "      <th></th>\n",
       "      <th>Index</th>\n",
       "      <th>Cluster</th>\n",
       "    </tr>\n",
       "  </thead>\n",
       "  <tbody>\n",
       "    <tr>\n",
       "      <th>0</th>\n",
       "      <td>1.0</td>\n",
       "      <td>48.0</td>\n",
       "    </tr>\n",
       "    <tr>\n",
       "      <th>1</th>\n",
       "      <td>2.0</td>\n",
       "      <td>48.0</td>\n",
       "    </tr>\n",
       "    <tr>\n",
       "      <th>2</th>\n",
       "      <td>3.0</td>\n",
       "      <td>48.0</td>\n",
       "    </tr>\n",
       "    <tr>\n",
       "      <th>3</th>\n",
       "      <td>6.0</td>\n",
       "      <td>48.0</td>\n",
       "    </tr>\n",
       "    <tr>\n",
       "      <th>4</th>\n",
       "      <td>7.0</td>\n",
       "      <td>48.0</td>\n",
       "    </tr>\n",
       "  </tbody>\n",
       "</table>\n",
       "</div>"
      ],
      "text/plain": [
       "   Index  Cluster\n",
       "0    1.0     48.0\n",
       "1    2.0     48.0\n",
       "2    3.0     48.0\n",
       "3    6.0     48.0\n",
       "4    7.0     48.0"
      ]
     },
     "execution_count": 81,
     "metadata": {},
     "output_type": "execute_result"
    }
   ],
   "source": [
    "df_res.columns=['Index', 'Cluster']\n",
    "df_res.head()"
   ]
  },
  {
   "cell_type": "code",
   "execution_count": 86,
   "metadata": {
    "collapsed": false
   },
   "outputs": [
    {
     "data": {
      "text/html": [
       "<div>\n",
       "<table border=\"1\" class=\"dataframe\">\n",
       "  <thead>\n",
       "    <tr style=\"text-align: right;\">\n",
       "      <th></th>\n",
       "      <th>0</th>\n",
       "      <th>1</th>\n",
       "      <th>2</th>\n",
       "      <th>3</th>\n",
       "      <th>4</th>\n",
       "    </tr>\n",
       "  </thead>\n",
       "  <tbody>\n",
       "    <tr>\n",
       "      <th>0</th>\n",
       "      <td>0</td>\n",
       "      <td>5.1</td>\n",
       "      <td>3.5</td>\n",
       "      <td>1.4</td>\n",
       "      <td>0.2</td>\n",
       "    </tr>\n",
       "    <tr>\n",
       "      <th>1</th>\n",
       "      <td>1</td>\n",
       "      <td>4.9</td>\n",
       "      <td>3.0</td>\n",
       "      <td>1.4</td>\n",
       "      <td>0.2</td>\n",
       "    </tr>\n",
       "    <tr>\n",
       "      <th>2</th>\n",
       "      <td>2</td>\n",
       "      <td>4.7</td>\n",
       "      <td>3.2</td>\n",
       "      <td>1.3</td>\n",
       "      <td>0.2</td>\n",
       "    </tr>\n",
       "    <tr>\n",
       "      <th>3</th>\n",
       "      <td>3</td>\n",
       "      <td>4.6</td>\n",
       "      <td>3.1</td>\n",
       "      <td>1.5</td>\n",
       "      <td>0.2</td>\n",
       "    </tr>\n",
       "    <tr>\n",
       "      <th>4</th>\n",
       "      <td>4</td>\n",
       "      <td>5.0</td>\n",
       "      <td>3.6</td>\n",
       "      <td>1.4</td>\n",
       "      <td>0.2</td>\n",
       "    </tr>\n",
       "  </tbody>\n",
       "</table>\n",
       "</div>"
      ],
      "text/plain": [
       "   0    1    2    3    4\n",
       "0  0  5.1  3.5  1.4  0.2\n",
       "1  1  4.9  3.0  1.4  0.2\n",
       "2  2  4.7  3.2  1.3  0.2\n",
       "3  3  4.6  3.1  1.5  0.2\n",
       "4  4  5.0  3.6  1.4  0.2"
      ]
     },
     "execution_count": 86,
     "metadata": {},
     "output_type": "execute_result"
    }
   ],
   "source": [
    "data_df = pd.read_csv(\"iris_data_indexed.txt\", header = None)\n",
    "data_df.head()"
   ]
  },
  {
   "cell_type": "code",
   "execution_count": 88,
   "metadata": {
    "collapsed": false
   },
   "outputs": [
    {
     "data": {
      "text/html": [
       "<div>\n",
       "<table border=\"1\" class=\"dataframe\">\n",
       "  <thead>\n",
       "    <tr style=\"text-align: right;\">\n",
       "      <th></th>\n",
       "      <th>Index</th>\n",
       "      <th>Sepal.Length</th>\n",
       "      <th>Sepal.Width</th>\n",
       "      <th>Petal.Length</th>\n",
       "      <th>Petal.Width</th>\n",
       "    </tr>\n",
       "  </thead>\n",
       "  <tbody>\n",
       "    <tr>\n",
       "      <th>0</th>\n",
       "      <td>0</td>\n",
       "      <td>5.1</td>\n",
       "      <td>3.5</td>\n",
       "      <td>1.4</td>\n",
       "      <td>0.2</td>\n",
       "    </tr>\n",
       "    <tr>\n",
       "      <th>1</th>\n",
       "      <td>1</td>\n",
       "      <td>4.9</td>\n",
       "      <td>3.0</td>\n",
       "      <td>1.4</td>\n",
       "      <td>0.2</td>\n",
       "    </tr>\n",
       "    <tr>\n",
       "      <th>2</th>\n",
       "      <td>2</td>\n",
       "      <td>4.7</td>\n",
       "      <td>3.2</td>\n",
       "      <td>1.3</td>\n",
       "      <td>0.2</td>\n",
       "    </tr>\n",
       "    <tr>\n",
       "      <th>3</th>\n",
       "      <td>3</td>\n",
       "      <td>4.6</td>\n",
       "      <td>3.1</td>\n",
       "      <td>1.5</td>\n",
       "      <td>0.2</td>\n",
       "    </tr>\n",
       "    <tr>\n",
       "      <th>4</th>\n",
       "      <td>4</td>\n",
       "      <td>5.0</td>\n",
       "      <td>3.6</td>\n",
       "      <td>1.4</td>\n",
       "      <td>0.2</td>\n",
       "    </tr>\n",
       "  </tbody>\n",
       "</table>\n",
       "</div>"
      ],
      "text/plain": [
       "   Index  Sepal.Length  Sepal.Width  Petal.Length  Petal.Width\n",
       "0      0           5.1          3.5           1.4          0.2\n",
       "1      1           4.9          3.0           1.4          0.2\n",
       "2      2           4.7          3.2           1.3          0.2\n",
       "3      3           4.6          3.1           1.5          0.2\n",
       "4      4           5.0          3.6           1.4          0.2"
      ]
     },
     "execution_count": 88,
     "metadata": {},
     "output_type": "execute_result"
    }
   ],
   "source": [
    "data_df.columns = [\"Index\", \"Sepal.Length\", \"Sepal.Width\", \"Petal.Length\", \"Petal.Width\"]\n",
    "data_df.head()"
   ]
  },
  {
   "cell_type": "code",
   "execution_count": 99,
   "metadata": {
    "collapsed": false
   },
   "outputs": [
    {
     "data": {
      "text/html": [
       "<div>\n",
       "<table border=\"1\" class=\"dataframe\">\n",
       "  <thead>\n",
       "    <tr style=\"text-align: right;\">\n",
       "      <th></th>\n",
       "      <th>Index</th>\n",
       "      <th>Sepal.Length</th>\n",
       "      <th>Sepal.Width</th>\n",
       "      <th>Petal.Length</th>\n",
       "      <th>Petal.Width</th>\n",
       "      <th>Cluster</th>\n",
       "    </tr>\n",
       "  </thead>\n",
       "  <tbody>\n",
       "    <tr>\n",
       "      <th>0</th>\n",
       "      <td>0</td>\n",
       "      <td>5.1</td>\n",
       "      <td>3.5</td>\n",
       "      <td>1.4</td>\n",
       "      <td>0.2</td>\n",
       "      <td>48.0</td>\n",
       "    </tr>\n",
       "    <tr>\n",
       "      <th>1</th>\n",
       "      <td>1</td>\n",
       "      <td>4.9</td>\n",
       "      <td>3.0</td>\n",
       "      <td>1.4</td>\n",
       "      <td>0.2</td>\n",
       "      <td>48.0</td>\n",
       "    </tr>\n",
       "    <tr>\n",
       "      <th>2</th>\n",
       "      <td>2</td>\n",
       "      <td>4.7</td>\n",
       "      <td>3.2</td>\n",
       "      <td>1.3</td>\n",
       "      <td>0.2</td>\n",
       "      <td>48.0</td>\n",
       "    </tr>\n",
       "    <tr>\n",
       "      <th>3</th>\n",
       "      <td>3</td>\n",
       "      <td>4.6</td>\n",
       "      <td>3.1</td>\n",
       "      <td>1.5</td>\n",
       "      <td>0.2</td>\n",
       "      <td>48.0</td>\n",
       "    </tr>\n",
       "    <tr>\n",
       "      <th>4</th>\n",
       "      <td>4</td>\n",
       "      <td>5.0</td>\n",
       "      <td>3.6</td>\n",
       "      <td>1.4</td>\n",
       "      <td>0.2</td>\n",
       "      <td>48.0</td>\n",
       "    </tr>\n",
       "  </tbody>\n",
       "</table>\n",
       "</div>"
      ],
      "text/plain": [
       "   Index  Sepal.Length  Sepal.Width  Petal.Length  Petal.Width  Cluster\n",
       "0      0           5.1          3.5           1.4          0.2     48.0\n",
       "1      1           4.9          3.0           1.4          0.2     48.0\n",
       "2      2           4.7          3.2           1.3          0.2     48.0\n",
       "3      3           4.6          3.1           1.5          0.2     48.0\n",
       "4      4           5.0          3.6           1.4          0.2     48.0"
      ]
     },
     "execution_count": 99,
     "metadata": {},
     "output_type": "execute_result"
    }
   ],
   "source": [
    "final_df = pd.merge(data_df, df_res, left_on = \"Index\", right_on = \"Index\")\n",
    "final_df.head()"
   ]
  },
  {
   "cell_type": "code",
   "execution_count": null,
   "metadata": {
    "collapsed": true
   },
   "outputs": [],
   "source": []
  },
  {
   "cell_type": "code",
   "execution_count": 100,
   "metadata": {
    "collapsed": true
   },
   "outputs": [],
   "source": [
    "import matplotlib.pyplot as plt\n",
    "plt.style.use('ggplot')\n",
    "%matplotlib inline  "
   ]
  },
  {
   "cell_type": "code",
   "execution_count": 105,
   "metadata": {
    "collapsed": false
   },
   "outputs": [
    {
     "data": {
      "text/plain": [
       "<matplotlib.axes._subplots.AxesSubplot at 0xc8d3898>"
      ]
     },
     "execution_count": 105,
     "metadata": {},
     "output_type": "execute_result"
    },
    {
     "data": {
      "image/png": "[encoded data removed]",
      "text/plain": [
       "<matplotlib.figure.Figure at 0xc979358>"
      ]
     },
     "metadata": {},
     "output_type": "display_data"
    }
   ],
   "source": [
    "final_df.plot.scatter(\"Petal.Length\", \"Petal.Width\", c = \"Cluster\" )"
   ]
  },
  {
   "cell_type": "code",
   "execution_count": 106,
   "metadata": {
    "collapsed": false
   },
   "outputs": [
    {
     "data": {
      "text/plain": [
       "<matplotlib.axes._subplots.AxesSubplot at 0xce6a0b8>"
      ]
     },
     "execution_count": 106,
     "metadata": {},
     "output_type": "execute_result"
    },
    {
     "data": {
      "image/png": "[encoded data removed]",
      "text/plain": [
       "<matplotlib.figure.Figure at 0xce70898>"
      ]
     },
     "metadata": {},
     "output_type": "display_data"
    }
   ],
   "source": [
    "final_df.plot.scatter(\"Sepal.Length\", \"Sepal.Width\", c = \"Cluster\" )"
   ]
  },
  {
   "cell_type": "code",
   "execution_count": null,
   "metadata": {
    "collapsed": true
   },
   "outputs": [],
   "source": []
  },
  {
   "cell_type": "code",
   "execution_count": null,
   "metadata": {
    "collapsed": true
   },
   "outputs": [],
   "source": []
  },
  {
   "cell_type": "code",
   "execution_count": null,
   "metadata": {
    "collapsed": true
   },
   "outputs": [],
   "source": []
  },
  {
   "cell_type": "raw",
   "metadata": {},
   "source": [
    "if \"spark\" not in locals():\n",
    "    from pyspark.sql import SparkSession\n",
    "    spark = SparkSession.builder.appName(\"nimportequoi\").getOrCreate()  # à ne faire qu'une fois"
   ]
  },
  {
   "cell_type": "markdown",
   "metadata": {},
   "source": [
    "http://www.datareply.co.uk/blog/2016/9/20/running-graph-analytics-with-spark-graphframes-a-simple-example"
   ]
  },
  {
   "cell_type": "code",
   "execution_count": 39,
   "metadata": {
    "collapsed": true
   },
   "outputs": [],
   "source": [
    "import os\n",
    "os.environ[\"PYSPARK_SUBMIT_ARGS\"] = (\n",
    "    \"--packages graphframes:graphframes:0.2.0-spark2.0-s_2.11 pyspark-shell\"\n",
    ")"
   ]
  },
  {
   "cell_type": "code",
   "execution_count": 2,
   "metadata": {
    "collapsed": false
   },
   "outputs": [
    {
     "ename": "ImportError",
     "evalue": "No module named graphframes.examples",
     "output_type": "error",
     "traceback": [
      "\u001b[1;31m---------------------------------------------------------------------------\u001b[0m",
      "\u001b[1;31mImportError\u001b[0m                               Traceback (most recent call last)",
      "\u001b[1;32m<ipython-input-2-4d99ff41908b>\u001b[0m in \u001b[0;36m<module>\u001b[1;34m()\u001b[0m\n\u001b[1;32m----> 1\u001b[1;33m \u001b[1;32mfrom\u001b[0m \u001b[0mgraphframes\u001b[0m\u001b[1;33m.\u001b[0m\u001b[0mexamples\u001b[0m \u001b[1;32mimport\u001b[0m \u001b[0mGraphs\u001b[0m\u001b[1;33m\u001b[0m\u001b[0m\n\u001b[0m\u001b[0;32m      2\u001b[0m \u001b[0mg\u001b[0m \u001b[1;33m=\u001b[0m \u001b[0mGraphs\u001b[0m\u001b[1;33m(\u001b[0m\u001b[0msqlContext\u001b[0m\u001b[1;33m)\u001b[0m\u001b[1;33m.\u001b[0m\u001b[0mfriends\u001b[0m\u001b[1;33m(\u001b[0m\u001b[1;33m)\u001b[0m\u001b[1;33m\u001b[0m\u001b[0m\n",
      "\u001b[1;31mImportError\u001b[0m: No module named graphframes.examples"
     ]
    }
   ],
   "source": [
    "from graphframes.examples import Graphs\n",
    "g = Graphs(sqlContext).friends()"
   ]
  },
  {
   "cell_type": "code",
   "execution_count": 41,
   "metadata": {
    "collapsed": false
   },
   "outputs": [],
   "source": [
    "e = sqlContext.createDataFrame(edges, [\"v1\", \"v2\"])"
   ]
  },
  {
   "cell_type": "code",
   "execution_count": 42,
   "metadata": {
    "collapsed": false
   },
   "outputs": [
    {
     "data": {
      "text/plain": [
       "[Row(v1=2.0, v2=48.0),\n",
       " Row(v1=58.0, v2=63.0),\n",
       " Row(v1=58.0, v2=69.0),\n",
       " Row(v1=63.0, v2=69.0),\n",
       " Row(v1=58.0, v2=83.0),\n",
       " Row(v1=58.0, v2=91.0),\n",
       " Row(v1=58.0, v2=94.0),\n",
       " Row(v1=58.0, v2=147.0),\n",
       " Row(v1=63.0, v2=81.0),\n",
       " Row(v1=69.0, v2=81.0),\n",
       " Row(v1=63.0, v2=83.0),\n",
       " Row(v1=63.0, v2=91.0),\n",
       " Row(v1=69.0, v2=83.0),\n",
       " Row(v1=69.0, v2=91.0),\n",
       " Row(v1=63.0, v2=94.0),\n",
       " Row(v1=69.0, v2=94.0),\n",
       " Row(v1=63.0, v2=147.0),\n",
       " Row(v1=81.0, v2=91.0),\n",
       " Row(v1=81.0, v2=94.0),\n",
       " Row(v1=83.0, v2=91.0),\n",
       " Row(v1=83.0, v2=94.0),\n",
       " Row(v1=83.0, v2=140.0),\n",
       " Row(v1=91.0, v2=94.0),\n",
       " Row(v1=83.0, v2=147.0),\n",
       " Row(v1=91.0, v2=147.0),\n",
       " Row(v1=105.0, v2=130.0),\n",
       " Row(v1=105.0, v2=140.0),\n",
       " Row(v1=130.0, v2=140.0),\n",
       " Row(v1=130.0, v2=147.0),\n",
       " Row(v1=140.0, v2=147.0)]"
      ]
     },
     "execution_count": 42,
     "metadata": {},
     "output_type": "execute_result"
    }
   ],
   "source": [
    "e.collect()"
   ]
  },
  {
   "cell_type": "code",
   "execution_count": null,
   "metadata": {
    "collapsed": true
   },
   "outputs": [],
   "source": [
    "v ="
   ]
  },
  {
   "cell_type": "code",
   "execution_count": 26,
   "metadata": {
    "collapsed": false
   },
   "outputs": [
    {
     "name": "stdout",
     "output_type": "stream",
     "text": [
      "-- remaing steps: 4 found_new_pair: 0\n"
     ]
    },
    {
     "data": {
      "text/plain": [
       "[('e', ['d']), ('c', ['b']), ('b', ['a', 'g']), ('f', ['d'])]"
      ]
     },
     "execution_count": 26,
     "metadata": {},
     "output_type": "execute_result"
    }
   ],
   "source": [
    "edges2 = sc.parallelize([\n",
    "        (\"a\", \"b\"),\n",
    "        (\"b\", \"c\"),\n",
    "        (\"d\", \"e\"),\n",
    "        (\"d\", \"f\"),\n",
    "        (\"g\", \"b\")\n",
    "    ])\n",
    "\n",
    "vertices_to_roots = ccf.ccf_run(sc, edges2, max_iters=5)\n",
    "root_to_children = ccf.ccf_group_by_root(vertices_to_roots)\n",
    "root_to_children.collect()"
   ]
  },
  {
   "cell_type": "code",
   "execution_count": 130,
   "metadata": {
    "collapsed": false
   },
   "outputs": [
    {
     "data": {
      "text/plain": [
       "[Row(id=0, score=1),\n",
       " Row(id=0, score=1),\n",
       " Row(id=0, score=2),\n",
       " Row(id=1, score=2),\n",
       " Row(id=1, score=10),\n",
       " Row(id=1, score=20),\n",
       " Row(id=3, score=18),\n",
       " Row(id=3, score=18),\n",
       " Row(id=3, score=18)]"
      ]
     },
     "execution_count": 130,
     "metadata": {},
     "output_type": "execute_result"
    }
   ],
   "source": [
    "y = sc.parallelize([(0,1), (0,1), (0,2), (1,2), (1,10), (1,20), (3,18), (3,18), (3,18)])\n",
    "sqlContext.createDataFrame(y, [\"id\", \"score\"]).collect()"
   ]
  },
  {
   "cell_type": "code",
   "execution_count": 87,
   "metadata": {
    "collapsed": false
   },
   "outputs": [
    {
     "data": {
      "text/plain": [
       "[('a', (2, 2)), ('a', (2, 3)), ('a', (3, 2)), ('a', (3, 3))]"
      ]
     },
     "execution_count": 87,
     "metadata": {},
     "output_type": "execute_result"
    }
   ],
   "source": [
    "y = sc.parallelize([(\"a\", 2), (\"a\", 3)])\n",
    "sorted(y.join(y).collect())"
   ]
  },
  {
   "cell_type": "code",
   "execution_count": 120,
   "metadata": {
    "collapsed": false
   },
   "outputs": [
    {
     "data": {
      "text/plain": [
       "[(1, 300), (1, 300), (2, 300), (2, 300)]"
      ]
     },
     "execution_count": 120,
     "metadata": {},
     "output_type": "execute_result"
    }
   ],
   "source": [
    "y = sc.parallelize([1, 2])\n",
    "sorted(y.cartesian(y).map(lambda u : (u[0],300)).collect())"
   ]
  }
 ],
 "metadata": {
  "kernelspec": {
   "display_name": "Python 2",
   "language": "python",
   "name": "python2"
  },
  "language_info": {
   "codemirror_mode": {
    "name": "ipython",
    "version": 2
   },
   "file_extension": ".py",
   "mimetype": "text/x-python",
   "name": "python",
   "nbconvert_exporter": "python",
   "pygments_lexer": "ipython2",
   "version": "2.7.12"
  }
 },
 "nbformat": 4,
 "nbformat_minor": 0
}
